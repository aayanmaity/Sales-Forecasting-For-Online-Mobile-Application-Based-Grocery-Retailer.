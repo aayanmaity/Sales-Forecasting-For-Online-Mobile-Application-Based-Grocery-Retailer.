{
 "cells": [
  {
   "cell_type": "markdown",
   "metadata": {
    "id": "49MhEzKCsbr_"
   },
   "source": [
    "# Loading important libraries"
   ]
  },
  {
   "cell_type": "code",
   "execution_count": null,
   "metadata": {
    "id": "LIw7-yT6pCmX"
   },
   "outputs": [],
   "source": [
    "import numpy as np\n",
    "import pandas as pd\n",
    "\n",
    "import warnings\n",
    "warnings.filterwarnings(\"ignore\")\n",
    "\n",
    "import tensorflow as tf\n",
    "import tensorflow.keras.backend as K\n",
    "\n",
    "from tensorflow.keras.models import Sequential, Model\n",
    "from tensorflow.keras.layers import Dense, Dropout, Activation, Input, Embedding, concatenate, Flatten\n",
    "from tensorflow.keras.optimizers import Adam"
   ]
  },
  {
   "cell_type": "markdown",
   "metadata": {
    "id": "Ae4he-A3tAtl"
   },
   "source": [
    "# Loading the data"
   ]
  },
  {
   "cell_type": "code",
   "execution_count": null,
   "metadata": {
    "id": "jU8N3lojs3S_"
   },
   "outputs": [],
   "source": [
    "train_subset = pd.read_csv(\"/content/drive/MyDrive/FinalHack Datasets/train_subset.csv\",parse_dates = ['date'])\n",
    "\n",
    "test = pd.read_csv(\"/content/drive/MyDrive/FinalHack Datasets/test.csv\",parse_dates = ['date'])"
   ]
  },
  {
   "cell_type": "code",
   "execution_count": null,
   "metadata": {
    "colab": {
     "base_uri": "https://localhost:8080/",
     "height": 200
    },
    "id": "bP2HixJ9D8S7",
    "outputId": "6dedae98-38f7-4453-b889-3cb6949e1923"
   },
   "outputs": [
    {
     "data": {
      "text/html": [
       "<div>\n",
       "<style scoped>\n",
       "    .dataframe tbody tr th:only-of-type {\n",
       "        vertical-align: middle;\n",
       "    }\n",
       "\n",
       "    .dataframe tbody tr th {\n",
       "        vertical-align: top;\n",
       "    }\n",
       "\n",
       "    .dataframe thead th {\n",
       "        text-align: right;\n",
       "    }\n",
       "</style>\n",
       "<table border=\"1\" class=\"dataframe\">\n",
       "  <thead>\n",
       "    <tr style=\"text-align: right;\">\n",
       "      <th></th>\n",
       "      <th>locationId</th>\n",
       "      <th>item_id</th>\n",
       "      <th>unit_sales</th>\n",
       "      <th>onpromotion</th>\n",
       "      <th>Month</th>\n",
       "      <th>Day</th>\n",
       "      <th>Week</th>\n",
       "    </tr>\n",
       "  </thead>\n",
       "  <tbody>\n",
       "    <tr>\n",
       "      <th>0</th>\n",
       "      <td>location_25</td>\n",
       "      <td>item_105574</td>\n",
       "      <td>12.0</td>\n",
       "      <td>False</td>\n",
       "      <td>1</td>\n",
       "      <td>1</td>\n",
       "      <td>0</td>\n",
       "    </tr>\n",
       "    <tr>\n",
       "      <th>1</th>\n",
       "      <td>location_25</td>\n",
       "      <td>item_105575</td>\n",
       "      <td>9.0</td>\n",
       "      <td>False</td>\n",
       "      <td>1</td>\n",
       "      <td>1</td>\n",
       "      <td>0</td>\n",
       "    </tr>\n",
       "    <tr>\n",
       "      <th>2</th>\n",
       "      <td>location_25</td>\n",
       "      <td>item_105857</td>\n",
       "      <td>3.0</td>\n",
       "      <td>False</td>\n",
       "      <td>1</td>\n",
       "      <td>1</td>\n",
       "      <td>0</td>\n",
       "    </tr>\n",
       "    <tr>\n",
       "      <th>3</th>\n",
       "      <td>location_25</td>\n",
       "      <td>item_108634</td>\n",
       "      <td>3.0</td>\n",
       "      <td>False</td>\n",
       "      <td>1</td>\n",
       "      <td>1</td>\n",
       "      <td>0</td>\n",
       "    </tr>\n",
       "    <tr>\n",
       "      <th>4</th>\n",
       "      <td>location_25</td>\n",
       "      <td>item_108701</td>\n",
       "      <td>2.0</td>\n",
       "      <td>True</td>\n",
       "      <td>1</td>\n",
       "      <td>1</td>\n",
       "      <td>0</td>\n",
       "    </tr>\n",
       "  </tbody>\n",
       "</table>\n",
       "</div>"
      ],
      "text/plain": [
       "    locationId      item_id  unit_sales  onpromotion  Month  Day  Week\n",
       "0  location_25  item_105574        12.0        False      1    1     0\n",
       "1  location_25  item_105575         9.0        False      1    1     0\n",
       "2  location_25  item_105857         3.0        False      1    1     0\n",
       "3  location_25  item_108634         3.0        False      1    1     0\n",
       "4  location_25  item_108701         2.0         True      1    1     0"
      ]
     },
     "execution_count": 5,
     "metadata": {
      "tags": []
     },
     "output_type": "execute_result"
    }
   ],
   "source": [
    "train_subset['Month'] =pd.DatetimeIndex(train_subset['date']).month.astype('int8')\n",
    "train_subset['Day'] =pd.DatetimeIndex(train_subset['date']).day.astype('int8')\n",
    "train_subset['Week'] =pd.DatetimeIndex(train_subset['date']).weekday.astype('int8')\n",
    "\n",
    "train_subset = train_subset.drop(['Unnamed: 0','date'],axis = 1)\n",
    "\n",
    "\n",
    "train_subset.head()"
   ]
  },
  {
   "cell_type": "code",
   "execution_count": null,
   "metadata": {
    "colab": {
     "base_uri": "https://localhost:8080/",
     "height": 200
    },
    "id": "x6ZwFHHppfJ2",
    "outputId": "db207f47-1dea-4fb7-ce11-f18dbd195605"
   },
   "outputs": [
    {
     "data": {
      "text/html": [
       "<div>\n",
       "<style scoped>\n",
       "    .dataframe tbody tr th:only-of-type {\n",
       "        vertical-align: middle;\n",
       "    }\n",
       "\n",
       "    .dataframe tbody tr th {\n",
       "        vertical-align: top;\n",
       "    }\n",
       "\n",
       "    .dataframe thead th {\n",
       "        text-align: right;\n",
       "    }\n",
       "</style>\n",
       "<table border=\"1\" class=\"dataframe\">\n",
       "  <thead>\n",
       "    <tr style=\"text-align: right;\">\n",
       "      <th></th>\n",
       "      <th>locationId</th>\n",
       "      <th>item_id</th>\n",
       "      <th>onpromotion</th>\n",
       "      <th>Month</th>\n",
       "      <th>Day</th>\n",
       "      <th>Week</th>\n",
       "    </tr>\n",
       "  </thead>\n",
       "  <tbody>\n",
       "    <tr>\n",
       "      <th>0</th>\n",
       "      <td>location_25</td>\n",
       "      <td>item_99197</td>\n",
       "      <td>False</td>\n",
       "      <td>1</td>\n",
       "      <td>1</td>\n",
       "      <td>1</td>\n",
       "    </tr>\n",
       "    <tr>\n",
       "      <th>1</th>\n",
       "      <td>location_25</td>\n",
       "      <td>item_103665</td>\n",
       "      <td>False</td>\n",
       "      <td>1</td>\n",
       "      <td>1</td>\n",
       "      <td>1</td>\n",
       "    </tr>\n",
       "    <tr>\n",
       "      <th>2</th>\n",
       "      <td>location_25</td>\n",
       "      <td>item_105574</td>\n",
       "      <td>False</td>\n",
       "      <td>1</td>\n",
       "      <td>1</td>\n",
       "      <td>1</td>\n",
       "    </tr>\n",
       "    <tr>\n",
       "      <th>3</th>\n",
       "      <td>location_25</td>\n",
       "      <td>item_105857</td>\n",
       "      <td>False</td>\n",
       "      <td>1</td>\n",
       "      <td>1</td>\n",
       "      <td>1</td>\n",
       "    </tr>\n",
       "    <tr>\n",
       "      <th>4</th>\n",
       "      <td>location_25</td>\n",
       "      <td>item_106716</td>\n",
       "      <td>False</td>\n",
       "      <td>1</td>\n",
       "      <td>1</td>\n",
       "      <td>1</td>\n",
       "    </tr>\n",
       "  </tbody>\n",
       "</table>\n",
       "</div>"
      ],
      "text/plain": [
       "    locationId      item_id  onpromotion  Month  Day  Week\n",
       "0  location_25   item_99197        False      1    1     1\n",
       "1  location_25  item_103665        False      1    1     1\n",
       "2  location_25  item_105574        False      1    1     1\n",
       "3  location_25  item_105857        False      1    1     1\n",
       "4  location_25  item_106716        False      1    1     1"
      ]
     },
     "execution_count": 6,
     "metadata": {
      "tags": []
     },
     "output_type": "execute_result"
    }
   ],
   "source": [
    "test['Month'] =pd.DatetimeIndex(test['date']).month.astype('int8')\n",
    "test['Day'] =pd.DatetimeIndex(test['date']).day.astype('int8')\n",
    "test['Week'] =pd.DatetimeIndex(test['date']).weekday.astype('int8')\n",
    "\n",
    "ID = test['id']\n",
    "\n",
    "test = test.drop(['id','date'],axis = 1)\n",
    "\n",
    "\n",
    "test.head()"
   ]
  },
  {
   "cell_type": "code",
   "execution_count": null,
   "metadata": {
    "id": "sOS2SLpamd7V"
   },
   "outputs": [],
   "source": [
    "### Removing negative values in train data \n",
    "\n",
    "train_subset = train_subset[(train_subset['unit_sales']>0)]"
   ]
  },
  {
   "cell_type": "code",
   "execution_count": null,
   "metadata": {
    "colab": {
     "base_uri": "https://localhost:8080/"
    },
    "id": "_KhptuYwmiM-",
    "outputId": "08ec2131-c487-4e75-b77d-d6941ebfb6df"
   },
   "outputs": [
    {
     "name": "stdout",
     "output_type": "stream",
     "text": [
      "2.0 8.0\n",
      "6.0\n",
      "-7.0 17.0\n"
     ]
    }
   ],
   "source": [
    "### Removing outliers \n",
    "\n",
    "Q1 = train_subset.unit_sales.quantile(0.25)\n",
    "Q3 = train_subset.unit_sales.quantile(0.75)\n",
    "print(Q1,Q3)\n",
    "\n",
    "\n",
    "IQR = Q3 - Q1\n",
    "print(IQR)\n",
    "\n",
    "lower_limit = Q1 - 1.5*IQR\n",
    "upper_limit = Q3 + 1.5*IQR\n",
    "print( lower_limit,upper_limit)\n",
    "\n",
    "\n",
    "train_subset = train_subset[(train_subset.unit_sales < upper_limit)]"
   ]
  },
  {
   "cell_type": "code",
   "execution_count": null,
   "metadata": {
    "colab": {
     "base_uri": "https://localhost:8080/"
    },
    "id": "75mc-J-kmz5u",
    "outputId": "f66a3865-5884-4ae2-c40a-e466127bc601"
   },
   "outputs": [
    {
     "name": "stdout",
     "output_type": "stream",
     "text": [
      "locationId\n",
      "item_id\n",
      "locationId\n",
      "item_id\n"
     ]
    }
   ],
   "source": [
    "## Label Encoding \n",
    "\n",
    "\n",
    "from sklearn import preprocessing\n",
    "def df_lbl_enc(df):\n",
    "    for c in df.columns:\n",
    "        if df[c].dtype == 'object':\n",
    "            lbl = preprocessing.LabelEncoder()\n",
    "            df[c] = lbl.fit_transform(df[c])\n",
    "            print(c)\n",
    "    return df\n",
    "\n",
    "\n",
    "train_subset = df_lbl_enc(train_subset)\n",
    "X_test = df_lbl_enc(test)"
   ]
  },
  {
   "cell_type": "code",
   "execution_count": null,
   "metadata": {
    "id": "YdNdg5dzn3BE"
   },
   "outputs": [],
   "source": [
    " from sklearn.preprocessing import LabelEncoder\n",
    " \n",
    " lb = LabelEncoder()\n",
    "\n",
    " train_subset['onpromotion']= lb.fit_transform(train_subset['onpromotion'])\n",
    "\n",
    "X_test['onpromotion']= lb.fit_transform(X_test['onpromotion'])"
   ]
  },
  {
   "cell_type": "code",
   "execution_count": null,
   "metadata": {
    "colab": {
     "base_uri": "https://localhost:8080/",
     "height": 200
    },
    "id": "G73oT9MMnuei",
    "outputId": "63250483-5cf9-47b4-c69f-5e35d30cc24f"
   },
   "outputs": [
    {
     "data": {
      "text/html": [
       "<div>\n",
       "<style scoped>\n",
       "    .dataframe tbody tr th:only-of-type {\n",
       "        vertical-align: middle;\n",
       "    }\n",
       "\n",
       "    .dataframe tbody tr th {\n",
       "        vertical-align: top;\n",
       "    }\n",
       "\n",
       "    .dataframe thead th {\n",
       "        text-align: right;\n",
       "    }\n",
       "</style>\n",
       "<table border=\"1\" class=\"dataframe\">\n",
       "  <thead>\n",
       "    <tr style=\"text-align: right;\">\n",
       "      <th></th>\n",
       "      <th>locationId</th>\n",
       "      <th>item_id</th>\n",
       "      <th>unit_sales</th>\n",
       "      <th>onpromotion</th>\n",
       "      <th>Month</th>\n",
       "      <th>Day</th>\n",
       "      <th>Week</th>\n",
       "    </tr>\n",
       "  </thead>\n",
       "  <tbody>\n",
       "    <tr>\n",
       "      <th>0</th>\n",
       "      <td>17</td>\n",
       "      <td>120</td>\n",
       "      <td>12.0</td>\n",
       "      <td>0</td>\n",
       "      <td>1</td>\n",
       "      <td>1</td>\n",
       "      <td>0</td>\n",
       "    </tr>\n",
       "    <tr>\n",
       "      <th>1</th>\n",
       "      <td>17</td>\n",
       "      <td>121</td>\n",
       "      <td>9.0</td>\n",
       "      <td>0</td>\n",
       "      <td>1</td>\n",
       "      <td>1</td>\n",
       "      <td>0</td>\n",
       "    </tr>\n",
       "    <tr>\n",
       "      <th>2</th>\n",
       "      <td>17</td>\n",
       "      <td>133</td>\n",
       "      <td>3.0</td>\n",
       "      <td>0</td>\n",
       "      <td>1</td>\n",
       "      <td>1</td>\n",
       "      <td>0</td>\n",
       "    </tr>\n",
       "    <tr>\n",
       "      <th>3</th>\n",
       "      <td>17</td>\n",
       "      <td>194</td>\n",
       "      <td>3.0</td>\n",
       "      <td>0</td>\n",
       "      <td>1</td>\n",
       "      <td>1</td>\n",
       "      <td>0</td>\n",
       "    </tr>\n",
       "    <tr>\n",
       "      <th>4</th>\n",
       "      <td>17</td>\n",
       "      <td>197</td>\n",
       "      <td>2.0</td>\n",
       "      <td>1</td>\n",
       "      <td>1</td>\n",
       "      <td>1</td>\n",
       "      <td>0</td>\n",
       "    </tr>\n",
       "  </tbody>\n",
       "</table>\n",
       "</div>"
      ],
      "text/plain": [
       "   locationId  item_id  unit_sales  onpromotion  Month  Day  Week\n",
       "0          17      120        12.0            0      1    1     0\n",
       "1          17      121         9.0            0      1    1     0\n",
       "2          17      133         3.0            0      1    1     0\n",
       "3          17      194         3.0            0      1    1     0\n",
       "4          17      197         2.0            1      1    1     0"
      ]
     },
     "execution_count": 11,
     "metadata": {
      "tags": []
     },
     "output_type": "execute_result"
    }
   ],
   "source": [
    "train_subset.head()"
   ]
  },
  {
   "cell_type": "code",
   "execution_count": null,
   "metadata": {
    "colab": {
     "base_uri": "https://localhost:8080/",
     "height": 200
    },
    "id": "BA7Q15C2rX3A",
    "outputId": "404e30cf-08e4-4c87-a87c-51c6acb45061"
   },
   "outputs": [
    {
     "data": {
      "text/html": [
       "<div>\n",
       "<style scoped>\n",
       "    .dataframe tbody tr th:only-of-type {\n",
       "        vertical-align: middle;\n",
       "    }\n",
       "\n",
       "    .dataframe tbody tr th {\n",
       "        vertical-align: top;\n",
       "    }\n",
       "\n",
       "    .dataframe thead th {\n",
       "        text-align: right;\n",
       "    }\n",
       "</style>\n",
       "<table border=\"1\" class=\"dataframe\">\n",
       "  <thead>\n",
       "    <tr style=\"text-align: right;\">\n",
       "      <th></th>\n",
       "      <th>locationId</th>\n",
       "      <th>item_id</th>\n",
       "      <th>onpromotion</th>\n",
       "      <th>Month</th>\n",
       "      <th>Day</th>\n",
       "      <th>Week</th>\n",
       "    </tr>\n",
       "  </thead>\n",
       "  <tbody>\n",
       "    <tr>\n",
       "      <th>0</th>\n",
       "      <td>17</td>\n",
       "      <td>4008</td>\n",
       "      <td>0</td>\n",
       "      <td>1</td>\n",
       "      <td>1</td>\n",
       "      <td>1</td>\n",
       "    </tr>\n",
       "    <tr>\n",
       "      <th>1</th>\n",
       "      <td>17</td>\n",
       "      <td>45</td>\n",
       "      <td>0</td>\n",
       "      <td>1</td>\n",
       "      <td>1</td>\n",
       "      <td>1</td>\n",
       "    </tr>\n",
       "    <tr>\n",
       "      <th>2</th>\n",
       "      <td>17</td>\n",
       "      <td>120</td>\n",
       "      <td>0</td>\n",
       "      <td>1</td>\n",
       "      <td>1</td>\n",
       "      <td>1</td>\n",
       "    </tr>\n",
       "    <tr>\n",
       "      <th>3</th>\n",
       "      <td>17</td>\n",
       "      <td>133</td>\n",
       "      <td>0</td>\n",
       "      <td>1</td>\n",
       "      <td>1</td>\n",
       "      <td>1</td>\n",
       "    </tr>\n",
       "    <tr>\n",
       "      <th>4</th>\n",
       "      <td>17</td>\n",
       "      <td>144</td>\n",
       "      <td>0</td>\n",
       "      <td>1</td>\n",
       "      <td>1</td>\n",
       "      <td>1</td>\n",
       "    </tr>\n",
       "  </tbody>\n",
       "</table>\n",
       "</div>"
      ],
      "text/plain": [
       "   locationId  item_id  onpromotion  Month  Day  Week\n",
       "0          17     4008            0      1    1     1\n",
       "1          17       45            0      1    1     1\n",
       "2          17      120            0      1    1     1\n",
       "3          17      133            0      1    1     1\n",
       "4          17      144            0      1    1     1"
      ]
     },
     "execution_count": 12,
     "metadata": {
      "tags": []
     },
     "output_type": "execute_result"
    }
   ],
   "source": [
    "X_test.head()"
   ]
  },
  {
   "cell_type": "code",
   "execution_count": null,
   "metadata": {
    "id": "gjtcs3dtG5pL"
   },
   "outputs": [],
   "source": [
    "#cat_cols = ['locationId','item_id','onpromotion','category_of_item','class','Month','Day','Week']"
   ]
  },
  {
   "cell_type": "code",
   "execution_count": null,
   "metadata": {
    "id": "lkhVDtdYHjjM"
   },
   "outputs": [],
   "source": [
    "X_train = train_subset.drop(['unit_sales'], axis = 1)\n",
    "\n",
    "y_train = train_subset['unit_sales'].values\n"
   ]
  },
  {
   "cell_type": "code",
   "execution_count": null,
   "metadata": {
    "colab": {
     "base_uri": "https://localhost:8080/",
     "height": 411
    },
    "id": "1PE_Sgx8HmOF",
    "outputId": "d5636eca-cf43-4bbc-9f2e-77afad809c33"
   },
   "outputs": [
    {
     "data": {
      "text/html": [
       "<div>\n",
       "<style scoped>\n",
       "    .dataframe tbody tr th:only-of-type {\n",
       "        vertical-align: middle;\n",
       "    }\n",
       "\n",
       "    .dataframe tbody tr th {\n",
       "        vertical-align: top;\n",
       "    }\n",
       "\n",
       "    .dataframe thead th {\n",
       "        text-align: right;\n",
       "    }\n",
       "</style>\n",
       "<table border=\"1\" class=\"dataframe\">\n",
       "  <thead>\n",
       "    <tr style=\"text-align: right;\">\n",
       "      <th></th>\n",
       "      <th>locationId</th>\n",
       "      <th>item_id</th>\n",
       "      <th>onpromotion</th>\n",
       "      <th>Month</th>\n",
       "      <th>Day</th>\n",
       "      <th>Week</th>\n",
       "    </tr>\n",
       "  </thead>\n",
       "  <tbody>\n",
       "    <tr>\n",
       "      <th>0</th>\n",
       "      <td>17</td>\n",
       "      <td>120</td>\n",
       "      <td>0</td>\n",
       "      <td>1</td>\n",
       "      <td>1</td>\n",
       "      <td>0</td>\n",
       "    </tr>\n",
       "    <tr>\n",
       "      <th>1</th>\n",
       "      <td>17</td>\n",
       "      <td>121</td>\n",
       "      <td>0</td>\n",
       "      <td>1</td>\n",
       "      <td>1</td>\n",
       "      <td>0</td>\n",
       "    </tr>\n",
       "    <tr>\n",
       "      <th>2</th>\n",
       "      <td>17</td>\n",
       "      <td>133</td>\n",
       "      <td>0</td>\n",
       "      <td>1</td>\n",
       "      <td>1</td>\n",
       "      <td>0</td>\n",
       "    </tr>\n",
       "    <tr>\n",
       "      <th>3</th>\n",
       "      <td>17</td>\n",
       "      <td>194</td>\n",
       "      <td>0</td>\n",
       "      <td>1</td>\n",
       "      <td>1</td>\n",
       "      <td>0</td>\n",
       "    </tr>\n",
       "    <tr>\n",
       "      <th>4</th>\n",
       "      <td>17</td>\n",
       "      <td>197</td>\n",
       "      <td>1</td>\n",
       "      <td>1</td>\n",
       "      <td>1</td>\n",
       "      <td>0</td>\n",
       "    </tr>\n",
       "    <tr>\n",
       "      <th>...</th>\n",
       "      <td>...</td>\n",
       "      <td>...</td>\n",
       "      <td>...</td>\n",
       "      <td>...</td>\n",
       "      <td>...</td>\n",
       "      <td>...</td>\n",
       "    </tr>\n",
       "    <tr>\n",
       "      <th>21679746</th>\n",
       "      <td>48</td>\n",
       "      <td>2399</td>\n",
       "      <td>0</td>\n",
       "      <td>8</td>\n",
       "      <td>15</td>\n",
       "      <td>2</td>\n",
       "    </tr>\n",
       "    <tr>\n",
       "      <th>21679747</th>\n",
       "      <td>48</td>\n",
       "      <td>2400</td>\n",
       "      <td>0</td>\n",
       "      <td>8</td>\n",
       "      <td>15</td>\n",
       "      <td>2</td>\n",
       "    </tr>\n",
       "    <tr>\n",
       "      <th>21679748</th>\n",
       "      <td>48</td>\n",
       "      <td>2402</td>\n",
       "      <td>0</td>\n",
       "      <td>8</td>\n",
       "      <td>15</td>\n",
       "      <td>2</td>\n",
       "    </tr>\n",
       "    <tr>\n",
       "      <th>21679749</th>\n",
       "      <td>48</td>\n",
       "      <td>2403</td>\n",
       "      <td>0</td>\n",
       "      <td>8</td>\n",
       "      <td>15</td>\n",
       "      <td>2</td>\n",
       "    </tr>\n",
       "    <tr>\n",
       "      <th>21679750</th>\n",
       "      <td>48</td>\n",
       "      <td>2404</td>\n",
       "      <td>0</td>\n",
       "      <td>8</td>\n",
       "      <td>15</td>\n",
       "      <td>2</td>\n",
       "    </tr>\n",
       "  </tbody>\n",
       "</table>\n",
       "<p>19356963 rows × 6 columns</p>\n",
       "</div>"
      ],
      "text/plain": [
       "          locationId  item_id  onpromotion  Month  Day  Week\n",
       "0                 17      120            0      1    1     0\n",
       "1                 17      121            0      1    1     0\n",
       "2                 17      133            0      1    1     0\n",
       "3                 17      194            0      1    1     0\n",
       "4                 17      197            1      1    1     0\n",
       "...              ...      ...          ...    ...  ...   ...\n",
       "21679746          48     2399            0      8   15     2\n",
       "21679747          48     2400            0      8   15     2\n",
       "21679748          48     2402            0      8   15     2\n",
       "21679749          48     2403            0      8   15     2\n",
       "21679750          48     2404            0      8   15     2\n",
       "\n",
       "[19356963 rows x 6 columns]"
      ]
     },
     "execution_count": 14,
     "metadata": {
      "tags": []
     },
     "output_type": "execute_result"
    }
   ],
   "source": [
    "X_train"
   ]
  },
  {
   "cell_type": "code",
   "execution_count": null,
   "metadata": {
    "id": "aMRXkOQfFEmz"
   },
   "outputs": [],
   "source": [
    "y_train = np.log1p(y_train)"
   ]
  },
  {
   "cell_type": "code",
   "execution_count": null,
   "metadata": {
    "id": "JMNh4wX8AfQQ"
   },
   "outputs": [],
   "source": [
    "X_train[['Month','Day']] = X_train[['Month','Day']] - 1"
   ]
  },
  {
   "cell_type": "code",
   "execution_count": null,
   "metadata": {
    "colab": {
     "base_uri": "https://localhost:8080/",
     "height": 411
    },
    "id": "xatlLGXir-bk",
    "outputId": "c9cd31e9-25fe-4970-96c9-88d9d72287a9"
   },
   "outputs": [
    {
     "data": {
      "text/html": [
       "<div>\n",
       "<style scoped>\n",
       "    .dataframe tbody tr th:only-of-type {\n",
       "        vertical-align: middle;\n",
       "    }\n",
       "\n",
       "    .dataframe tbody tr th {\n",
       "        vertical-align: top;\n",
       "    }\n",
       "\n",
       "    .dataframe thead th {\n",
       "        text-align: right;\n",
       "    }\n",
       "</style>\n",
       "<table border=\"1\" class=\"dataframe\">\n",
       "  <thead>\n",
       "    <tr style=\"text-align: right;\">\n",
       "      <th></th>\n",
       "      <th>locationId</th>\n",
       "      <th>item_id</th>\n",
       "      <th>onpromotion</th>\n",
       "      <th>Month</th>\n",
       "      <th>Day</th>\n",
       "      <th>Week</th>\n",
       "    </tr>\n",
       "  </thead>\n",
       "  <tbody>\n",
       "    <tr>\n",
       "      <th>0</th>\n",
       "      <td>17</td>\n",
       "      <td>4008</td>\n",
       "      <td>0</td>\n",
       "      <td>1</td>\n",
       "      <td>1</td>\n",
       "      <td>1</td>\n",
       "    </tr>\n",
       "    <tr>\n",
       "      <th>1</th>\n",
       "      <td>17</td>\n",
       "      <td>45</td>\n",
       "      <td>0</td>\n",
       "      <td>1</td>\n",
       "      <td>1</td>\n",
       "      <td>1</td>\n",
       "    </tr>\n",
       "    <tr>\n",
       "      <th>2</th>\n",
       "      <td>17</td>\n",
       "      <td>120</td>\n",
       "      <td>0</td>\n",
       "      <td>1</td>\n",
       "      <td>1</td>\n",
       "      <td>1</td>\n",
       "    </tr>\n",
       "    <tr>\n",
       "      <th>3</th>\n",
       "      <td>17</td>\n",
       "      <td>133</td>\n",
       "      <td>0</td>\n",
       "      <td>1</td>\n",
       "      <td>1</td>\n",
       "      <td>1</td>\n",
       "    </tr>\n",
       "    <tr>\n",
       "      <th>4</th>\n",
       "      <td>17</td>\n",
       "      <td>144</td>\n",
       "      <td>0</td>\n",
       "      <td>1</td>\n",
       "      <td>1</td>\n",
       "      <td>1</td>\n",
       "    </tr>\n",
       "    <tr>\n",
       "      <th>...</th>\n",
       "      <td>...</td>\n",
       "      <td>...</td>\n",
       "      <td>...</td>\n",
       "      <td>...</td>\n",
       "      <td>...</td>\n",
       "      <td>...</td>\n",
       "    </tr>\n",
       "    <tr>\n",
       "      <th>23517675</th>\n",
       "      <td>48</td>\n",
       "      <td>2736</td>\n",
       "      <td>0</td>\n",
       "      <td>8</td>\n",
       "      <td>15</td>\n",
       "      <td>3</td>\n",
       "    </tr>\n",
       "    <tr>\n",
       "      <th>23517676</th>\n",
       "      <td>48</td>\n",
       "      <td>2746</td>\n",
       "      <td>1</td>\n",
       "      <td>8</td>\n",
       "      <td>15</td>\n",
       "      <td>3</td>\n",
       "    </tr>\n",
       "    <tr>\n",
       "      <th>23517677</th>\n",
       "      <td>48</td>\n",
       "      <td>2751</td>\n",
       "      <td>0</td>\n",
       "      <td>8</td>\n",
       "      <td>15</td>\n",
       "      <td>3</td>\n",
       "    </tr>\n",
       "    <tr>\n",
       "      <th>23517678</th>\n",
       "      <td>48</td>\n",
       "      <td>2759</td>\n",
       "      <td>1</td>\n",
       "      <td>8</td>\n",
       "      <td>15</td>\n",
       "      <td>3</td>\n",
       "    </tr>\n",
       "    <tr>\n",
       "      <th>23517679</th>\n",
       "      <td>48</td>\n",
       "      <td>2766</td>\n",
       "      <td>0</td>\n",
       "      <td>8</td>\n",
       "      <td>15</td>\n",
       "      <td>3</td>\n",
       "    </tr>\n",
       "  </tbody>\n",
       "</table>\n",
       "<p>23517680 rows × 6 columns</p>\n",
       "</div>"
      ],
      "text/plain": [
       "          locationId  item_id  onpromotion  Month  Day  Week\n",
       "0                 17     4008            0      1    1     1\n",
       "1                 17       45            0      1    1     1\n",
       "2                 17      120            0      1    1     1\n",
       "3                 17      133            0      1    1     1\n",
       "4                 17      144            0      1    1     1\n",
       "...              ...      ...          ...    ...  ...   ...\n",
       "23517675          48     2736            0      8   15     3\n",
       "23517676          48     2746            1      8   15     3\n",
       "23517677          48     2751            0      8   15     3\n",
       "23517678          48     2759            1      8   15     3\n",
       "23517679          48     2766            0      8   15     3\n",
       "\n",
       "[23517680 rows x 6 columns]"
      ]
     },
     "execution_count": 17,
     "metadata": {
      "tags": []
     },
     "output_type": "execute_result"
    }
   ],
   "source": [
    "X_test"
   ]
  },
  {
   "cell_type": "code",
   "execution_count": null,
   "metadata": {
    "id": "fzQe5E1VKol5"
   },
   "outputs": [],
   "source": [
    "X_test[['Month','Day']] = X_test[['Month','Day']] - 1"
   ]
  },
  {
   "cell_type": "markdown",
   "metadata": {
    "id": "HJKQ1-LssP0v"
   },
   "source": [
    "# Getting unique levels for each categorical features"
   ]
  },
  {
   "cell_type": "code",
   "execution_count": null,
   "metadata": {
    "id": "G9JYcIcrxPAl"
   },
   "outputs": [],
   "source": [
    "# Train Data Attributes \n",
    "\n",
    "loc_attr = X_train.locationId.values\n",
    "#item_attr = X_train.item_id.values\n",
    "onpromotion_attr = X_train.onpromotion.values\n",
    "#cat_item_attr = X_train.category_of_item.values\n",
    "#class_attr = X_train['class'].values\n",
    "month_attr = X_train.Month.values\n",
    "day_attr = X_train.Day.values\n",
    "week_attr = X_train.Week.values"
   ]
  },
  {
   "cell_type": "code",
   "execution_count": null,
   "metadata": {
    "id": "mQ0pM-Q0K6l1"
   },
   "outputs": [],
   "source": [
    "# Test Data Attributes \n",
    "\n",
    "test_loc_attr = X_test.locationId.values\n",
    "#item_attr = X_train.item_id.values\n",
    "test_onpromotion_attr = X_test.onpromotion.values\n",
    "#test_cat_item_attr = X_test.category_of_item.values\n",
    "#test_class_attr = X_test['class'].values\n",
    "test_month_attr = X_test.Month.values\n",
    "test_day_attr = X_test.Day.values\n",
    "test_week_attr = X_test.Week.values"
   ]
  },
  {
   "cell_type": "code",
   "execution_count": null,
   "metadata": {
    "id": "Gz56Hd25zToR"
   },
   "outputs": [],
   "source": [
    "loc_attr_level =  np.size(np.unique(loc_attr, return_counts=True)[0])\n",
    "#item_attr_level =  np.size(np.unique(item_attr, return_counts=True)[0])\n",
    "onpromotion_attr_level =  np.size(np.unique(onpromotion_attr, return_counts=True)[0])\n",
    "#cat_item_attr_level =  np.size(np.unique(cat_item_attr, return_counts=True)[0])\n",
    "#class_attr_level =  np.size(np.unique(class_attr, return_counts=True)[0])\n",
    "month_attr_level =  np.size(np.unique(month_attr, return_counts=True)[0])\n",
    "day_attr_level =  np.size(np.unique(day_attr, return_counts=True)[0])\n",
    "week_attr_level =  np.size(np.unique(week_attr, return_counts=True)[0])"
   ]
  },
  {
   "cell_type": "markdown",
   "metadata": {
    "id": "9Eci5mwT0OQQ"
   },
   "source": [
    "Categorical Embedding for locationId"
   ]
  },
  {
   "cell_type": "code",
   "execution_count": null,
   "metadata": {
    "id": "DONkpiuv2icB"
   },
   "outputs": [],
   "source": [
    "loc_input = Input(shape=(1, ), name=\"loc\")\n",
    "loc_embed = Embedding(input_dim=loc_attr_level, output_dim=5,)(loc_input)"
   ]
  },
  {
   "cell_type": "markdown",
   "metadata": {
    "id": "9C1MXmNh29GW"
   },
   "source": [
    "Categorical Embedding for item_id"
   ]
  },
  {
   "cell_type": "code",
   "execution_count": null,
   "metadata": {
    "id": "V3Kc470q3Avi"
   },
   "outputs": [],
   "source": [
    "#item_input = Input(shape=(1, ), name=\"item\")\n",
    "#item_embed = Embedding(input_dim=item_attr_level, output_dim=5,)(item_input)"
   ]
  },
  {
   "cell_type": "markdown",
   "metadata": {
    "id": "T7CuOqjH4Ote"
   },
   "source": [
    "Categorical Embedding for onpromotion"
   ]
  },
  {
   "cell_type": "code",
   "execution_count": null,
   "metadata": {
    "id": "0M4ScGj249NZ"
   },
   "outputs": [],
   "source": [
    "onpromo_input = Input(shape=(1, ), name=\"onpromo\")\n",
    "onpromo_embed = Embedding(input_dim=onpromotion_attr_level, output_dim=2,)(onpromo_input)"
   ]
  },
  {
   "cell_type": "markdown",
   "metadata": {
    "id": "03p6ZWLc4O3q"
   },
   "source": [
    "Categorical Embedding for category of items"
   ]
  },
  {
   "cell_type": "code",
   "execution_count": null,
   "metadata": {
    "id": "n2kBbEnt5c9S"
   },
   "outputs": [],
   "source": [
    "#cat_item_input = Input(shape=(1, ), name=\"cat_item\")\n",
    "#cat_item_embed = Embedding(input_dim=cat_item_attr_level, output_dim=5,)(cat_item_input)"
   ]
  },
  {
   "cell_type": "markdown",
   "metadata": {
    "id": "j45d2Rc34PLS"
   },
   "source": [
    "Categorical Embedding for class"
   ]
  },
  {
   "cell_type": "code",
   "execution_count": null,
   "metadata": {
    "id": "a5dPwHpU5srN"
   },
   "outputs": [],
   "source": [
    "#class_input = Input(shape=(1, ), name=\"class\")\n",
    "#class_embed = Embedding(input_dim=class_attr_level, output_dim=5,)(class_input)"
   ]
  },
  {
   "cell_type": "markdown",
   "metadata": {
    "id": "ob4N8yDg4Pbp"
   },
   "source": [
    "Ctaegorical Embedding for month"
   ]
  },
  {
   "cell_type": "code",
   "execution_count": null,
   "metadata": {
    "id": "PYH8PxoL568b"
   },
   "outputs": [],
   "source": [
    "month_input = Input(shape=(1, ), name=\"month\")\n",
    "month_embed = Embedding(input_dim=month_attr_level, output_dim=5,)(month_input)"
   ]
  },
  {
   "cell_type": "markdown",
   "metadata": {
    "id": "gw5WUs1K4P5b"
   },
   "source": [
    "Categorical Embedding for day"
   ]
  },
  {
   "cell_type": "code",
   "execution_count": null,
   "metadata": {
    "id": "iNaJ8uzO6E7F"
   },
   "outputs": [],
   "source": [
    "day_input = Input(shape=(1, ), name=\"day\")\n",
    "day_embed = Embedding(input_dim=day_attr_level, output_dim=5,)(day_input)"
   ]
  },
  {
   "cell_type": "markdown",
   "metadata": {
    "id": "SGxJW_zB4QE_"
   },
   "source": [
    "Categorical Embedding for week"
   ]
  },
  {
   "cell_type": "code",
   "execution_count": null,
   "metadata": {
    "id": "jrKY6ct-4xaK"
   },
   "outputs": [],
   "source": [
    "week_input = Input(shape=(1, ), name=\"week\")\n",
    "week_embed = Embedding(input_dim=week_attr_level, output_dim=5,)(week_input)"
   ]
  },
  {
   "cell_type": "markdown",
   "metadata": {
    "id": "2e9WJqno6jJ6"
   },
   "source": [
    "Mering and flattning "
   ]
  },
  {
   "cell_type": "code",
   "execution_count": null,
   "metadata": {
    "id": "ANOvvwXD6lvI"
   },
   "outputs": [],
   "source": [
    "merge_emb = concatenate([loc_embed,onpromo_embed,month_embed,day_embed,week_embed])\n",
    "merge_emb_flat = Flatten()(merge_emb)"
   ]
  },
  {
   "cell_type": "code",
   "execution_count": null,
   "metadata": {
    "id": "Cq7PdoBd7EFr"
   },
   "outputs": [],
   "source": [
    "merged_layer = Dense(12, activation= 'relu')(merge_emb_flat)\n",
    "output_layer = Dense(1, activation='linear')(merged_layer)\n",
    "\n",
    "model = Model(inputs=[loc_input, onpromo_input,month_input,day_input,week_input], outputs=output_layer)"
   ]
  },
  {
   "cell_type": "code",
   "execution_count": null,
   "metadata": {
    "colab": {
     "base_uri": "https://localhost:8080/"
    },
    "id": "zB5QOjvY7-tN",
    "outputId": "3fca6cfa-346b-4f9f-939a-023d93a6e492"
   },
   "outputs": [
    {
     "name": "stdout",
     "output_type": "stream",
     "text": [
      "Model: \"model\"\n",
      "__________________________________________________________________________________________________\n",
      "Layer (type)                    Output Shape         Param #     Connected to                     \n",
      "==================================================================================================\n",
      "loc (InputLayer)                [(None, 1)]          0                                            \n",
      "__________________________________________________________________________________________________\n",
      "onpromo (InputLayer)            [(None, 1)]          0                                            \n",
      "__________________________________________________________________________________________________\n",
      "month (InputLayer)              [(None, 1)]          0                                            \n",
      "__________________________________________________________________________________________________\n",
      "day (InputLayer)                [(None, 1)]          0                                            \n",
      "__________________________________________________________________________________________________\n",
      "week (InputLayer)               [(None, 1)]          0                                            \n",
      "__________________________________________________________________________________________________\n",
      "embedding (Embedding)           (None, 1, 5)         265         loc[0][0]                        \n",
      "__________________________________________________________________________________________________\n",
      "embedding_1 (Embedding)         (None, 1, 2)         4           onpromo[0][0]                    \n",
      "__________________________________________________________________________________________________\n",
      "embedding_2 (Embedding)         (None, 1, 5)         40          month[0][0]                      \n",
      "__________________________________________________________________________________________________\n",
      "embedding_3 (Embedding)         (None, 1, 5)         155         day[0][0]                        \n",
      "__________________________________________________________________________________________________\n",
      "embedding_4 (Embedding)         (None, 1, 5)         35          week[0][0]                       \n",
      "__________________________________________________________________________________________________\n",
      "concatenate (Concatenate)       (None, 1, 22)        0           embedding[0][0]                  \n",
      "                                                                 embedding_1[0][0]                \n",
      "                                                                 embedding_2[0][0]                \n",
      "                                                                 embedding_3[0][0]                \n",
      "                                                                 embedding_4[0][0]                \n",
      "__________________________________________________________________________________________________\n",
      "flatten (Flatten)               (None, 22)           0           concatenate[0][0]                \n",
      "__________________________________________________________________________________________________\n",
      "dense (Dense)                   (None, 12)           276         flatten[0][0]                    \n",
      "__________________________________________________________________________________________________\n",
      "dense_1 (Dense)                 (None, 1)            13          dense[0][0]                      \n",
      "==================================================================================================\n",
      "Total params: 788\n",
      "Trainable params: 788\n",
      "Non-trainable params: 0\n",
      "__________________________________________________________________________________________________\n"
     ]
    }
   ],
   "source": [
    "model.summary()"
   ]
  },
  {
   "cell_type": "code",
   "execution_count": null,
   "metadata": {
    "id": "qjP_P0JO8BzV"
   },
   "outputs": [],
   "source": [
    "model.compile(loss=\"mean_absolute_percentage_error\", optimizer='adam', metrics=['mape'])"
   ]
  },
  {
   "cell_type": "code",
   "execution_count": null,
   "metadata": {
    "colab": {
     "base_uri": "https://localhost:8080/"
    },
    "id": "O-eSPj4G8rHq",
    "outputId": "948c50f3-56c3-439f-b9a3-267610c6ee61"
   },
   "outputs": [
    {
     "name": "stdout",
     "output_type": "stream",
     "text": [
      "Epoch 1/10\n",
      "18904/18904 [==============================] - 51s 3ms/step - loss: 38.3812 - mape: 38.3812\n",
      "Epoch 2/10\n",
      "18904/18904 [==============================] - 49s 3ms/step - loss: 37.4563 - mape: 37.4563\n",
      "Epoch 3/10\n",
      "18904/18904 [==============================] - 48s 3ms/step - loss: 37.4475 - mape: 37.4475\n",
      "Epoch 4/10\n",
      "18904/18904 [==============================] - 48s 3ms/step - loss: 37.4214 - mape: 37.4214\n",
      "Epoch 5/10\n",
      "18904/18904 [==============================] - 48s 3ms/step - loss: 37.4071 - mape: 37.4071\n",
      "Epoch 6/10\n",
      "18904/18904 [==============================] - 47s 3ms/step - loss: 37.4029 - mape: 37.4029\n",
      "Epoch 7/10\n",
      "18904/18904 [==============================] - 47s 3ms/step - loss: 37.4130 - mape: 37.4130\n",
      "Epoch 8/10\n",
      "18904/18904 [==============================] - 48s 3ms/step - loss: 37.3801 - mape: 37.3801\n",
      "Epoch 9/10\n",
      "18904/18904 [==============================] - 47s 2ms/step - loss: 37.3707 - mape: 37.3707\n",
      "Epoch 10/10\n",
      "18904/18904 [==============================] - 46s 2ms/step - loss: 37.4051 - mape: 37.4051\n"
     ]
    },
    {
     "data": {
      "text/plain": [
       "<tensorflow.python.keras.callbacks.History at 0x7fb460139710>"
      ]
     },
     "execution_count": 31,
     "metadata": {
      "tags": []
     },
     "output_type": "execute_result"
    }
   ],
   "source": [
    "model.fit([loc_attr,onpromotion_attr,month_attr,day_attr,week_attr],y=y_train, epochs=10, batch_size = 1024)"
   ]
  },
  {
   "cell_type": "code",
   "execution_count": null,
   "metadata": {
    "id": "mqj6BJ6WZc1e"
   },
   "outputs": [],
   "source": [
    "del train_subset \n",
    "del test "
   ]
  },
  {
   "cell_type": "code",
   "execution_count": null,
   "metadata": {
    "id": "u0Z3nUC4NM1q"
   },
   "outputs": [],
   "source": [
    "prediction = model.predict([test_loc_attr,test_onpromotion_attr,test_month_attr ,test_day_attr ,test_week_attr])\n"
   ]
  },
  {
   "cell_type": "code",
   "execution_count": null,
   "metadata": {
    "id": "t_iamA6_aBS0"
   },
   "outputs": [],
   "source": [
    "test_prediction = np.expm1(prediction)"
   ]
  },
  {
   "cell_type": "code",
   "execution_count": null,
   "metadata": {
    "colab": {
     "base_uri": "https://localhost:8080/"
    },
    "id": "cuctE4k7kzA4",
    "outputId": "551fb2e3-bd90-4957-821f-381ea21cd0ad"
   },
   "outputs": [
    {
     "data": {
      "text/plain": [
       "array([[1.9930723],\n",
       "       [1.9930723],\n",
       "       [1.9930723],\n",
       "       ...,\n",
       "       [1.6557469],\n",
       "       [1.7866127],\n",
       "       [1.6557469]], dtype=float32)"
      ]
     },
     "execution_count": 36,
     "metadata": {
      "tags": []
     },
     "output_type": "execute_result"
    }
   ],
   "source": [
    "test_prediction"
   ]
  },
  {
   "cell_type": "code",
   "execution_count": null,
   "metadata": {
    "id": "770CD2Xhk1Cb"
   },
   "outputs": [],
   "source": [
    "res = pd.DataFrame(test_prediction)\n",
    "ID = pd.DataFrame(ID)\n",
    "\n",
    "res = res.rename(columns={res.columns[0]: 'unit_sales'})\n",
    "\n",
    "gb = pd.concat([ID,res], axis = 1)\n",
    "\n",
    "gb['unit_sales'] = gb['unit_sales'].round(2)"
   ]
  },
  {
   "cell_type": "code",
   "execution_count": null,
   "metadata": {
    "colab": {
     "base_uri": "https://localhost:8080/",
     "height": 411
    },
    "id": "TVzguIN_lMJ7",
    "outputId": "29acefa7-1a25-42a1-ca3f-ab82605c4e84"
   },
   "outputs": [
    {
     "data": {
      "text/html": [
       "<div>\n",
       "<style scoped>\n",
       "    .dataframe tbody tr th:only-of-type {\n",
       "        vertical-align: middle;\n",
       "    }\n",
       "\n",
       "    .dataframe tbody tr th {\n",
       "        vertical-align: top;\n",
       "    }\n",
       "\n",
       "    .dataframe thead th {\n",
       "        text-align: right;\n",
       "    }\n",
       "</style>\n",
       "<table border=\"1\" class=\"dataframe\">\n",
       "  <thead>\n",
       "    <tr style=\"text-align: right;\">\n",
       "      <th></th>\n",
       "      <th>id</th>\n",
       "      <th>unit_sales</th>\n",
       "    </tr>\n",
       "  </thead>\n",
       "  <tbody>\n",
       "    <tr>\n",
       "      <th>0</th>\n",
       "      <td>0</td>\n",
       "      <td>1.99</td>\n",
       "    </tr>\n",
       "    <tr>\n",
       "      <th>1</th>\n",
       "      <td>1</td>\n",
       "      <td>1.99</td>\n",
       "    </tr>\n",
       "    <tr>\n",
       "      <th>2</th>\n",
       "      <td>2</td>\n",
       "      <td>1.99</td>\n",
       "    </tr>\n",
       "    <tr>\n",
       "      <th>3</th>\n",
       "      <td>3</td>\n",
       "      <td>1.99</td>\n",
       "    </tr>\n",
       "    <tr>\n",
       "      <th>4</th>\n",
       "      <td>4</td>\n",
       "      <td>1.99</td>\n",
       "    </tr>\n",
       "    <tr>\n",
       "      <th>...</th>\n",
       "      <td>...</td>\n",
       "      <td>...</td>\n",
       "    </tr>\n",
       "    <tr>\n",
       "      <th>23517675</th>\n",
       "      <td>23808256</td>\n",
       "      <td>1.66</td>\n",
       "    </tr>\n",
       "    <tr>\n",
       "      <th>23517676</th>\n",
       "      <td>23808257</td>\n",
       "      <td>1.79</td>\n",
       "    </tr>\n",
       "    <tr>\n",
       "      <th>23517677</th>\n",
       "      <td>23808258</td>\n",
       "      <td>1.66</td>\n",
       "    </tr>\n",
       "    <tr>\n",
       "      <th>23517678</th>\n",
       "      <td>23808259</td>\n",
       "      <td>1.79</td>\n",
       "    </tr>\n",
       "    <tr>\n",
       "      <th>23517679</th>\n",
       "      <td>23808260</td>\n",
       "      <td>1.66</td>\n",
       "    </tr>\n",
       "  </tbody>\n",
       "</table>\n",
       "<p>23517680 rows × 2 columns</p>\n",
       "</div>"
      ],
      "text/plain": [
       "                id  unit_sales\n",
       "0                0        1.99\n",
       "1                1        1.99\n",
       "2                2        1.99\n",
       "3                3        1.99\n",
       "4                4        1.99\n",
       "...            ...         ...\n",
       "23517675  23808256        1.66\n",
       "23517676  23808257        1.79\n",
       "23517677  23808258        1.66\n",
       "23517678  23808259        1.79\n",
       "23517679  23808260        1.66\n",
       "\n",
       "[23517680 rows x 2 columns]"
      ]
     },
     "execution_count": 38,
     "metadata": {
      "tags": []
     },
     "output_type": "execute_result"
    }
   ],
   "source": [
    "gb"
   ]
  },
  {
   "cell_type": "code",
   "execution_count": null,
   "metadata": {
    "id": "kZbfKcyJlM_E"
   },
   "outputs": [],
   "source": [
    "gb.to_csv(\"Categorical Embeddings.csv\",index= False)"
   ]
  },
  {
   "cell_type": "markdown",
   "metadata": {
    "id": "rqOJKg91uGAN"
   },
   "source": [
    "Mape for test data is - 64.19"
   ]
  }
 ],
 "metadata": {
  "accelerator": "TPU",
  "colab": {
   "collapsed_sections": [],
   "name": "Model Building with Categorical Emdeddings.ipynb",
   "provenance": []
  },
  "kernelspec": {
   "display_name": "Python 3",
   "language": "python",
   "name": "python3"
  },
  "language_info": {
   "codemirror_mode": {
    "name": "ipython",
    "version": 3
   },
   "file_extension": ".py",
   "mimetype": "text/x-python",
   "name": "python",
   "nbconvert_exporter": "python",
   "pygments_lexer": "ipython3",
   "version": "3.8.5"
  }
 },
 "nbformat": 4,
 "nbformat_minor": 1
}
