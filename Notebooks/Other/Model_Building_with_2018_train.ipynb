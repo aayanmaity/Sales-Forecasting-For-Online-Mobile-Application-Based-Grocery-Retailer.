{
  "nbformat": 4,
  "nbformat_minor": 0,
  "metadata": {
    "colab": {
      "name": "Model Building with 2018 train and test.ipynb",
      "provenance": [],
      "collapsed_sections": []
    },
    "kernelspec": {
      "name": "python3",
      "display_name": "Python 3"
    },
    "language_info": {
      "name": "python"
    }
  },
  "cells": [
    {
      "cell_type": "code",
      "metadata": {
        "id": "XuqEoTlEBDjG"
      },
      "source": [
        "import numpy as np\n",
        "import pandas as pd\n",
        "\n",
        "import warnings\n",
        "warnings.filterwarnings(\"ignore\")"
      ],
      "execution_count": null,
      "outputs": []
    },
    {
      "cell_type": "code",
      "metadata": {
        "id": "ukJJ6up8jad3"
      },
      "source": [
        "## Loading the data \n",
        "## Loading Train Data\n",
        "train_subset = pd.read_csv(\"/content/drive/MyDrive/FinalHack Datasets/Year-Wise /train_2018.csv\")\n",
        "## Loading Test Data\n",
        "test = pd.read_csv(\"/content/drive/MyDrive/FinalHack Datasets/test.csv\")\n",
        "## Loading Item Details Data \n",
        "item_details = pd.read_excel(\"/content/drive/MyDrive/FinalHack Datasets/item_details.xlsx\")"
      ],
      "execution_count": null,
      "outputs": []
    },
    {
      "cell_type": "code",
      "metadata": {
        "colab": {
          "base_uri": "https://localhost:8080/",
          "height": 322
        },
        "id": "4jebe6p_kX__",
        "outputId": "63d41054-6c70-4293-84d7-d6de04b3a737"
      },
      "source": [
        "train_subset['date'] = pd.to_datetime(train_subset['date'])\n",
        "\n",
        "train_subset['Week'] =pd.DatetimeIndex(train_subset['date']).weekday.astype('int8')\n",
        "\n",
        "train_subset = pd.merge(train_subset,item_details,how = 'left', on = 'item_id')\n",
        "\n",
        "train_subset = train_subset.drop(['Unnamed: 0','date','Year','perishable'],axis = 1)\n",
        "\n",
        "train_subset.head()"
      ],
      "execution_count": null,
      "outputs": [
        {
          "output_type": "execute_result",
          "data": {
            "text/html": [
              "<div>\n",
              "<style scoped>\n",
              "    .dataframe tbody tr th:only-of-type {\n",
              "        vertical-align: middle;\n",
              "    }\n",
              "\n",
              "    .dataframe tbody tr th {\n",
              "        vertical-align: top;\n",
              "    }\n",
              "\n",
              "    .dataframe thead th {\n",
              "        text-align: right;\n",
              "    }\n",
              "</style>\n",
              "<table border=\"1\" class=\"dataframe\">\n",
              "  <thead>\n",
              "    <tr style=\"text-align: right;\">\n",
              "      <th></th>\n",
              "      <th>Unnamed: 0</th>\n",
              "      <th>date</th>\n",
              "      <th>locationId</th>\n",
              "      <th>item_id</th>\n",
              "      <th>unit_sales</th>\n",
              "      <th>onpromotion</th>\n",
              "      <th>Year</th>\n",
              "      <th>Month</th>\n",
              "      <th>Day</th>\n",
              "      <th>Week</th>\n",
              "      <th>category_of_item</th>\n",
              "      <th>class</th>\n",
              "      <th>perishable</th>\n",
              "    </tr>\n",
              "  </thead>\n",
              "  <tbody>\n",
              "    <tr>\n",
              "      <th>0</th>\n",
              "      <td>66458908</td>\n",
              "      <td>2018-01-01</td>\n",
              "      <td>location_25</td>\n",
              "      <td>item_105574</td>\n",
              "      <td>12.0</td>\n",
              "      <td>False</td>\n",
              "      <td>2018</td>\n",
              "      <td>1</td>\n",
              "      <td>1</td>\n",
              "      <td>0</td>\n",
              "      <td>grocery_items</td>\n",
              "      <td>class_1045</td>\n",
              "      <td>0</td>\n",
              "    </tr>\n",
              "    <tr>\n",
              "      <th>1</th>\n",
              "      <td>66458909</td>\n",
              "      <td>2018-01-01</td>\n",
              "      <td>location_25</td>\n",
              "      <td>item_105575</td>\n",
              "      <td>9.0</td>\n",
              "      <td>False</td>\n",
              "      <td>2018</td>\n",
              "      <td>1</td>\n",
              "      <td>1</td>\n",
              "      <td>0</td>\n",
              "      <td>grocery_items</td>\n",
              "      <td>class_1045</td>\n",
              "      <td>0</td>\n",
              "    </tr>\n",
              "    <tr>\n",
              "      <th>2</th>\n",
              "      <td>66458910</td>\n",
              "      <td>2018-01-01</td>\n",
              "      <td>location_25</td>\n",
              "      <td>item_105857</td>\n",
              "      <td>3.0</td>\n",
              "      <td>False</td>\n",
              "      <td>2018</td>\n",
              "      <td>1</td>\n",
              "      <td>1</td>\n",
              "      <td>0</td>\n",
              "      <td>grocery_items</td>\n",
              "      <td>class_1092</td>\n",
              "      <td>0</td>\n",
              "    </tr>\n",
              "    <tr>\n",
              "      <th>3</th>\n",
              "      <td>66458911</td>\n",
              "      <td>2018-01-01</td>\n",
              "      <td>location_25</td>\n",
              "      <td>item_108634</td>\n",
              "      <td>3.0</td>\n",
              "      <td>False</td>\n",
              "      <td>2018</td>\n",
              "      <td>1</td>\n",
              "      <td>1</td>\n",
              "      <td>0</td>\n",
              "      <td>grocery_items</td>\n",
              "      <td>class_1075</td>\n",
              "      <td>0</td>\n",
              "    </tr>\n",
              "    <tr>\n",
              "      <th>4</th>\n",
              "      <td>66458912</td>\n",
              "      <td>2018-01-01</td>\n",
              "      <td>location_25</td>\n",
              "      <td>item_108701</td>\n",
              "      <td>2.0</td>\n",
              "      <td>True</td>\n",
              "      <td>2018</td>\n",
              "      <td>1</td>\n",
              "      <td>1</td>\n",
              "      <td>0</td>\n",
              "      <td>deli_items</td>\n",
              "      <td>class_2644</td>\n",
              "      <td>1</td>\n",
              "    </tr>\n",
              "  </tbody>\n",
              "</table>\n",
              "</div>"
            ],
            "text/plain": [
              "   Unnamed: 0       date   locationId  ... category_of_item       class  perishable\n",
              "0    66458908 2018-01-01  location_25  ...    grocery_items  class_1045           0\n",
              "1    66458909 2018-01-01  location_25  ...    grocery_items  class_1045           0\n",
              "2    66458910 2018-01-01  location_25  ...    grocery_items  class_1092           0\n",
              "3    66458911 2018-01-01  location_25  ...    grocery_items  class_1075           0\n",
              "4    66458912 2018-01-01  location_25  ...       deli_items  class_2644           1\n",
              "\n",
              "[5 rows x 13 columns]"
            ]
          },
          "metadata": {
            "tags": []
          },
          "execution_count": 3
        }
      ]
    },
    {
      "cell_type": "code",
      "metadata": {
        "id": "sDOahj9CkjwS"
      },
      "source": [
        "train_subset = train_subset.drop(['Unnamed: 0','date','Year','perishable'],axis = 1)"
      ],
      "execution_count": null,
      "outputs": []
    },
    {
      "cell_type": "code",
      "metadata": {
        "colab": {
          "base_uri": "https://localhost:8080/"
        },
        "id": "zyQJl_bMmASt",
        "outputId": "bc33c502-43f6-43b8-a752-28fe4047a671"
      },
      "source": [
        "train_subset.info()"
      ],
      "execution_count": null,
      "outputs": [
        {
          "output_type": "stream",
          "text": [
            "<class 'pandas.core.frame.DataFrame'>\n",
            "Int64Index: 35229871 entries, 0 to 35229870\n",
            "Data columns (total 9 columns):\n",
            " #   Column            Dtype  \n",
            "---  ------            -----  \n",
            " 0   locationId        object \n",
            " 1   item_id           object \n",
            " 2   unit_sales        float64\n",
            " 3   onpromotion       bool   \n",
            " 4   Month             int64  \n",
            " 5   Day               int64  \n",
            " 6   Week              int64  \n",
            " 7   category_of_item  object \n",
            " 8   class             object \n",
            "dtypes: bool(1), float64(1), int64(3), object(4)\n",
            "memory usage: 2.4+ GB\n"
          ],
          "name": "stdout"
        }
      ]
    },
    {
      "cell_type": "code",
      "metadata": {
        "id": "AoXDuaIKmEmo"
      },
      "source": [
        "### Removing negative values in train data \n",
        "\n",
        "train_subset = train_subset[(train_subset['unit_sales']>0)]"
      ],
      "execution_count": null,
      "outputs": []
    },
    {
      "cell_type": "code",
      "metadata": {
        "colab": {
          "base_uri": "https://localhost:8080/"
        },
        "id": "yFo9lgK9mk-M",
        "outputId": "3e9e87e8-d1e9-4818-843c-b84298a81c69"
      },
      "source": [
        "### Removing outliers \n",
        "\n",
        "Q1 = train_subset.unit_sales.quantile(0.25)\n",
        "Q3 = train_subset.unit_sales.quantile(0.75)\n",
        "print(Q1,Q3)\n",
        "\n",
        "\n",
        "IQR = Q3 - Q1\n",
        "print(IQR)\n",
        "\n",
        "lower_limit = Q1 - 1.5*IQR\n",
        "upper_limit = Q3 + 1.5*IQR\n",
        "print( lower_limit,upper_limit)\n",
        "\n",
        "\n",
        "train_subset = train_subset[(train_subset.unit_sales < upper_limit)]"
      ],
      "execution_count": null,
      "outputs": [
        {
          "output_type": "stream",
          "text": [
            "2.0 8.0\n",
            "6.0\n",
            "-7.0 17.0\n"
          ],
          "name": "stdout"
        }
      ]
    },
    {
      "cell_type": "code",
      "metadata": {
        "colab": {
          "base_uri": "https://localhost:8080/"
        },
        "id": "1OcThZDamwH-",
        "outputId": "fbe26f03-cd85-40f8-9e39-f6a0feff34c7"
      },
      "source": [
        "## Label Encoding \n",
        "\n",
        "from sklearn import preprocessing\n",
        "def df_lbl_enc(df):\n",
        "    for c in df.columns:\n",
        "        if df[c].dtype == 'object':\n",
        "            lbl = preprocessing.LabelEncoder()\n",
        "            df[c] = lbl.fit_transform(df[c])\n",
        "            print(c)\n",
        "    return df\n",
        "\n",
        "\n",
        "train_subset = df_lbl_enc(train_subset)"
      ],
      "execution_count": null,
      "outputs": [
        {
          "output_type": "stream",
          "text": [
            "locationId\n",
            "item_id\n",
            "category_of_item\n",
            "class\n"
          ],
          "name": "stdout"
        }
      ]
    },
    {
      "cell_type": "code",
      "metadata": {
        "id": "RbAmKcuXm750"
      },
      "source": [
        " from sklearn.preprocessing import LabelEncoder\n",
        "\n",
        " lb = LabelEncoder()\n",
        "\n",
        " train_subset['onpromotion']= lb.fit_transform(train_subset['onpromotion'])"
      ],
      "execution_count": null,
      "outputs": []
    },
    {
      "cell_type": "code",
      "metadata": {
        "colab": {
          "base_uri": "https://localhost:8080/"
        },
        "id": "IdTns_FWnCcW",
        "outputId": "8f2335ed-d166-4bb5-c2b6-3fee1380e2fb"
      },
      "source": [
        "### Converting to category \n",
        "\n",
        "\n",
        "def cat_converter(df):\n",
        "    for i in df.columns:\n",
        "        if df[i].dtype == 'float64':\n",
        "            df[i] = df[i]\n",
        "        else:            \n",
        "            df[i] = df[i].astype('category')\n",
        "            print(i)\n",
        "    return df\n",
        "\n",
        "\n",
        "train_subset = cat_converter(train_subset)"
      ],
      "execution_count": null,
      "outputs": [
        {
          "output_type": "stream",
          "text": [
            "locationId\n",
            "item_id\n",
            "onpromotion\n",
            "Month\n",
            "Day\n",
            "Week\n",
            "category_of_item\n",
            "class\n"
          ],
          "name": "stdout"
        }
      ]
    },
    {
      "cell_type": "code",
      "metadata": {
        "id": "pwXQyVrdnH2_"
      },
      "source": [
        "cat_cols = ['locationId','item_id','onpromotion','category_of_item','class','Month','Day','Week']"
      ],
      "execution_count": null,
      "outputs": []
    },
    {
      "cell_type": "code",
      "metadata": {
        "id": "bzD80ucxnTry"
      },
      "source": [
        "from sklearn.model_selection import train_test_split\n",
        "\n",
        "X = train_subset.drop(['unit_sales'], axis = 1)\n",
        "\n",
        "y = train_subset['unit_sales']\n",
        "\n",
        "X_train, X_test, y_train, y_test = train_test_split(X, y, test_size=0.30, random_state=42)"
      ],
      "execution_count": null,
      "outputs": []
    },
    {
      "cell_type": "code",
      "metadata": {
        "id": "hnb60yIdnYVl"
      },
      "source": [
        "def mean_absolute_percentage_error(y_true, y_pred): \n",
        "    y_true, y_pred = np.array(y_true), np.array(y_pred)\n",
        "    return np.mean(np.abs((y_true - y_pred) / y_true)) * 100"
      ],
      "execution_count": null,
      "outputs": []
    },
    {
      "cell_type": "code",
      "metadata": {
        "id": "SYDqIiBDncMn"
      },
      "source": [
        "y_train_log = np.log1p(y_train)\n",
        "y_test_log = np.log1p(y_test)"
      ],
      "execution_count": null,
      "outputs": []
    },
    {
      "cell_type": "code",
      "metadata": {
        "colab": {
          "base_uri": "https://localhost:8080/"
        },
        "id": "x6AolFgbnfg1",
        "outputId": "cf0c132f-d978-44b3-e7b5-5f9911a55339"
      },
      "source": [
        "from lightgbm import LGBMRegressor \n",
        "\n",
        "\n",
        "## Light GBM \n",
        "\n",
        "LGB_model = LGBMRegressor()\n",
        "\n",
        "\n",
        "LGB_model.fit(X_train, y_train_log,categorical_feature = cat_cols)"
      ],
      "execution_count": null,
      "outputs": [
        {
          "output_type": "execute_result",
          "data": {
            "text/plain": [
              "LGBMRegressor(boosting_type='gbdt', class_weight=None, colsample_bytree=1.0,\n",
              "              importance_type='split', learning_rate=0.1, max_depth=-1,\n",
              "              min_child_samples=20, min_child_weight=0.001, min_split_gain=0.0,\n",
              "              n_estimators=100, n_jobs=-1, num_leaves=31, objective=None,\n",
              "              random_state=None, reg_alpha=0.0, reg_lambda=0.0, silent=True,\n",
              "              subsample=1.0, subsample_for_bin=200000, subsample_freq=0)"
            ]
          },
          "metadata": {
            "tags": []
          },
          "execution_count": 15
        }
      ]
    },
    {
      "cell_type": "code",
      "metadata": {
        "colab": {
          "base_uri": "https://localhost:8080/"
        },
        "id": "a2o_kjHBnk2S",
        "outputId": "875e7286-7506-4356-e0a6-8043ff687179"
      },
      "source": [
        "LGB_Model_Y_train_pred = LGB_model.predict(X_train)\n",
        "LGB_Model_Y_test_pred = LGB_model.predict(X_test)\n",
        "\n",
        "\n",
        "LGB_Model_Y_train_pred =np.expm1(LGB_Model_Y_train_pred)\n",
        "LGB_Model_Y_test_pred =np.expm1(LGB_Model_Y_test_pred)\n",
        "\n",
        "Train_score_LGB= mean_absolute_percentage_error(y_train,LGB_Model_Y_train_pred)\n",
        "Test_score_LGB = mean_absolute_percentage_error(y_test,LGB_Model_Y_test_pred)\n",
        "\n",
        "print(Train_score_LGB)\n",
        "print(Test_score_LGB)"
      ],
      "execution_count": null,
      "outputs": [
        {
          "output_type": "stream",
          "text": [
            "72.61493477925214\n",
            "72.67050868401846\n"
          ],
          "name": "stdout"
        }
      ]
    }
  ]
}