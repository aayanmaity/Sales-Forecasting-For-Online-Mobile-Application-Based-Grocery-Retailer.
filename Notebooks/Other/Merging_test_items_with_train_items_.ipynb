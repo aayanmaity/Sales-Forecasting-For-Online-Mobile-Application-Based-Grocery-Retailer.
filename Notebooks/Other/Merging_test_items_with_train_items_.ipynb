{
  "nbformat": 4,
  "nbformat_minor": 0,
  "metadata": {
    "colab": {
      "name": "Merging test items with train items. ",
      "provenance": [],
      "collapsed_sections": []
    },
    "kernelspec": {
      "name": "python3",
      "display_name": "Python 3"
    },
    "language_info": {
      "name": "python"
    }
  },
  "cells": [
    {
      "cell_type": "code",
      "metadata": {
        "id": "AyyescUlTJxf"
      },
      "source": [
        "import numpy as np\n",
        "import pandas as pd\n",
        "\n",
        "import warnings\n",
        "warnings.filterwarnings(\"ignore\")"
      ],
      "execution_count": null,
      "outputs": []
    },
    {
      "cell_type": "code",
      "metadata": {
        "id": "Cm7YabCnTO65"
      },
      "source": [
        "train_subset = pd.read_csv(\"/content/drive/MyDrive/FinalHack Datasets/train_subset.csv\",parse_dates = ['date'])\n",
        "\n",
        "test = pd.read_csv(\"/content/drive/MyDrive/FinalHack Datasets/test.csv\",parse_dates=['date'])"
      ],
      "execution_count": null,
      "outputs": []
    },
    {
      "cell_type": "code",
      "metadata": {
        "id": "rFtNnGSqUpDa"
      },
      "source": [
        "## Unique items only in testdata \n",
        "test_items = pd.unique(test.item_id)\n",
        "## Unique items only in train data \n",
        "train_items = pd.unique(train_subset.item_id)\n",
        "## Items present in only test data\n",
        "items_only_in_test = set(test_items).difference(set(train_items))\n",
        "## Creating a dataframe only with those item_id numbers\n",
        "items_only_in_test =  pd.DataFrame(items_only_in_test)\n",
        "items_only_in_test = items_only_in_test.rename(columns={items_only_in_test.columns[0]: 'item_id'})\n",
        "## Getting the test dataframe with only items that are not present in the train data \n",
        "items_only_in_test_df = pd.merge(items_only_in_test,test,how = 'left', on = 'item_id')"
      ],
      "execution_count": null,
      "outputs": []
    },
    {
      "cell_type": "code",
      "metadata": {
        "id": "N1Sid_GbauDg"
      },
      "source": [
        "## Adding items that are present in the test data with our train data.\n",
        "## Filling missing values with zero.  \n",
        "\n",
        "new_test_subset = pd.concat([train_subset,items_only_in_test_df], axis = 0)\n",
        "new_test_subset = new_test_subset.fillna(value = 0)\n",
        "new_test_subset.head()\n"
      ],
      "execution_count": null,
      "outputs": []
    },
    {
      "cell_type": "code",
      "metadata": {
        "id": "okS_KtoVdrOU"
      },
      "source": [
        ""
      ],
      "execution_count": null,
      "outputs": []
    }
  ]
}