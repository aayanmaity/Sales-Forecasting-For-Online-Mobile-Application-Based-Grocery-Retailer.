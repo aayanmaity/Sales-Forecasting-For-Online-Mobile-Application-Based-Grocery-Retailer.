{
  "nbformat": 4,
  "nbformat_minor": 0,
  "metadata": {
    "colab": {
      "name": "Checking Item_id for train and test.ipynb",
      "provenance": [],
      "collapsed_sections": []
    },
    "kernelspec": {
      "name": "python3",
      "display_name": "Python 3"
    },
    "language_info": {
      "name": "python"
    }
  },
  "cells": [
    {
      "cell_type": "code",
      "metadata": {
        "id": "PboaAITEfVQH"
      },
      "source": [
        "import numpy as np\n",
        "import pandas as pd\n",
        "\n",
        "import warnings\n",
        "warnings.filterwarnings(\"ignore\") "
      ],
      "execution_count": null,
      "outputs": []
    },
    {
      "cell_type": "code",
      "metadata": {
        "id": "8cFtykupgEPx"
      },
      "source": [
        "\n",
        "train_subset = pd.read_csv(\"/content/drive/MyDrive/FinalHack Datasets/Year-Wise /train_2018.csv\") ### 2018 First 8 month 15 days data \n",
        "\n",
        "test = pd.read_csv(\"/content/drive/MyDrive/FinalHack Datasets/test.csv\")\n"
      ],
      "execution_count": null,
      "outputs": []
    },
    {
      "cell_type": "code",
      "metadata": {
        "id": "hb2UUZdZhZUB"
      },
      "source": [
        "%matplotlib inline\n",
        "import matplotlib.pyplot as plt\n",
        "from matplotlib_venn import venn2"
      ],
      "execution_count": null,
      "outputs": []
    },
    {
      "cell_type": "code",
      "metadata": {
        "id": "jU_iMF9Mgb3o"
      },
      "source": [
        "test_items = pd.unique(test.item_id)\n",
        "train_items = pd.unique(train_subset.item_id)\n",
        "items_in_train_and_test  = set(test_items).intersection(set(train_items))\n",
        "items_only_in_test = set(test_items).difference(set(train_items))\n",
        "items_only_in_train = set(train_items).difference(set(test_items))"
      ],
      "execution_count": null,
      "outputs": []
    },
    {
      "cell_type": "code",
      "metadata": {
        "colab": {
          "base_uri": "https://localhost:8080/",
          "height": 251
        },
        "id": "lvtrJOa6hUIj",
        "outputId": "3d8a618a-d158-4a41-e029-26039bfe2cee"
      },
      "source": [
        "v = venn2(subsets = (len(train_items), len(items_in_train_and_test), len(test_items)), \n",
        "      set_labels=('Train', 'Test'));\n",
        "# Subset labels\n",
        "v.get_label_by_id('10').set_text('17')\n",
        "v.get_label_by_id('01').set_text('372')\n",
        "v.get_label_by_id('11').set_text('3646')"
      ],
      "execution_count": null,
      "outputs": [
        {
          "output_type": "display_data",
          "data": {
            "image/png": "[encoded data removed]",
            "text/plain": [
              "<Figure size 432x288 with 1 Axes>"
            ]
          },
          "metadata": {
            "tags": []
          }
        }
      ]
    },
    {
      "cell_type": "code",
      "metadata": {
        "colab": {
          "base_uri": "https://localhost:8080/"
        },
        "id": "4MYU4JsCgpHe",
        "outputId": "22e29539-9857-4ec3-b1b4-c54bb3d116cd"
      },
      "source": [
        "print(f'There are {len(test_items)} distinct items in test.')\n",
        "print(f'There are {len(train_items)} distinct items in train.')\n",
        "print(f'There are {len(items_in_train_and_test)} items common in train and test.')\n",
        "tmp = np.round((100*test[test.item_id.isin(items_only_in_test)].shape[0]/test.shape[0]),2)\n",
        "print(f'There are {len(items_only_in_test)} items only in test data (not in train.)', \n",
        "      f'These items represent about {tmp}% of test data.')\n",
        "tmp = np.round((100*train_subset[train_subset.item_id.isin(items_only_in_train)].shape[0]/train_subset.shape[0]),2)\n",
        "print(f'There are {len(items_only_in_train)} items only in train data (not in test.)',\n",
        "      f'These items represent about {tmp}% of train data.')"
      ],
      "execution_count": null,
      "outputs": [
        {
          "output_type": "stream",
          "text": [
            "There are 4018 distinct items in test.\n",
            "There are 3886 distinct items in train.\n",
            "There are 3868 items common in train and test.\n",
            "There are 150 items only in test data (not in train.) These items represent about 1.49% of test data.\n",
            "There are 18 items only in train data (not in test.) These items represent about 0.39% of train data.\n"
          ],
          "name": "stdout"
        }
      ]
    }
  ]
}