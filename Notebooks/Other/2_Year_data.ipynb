{
  "nbformat": 4,
  "nbformat_minor": 0,
  "metadata": {
    "colab": {
      "name": "2 Year data.ipynb",
      "provenance": [],
      "collapsed_sections": []
    },
    "kernelspec": {
      "name": "python3",
      "display_name": "Python 3"
    },
    "language_info": {
      "name": "python"
    }
  },
  "cells": [
    {
      "cell_type": "code",
      "metadata": {
        "id": "o1wzJfo4aMe6"
      },
      "source": [
        "import numpy as np\n",
        "import pandas as pd\n",
        "\n",
        "import warnings\n",
        "warnings.filterwarnings(\"ignore\")"
      ],
      "execution_count": null,
      "outputs": []
    },
    {
      "cell_type": "code",
      "metadata": {
        "id": "P295kaSKPVkV"
      },
      "source": [
        "train = pd.read_csv(\"/content/drive/MyDrive/FinalHack Datasets/train.csv\",parse_dates = ['date'])\n",
        "\n",
        "\n",
        "item_details = pd.read_excel(\"/content/drive/MyDrive/FinalHack Datasets/item_details.xlsx\")"
      ],
      "execution_count": null,
      "outputs": []
    },
    {
      "cell_type": "code",
      "metadata": {
        "id": "g2FEl-jFP9Wq"
      },
      "source": [
        "train_2017_data = train[(train['date'] > '2016-12-31') & (train['date'] < '2017-08-16')]\n",
        "\n",
        "train_2018_data = train[(train['date'] > '2017-12-31') & (train['date'] < '2018-08-16')]"
      ],
      "execution_count": null,
      "outputs": []
    },
    {
      "cell_type": "code",
      "metadata": {
        "id": "9pjszhXvRjGz"
      },
      "source": [
        "del train"
      ],
      "execution_count": null,
      "outputs": []
    },
    {
      "cell_type": "code",
      "metadata": {
        "id": "L_8Yek61Lree"
      },
      "source": [
        ""
      ],
      "execution_count": null,
      "outputs": []
    },
    {
      "cell_type": "code",
      "metadata": {
        "id": "PNFS25jiSDwX"
      },
      "source": [
        "del train_2017_data\n",
        "del train_2018_data"
      ],
      "execution_count": null,
      "outputs": []
    },
    {
      "cell_type": "code",
      "metadata": {
        "colab": {
          "base_uri": "https://localhost:8080/",
          "height": 411
        },
        "id": "Gdg5o2I5R4CX",
        "outputId": "699283f4-0cea-49e2-b8b3-ecb84bb2948e"
      },
      "source": [
        "train_subset.reset_index()"
      ],
      "execution_count": null,
      "outputs": [
        {
          "output_type": "execute_result",
          "data": {
            "text/html": [
              "<div>\n",
              "<style scoped>\n",
              "    .dataframe tbody tr th:only-of-type {\n",
              "        vertical-align: middle;\n",
              "    }\n",
              "\n",
              "    .dataframe tbody tr th {\n",
              "        vertical-align: top;\n",
              "    }\n",
              "\n",
              "    .dataframe thead th {\n",
              "        text-align: right;\n",
              "    }\n",
              "</style>\n",
              "<table border=\"1\" class=\"dataframe\">\n",
              "  <thead>\n",
              "    <tr style=\"text-align: right;\">\n",
              "      <th></th>\n",
              "      <th>index</th>\n",
              "      <th>date</th>\n",
              "      <th>locationId</th>\n",
              "      <th>item_id</th>\n",
              "      <th>unit_sales</th>\n",
              "      <th>onpromotion</th>\n",
              "    </tr>\n",
              "  </thead>\n",
              "  <tbody>\n",
              "    <tr>\n",
              "      <th>0</th>\n",
              "      <td>38594264</td>\n",
              "      <td>2017-01-01</td>\n",
              "      <td>location_25</td>\n",
              "      <td>item_103665</td>\n",
              "      <td>12.0</td>\n",
              "      <td>False</td>\n",
              "    </tr>\n",
              "    <tr>\n",
              "      <th>1</th>\n",
              "      <td>38594265</td>\n",
              "      <td>2017-01-01</td>\n",
              "      <td>location_25</td>\n",
              "      <td>item_105575</td>\n",
              "      <td>23.0</td>\n",
              "      <td>False</td>\n",
              "    </tr>\n",
              "    <tr>\n",
              "      <th>2</th>\n",
              "      <td>38594266</td>\n",
              "      <td>2017-01-01</td>\n",
              "      <td>location_25</td>\n",
              "      <td>item_108634</td>\n",
              "      <td>1.0</td>\n",
              "      <td>False</td>\n",
              "    </tr>\n",
              "    <tr>\n",
              "      <th>3</th>\n",
              "      <td>38594267</td>\n",
              "      <td>2017-01-01</td>\n",
              "      <td>location_25</td>\n",
              "      <td>item_108698</td>\n",
              "      <td>6.0</td>\n",
              "      <td>False</td>\n",
              "    </tr>\n",
              "    <tr>\n",
              "      <th>4</th>\n",
              "      <td>38594268</td>\n",
              "      <td>2017-01-01</td>\n",
              "      <td>location_25</td>\n",
              "      <td>item_108786</td>\n",
              "      <td>6.0</td>\n",
              "      <td>False</td>\n",
              "    </tr>\n",
              "    <tr>\n",
              "      <th>...</th>\n",
              "      <td>...</td>\n",
              "      <td>...</td>\n",
              "      <td>...</td>\n",
              "      <td>...</td>\n",
              "      <td>...</td>\n",
              "      <td>...</td>\n",
              "    </tr>\n",
              "    <tr>\n",
              "      <th>37129246</th>\n",
              "      <td>88138654</td>\n",
              "      <td>2018-08-15</td>\n",
              "      <td>location_54</td>\n",
              "      <td>item_2026893</td>\n",
              "      <td>2.0</td>\n",
              "      <td>False</td>\n",
              "    </tr>\n",
              "    <tr>\n",
              "      <th>37129247</th>\n",
              "      <td>88138655</td>\n",
              "      <td>2018-08-15</td>\n",
              "      <td>location_54</td>\n",
              "      <td>item_2026945</td>\n",
              "      <td>1.0</td>\n",
              "      <td>False</td>\n",
              "    </tr>\n",
              "    <tr>\n",
              "      <th>37129248</th>\n",
              "      <td>88138656</td>\n",
              "      <td>2018-08-15</td>\n",
              "      <td>location_54</td>\n",
              "      <td>item_2026983</td>\n",
              "      <td>5.0</td>\n",
              "      <td>False</td>\n",
              "    </tr>\n",
              "    <tr>\n",
              "      <th>37129249</th>\n",
              "      <td>88138657</td>\n",
              "      <td>2018-08-15</td>\n",
              "      <td>location_54</td>\n",
              "      <td>item_2027090</td>\n",
              "      <td>2.0</td>\n",
              "      <td>False</td>\n",
              "    </tr>\n",
              "    <tr>\n",
              "      <th>37129250</th>\n",
              "      <td>88138658</td>\n",
              "      <td>2018-08-15</td>\n",
              "      <td>location_54</td>\n",
              "      <td>item_2027203</td>\n",
              "      <td>2.0</td>\n",
              "      <td>False</td>\n",
              "    </tr>\n",
              "  </tbody>\n",
              "</table>\n",
              "<p>37129251 rows × 6 columns</p>\n",
              "</div>"
            ],
            "text/plain": [
              "             index       date  ... unit_sales onpromotion\n",
              "0         38594264 2017-01-01  ...       12.0       False\n",
              "1         38594265 2017-01-01  ...       23.0       False\n",
              "2         38594266 2017-01-01  ...        1.0       False\n",
              "3         38594267 2017-01-01  ...        6.0       False\n",
              "4         38594268 2017-01-01  ...        6.0       False\n",
              "...            ...        ...  ...        ...         ...\n",
              "37129246  88138654 2018-08-15  ...        2.0       False\n",
              "37129247  88138655 2018-08-15  ...        1.0       False\n",
              "37129248  88138656 2018-08-15  ...        5.0       False\n",
              "37129249  88138657 2018-08-15  ...        2.0       False\n",
              "37129250  88138658 2018-08-15  ...        2.0       False\n",
              "\n",
              "[37129251 rows x 6 columns]"
            ]
          },
          "metadata": {
            "tags": []
          },
          "execution_count": 7
        }
      ]
    },
    {
      "cell_type": "code",
      "metadata": {
        "id": "IG-tywHcVjH0"
      },
      "source": [
        "train_subset = pd.merge(train_subset,item_details,how = 'left', on = 'item_id')"
      ],
      "execution_count": null,
      "outputs": []
    },
    {
      "cell_type": "code",
      "metadata": {
        "colab": {
          "base_uri": "https://localhost:8080/"
        },
        "id": "xu2jqnWdVYm4",
        "outputId": "a77d2946-b49f-4432-ae6a-b033c79414dd"
      },
      "source": [
        "train_subset['class'].nunique()"
      ],
      "execution_count": null,
      "outputs": [
        {
          "output_type": "execute_result",
          "data": {
            "text/plain": [
              "319"
            ]
          },
          "metadata": {
            "tags": []
          },
          "execution_count": 8
        }
      ]
    },
    {
      "cell_type": "code",
      "metadata": {
        "colab": {
          "base_uri": "https://localhost:8080/",
          "height": 200
        },
        "id": "5QGsOquhR5Sj",
        "outputId": "5035141c-93ab-4fad-e73b-5341a8e1db02"
      },
      "source": [
        "train_subset = pd.merge(train_subset,item_details,how = 'left', on = 'item_id')\n",
        "\n",
        "train_subset['Month'] =pd.DatetimeIndex(train_subset['date']).month.astype('int8')\n",
        "train_subset['Day'] =pd.DatetimeIndex(train_subset['date']).day.astype('int8')\n",
        "train_subset['Week'] =pd.DatetimeIndex(train_subset['date']).weekday.astype('int8')\n",
        "\n",
        "train_subset = train_subset.drop(['date','perishable','item_id'],axis = 1)\n",
        "\n",
        "\n",
        "train_subset.head()"
      ],
      "execution_count": null,
      "outputs": [
        {
          "output_type": "execute_result",
          "data": {
            "text/html": [
              "<div>\n",
              "<style scoped>\n",
              "    .dataframe tbody tr th:only-of-type {\n",
              "        vertical-align: middle;\n",
              "    }\n",
              "\n",
              "    .dataframe tbody tr th {\n",
              "        vertical-align: top;\n",
              "    }\n",
              "\n",
              "    .dataframe thead th {\n",
              "        text-align: right;\n",
              "    }\n",
              "</style>\n",
              "<table border=\"1\" class=\"dataframe\">\n",
              "  <thead>\n",
              "    <tr style=\"text-align: right;\">\n",
              "      <th></th>\n",
              "      <th>locationId</th>\n",
              "      <th>unit_sales</th>\n",
              "      <th>onpromotion</th>\n",
              "      <th>category_of_item</th>\n",
              "      <th>class</th>\n",
              "      <th>Month</th>\n",
              "      <th>Day</th>\n",
              "      <th>Week</th>\n",
              "    </tr>\n",
              "  </thead>\n",
              "  <tbody>\n",
              "    <tr>\n",
              "      <th>0</th>\n",
              "      <td>location_25</td>\n",
              "      <td>12.0</td>\n",
              "      <td>False</td>\n",
              "      <td>baked_items / bread_based</td>\n",
              "      <td>class_2712</td>\n",
              "      <td>1</td>\n",
              "      <td>1</td>\n",
              "      <td>6</td>\n",
              "    </tr>\n",
              "    <tr>\n",
              "      <th>1</th>\n",
              "      <td>location_25</td>\n",
              "      <td>23.0</td>\n",
              "      <td>False</td>\n",
              "      <td>grocery_items</td>\n",
              "      <td>class_1045</td>\n",
              "      <td>1</td>\n",
              "      <td>1</td>\n",
              "      <td>6</td>\n",
              "    </tr>\n",
              "    <tr>\n",
              "      <th>2</th>\n",
              "      <td>location_25</td>\n",
              "      <td>1.0</td>\n",
              "      <td>False</td>\n",
              "      <td>grocery_items</td>\n",
              "      <td>class_1075</td>\n",
              "      <td>1</td>\n",
              "      <td>1</td>\n",
              "      <td>6</td>\n",
              "    </tr>\n",
              "    <tr>\n",
              "      <th>3</th>\n",
              "      <td>location_25</td>\n",
              "      <td>6.0</td>\n",
              "      <td>False</td>\n",
              "      <td>deli_items</td>\n",
              "      <td>class_2644</td>\n",
              "      <td>1</td>\n",
              "      <td>1</td>\n",
              "      <td>6</td>\n",
              "    </tr>\n",
              "    <tr>\n",
              "      <th>4</th>\n",
              "      <td>location_25</td>\n",
              "      <td>6.0</td>\n",
              "      <td>False</td>\n",
              "      <td>cleaning_utilities</td>\n",
              "      <td>class_3044</td>\n",
              "      <td>1</td>\n",
              "      <td>1</td>\n",
              "      <td>6</td>\n",
              "    </tr>\n",
              "  </tbody>\n",
              "</table>\n",
              "</div>"
            ],
            "text/plain": [
              "    locationId  unit_sales onpromotion  ... Month Day  Week\n",
              "0  location_25        12.0       False  ...     1   1     6\n",
              "1  location_25        23.0       False  ...     1   1     6\n",
              "2  location_25         1.0       False  ...     1   1     6\n",
              "3  location_25         6.0       False  ...     1   1     6\n",
              "4  location_25         6.0       False  ...     1   1     6\n",
              "\n",
              "[5 rows x 8 columns]"
            ]
          },
          "metadata": {
            "tags": []
          },
          "execution_count": 8
        }
      ]
    },
    {
      "cell_type": "code",
      "metadata": {
        "id": "EvHKXhpIWcih"
      },
      "source": [
        "### Removing negative values in train data \n",
        "\n",
        "train_subset = train_subset[(train_subset['unit_sales']>0)]"
      ],
      "execution_count": null,
      "outputs": []
    },
    {
      "cell_type": "code",
      "metadata": {
        "colab": {
          "base_uri": "https://localhost:8080/"
        },
        "id": "hUAtXdNfWdef",
        "outputId": "3364d9dc-baea-41c5-f6d0-a77768dae195"
      },
      "source": [
        "### Removing outliers \n",
        "\n",
        "Q1 = train_subset.unit_sales.quantile(0.25)\n",
        "Q3 = train_subset.unit_sales.quantile(0.75)\n",
        "print(Q1,Q3)\n",
        "\n",
        "\n",
        "IQR = Q3 - Q1\n",
        "print(IQR)\n",
        "\n",
        "lower_limit = Q1 - 1.5*IQR\n",
        "upper_limit = Q3 + 1.5*IQR\n",
        "print( lower_limit,upper_limit)\n",
        "\n",
        "\n",
        "train_subset = train_subset[(train_subset.unit_sales < upper_limit)]"
      ],
      "execution_count": null,
      "outputs": [
        {
          "output_type": "stream",
          "text": [
            "2.0 9.0\n",
            "7.0\n",
            "-8.5 19.5\n"
          ],
          "name": "stdout"
        }
      ]
    },
    {
      "cell_type": "code",
      "metadata": {
        "colab": {
          "base_uri": "https://localhost:8080/"
        },
        "id": "q_5_X8NPWnNF",
        "outputId": "006fc428-1b45-402f-a926-e5dcc8e6680b"
      },
      "source": [
        "### Converting to category \n",
        "\n",
        "\n",
        "def cat_converter(df):\n",
        "    for i in df.columns:\n",
        "        if df[i].dtype == 'float64':\n",
        "            df[i] = df[i]\n",
        "        else:            \n",
        "            df[i] = df[i].astype('category')\n",
        "            print(i)\n",
        "    return df\n",
        "\n",
        "\n",
        "train_subset = cat_converter(train_subset)"
      ],
      "execution_count": null,
      "outputs": [
        {
          "output_type": "stream",
          "text": [
            "locationId\n",
            "onpromotion\n",
            "category_of_item\n",
            "class\n",
            "Month\n",
            "Day\n",
            "Week\n"
          ],
          "name": "stdout"
        }
      ]
    },
    {
      "cell_type": "code",
      "metadata": {
        "id": "tbJ4mpLVWsHe"
      },
      "source": [
        "cat_cols = ['locationId','onpromotion','category_of_item','class','Month','Day','Week']"
      ],
      "execution_count": null,
      "outputs": []
    },
    {
      "cell_type": "code",
      "metadata": {
        "id": "j6Fg0sk5WtLo"
      },
      "source": [
        "from sklearn.model_selection import train_test_split\n",
        "\n",
        "X = train_subset.drop(['unit_sales'], axis = 1)\n",
        "\n",
        "y = train_subset['unit_sales']\n",
        "\n",
        "X_train, X_test, y_train, y_test = train_test_split(X, y, test_size=0.30, random_state=42)"
      ],
      "execution_count": null,
      "outputs": []
    },
    {
      "cell_type": "code",
      "metadata": {
        "id": "_u5pO3aCWz6i"
      },
      "source": [
        "y_train_log = np.log1p(y_train)\n",
        "y_test_log = np.log1p(y_test)"
      ],
      "execution_count": null,
      "outputs": []
    },
    {
      "cell_type": "code",
      "metadata": {
        "id": "f0g-qQ8lW4Eo"
      },
      "source": [
        "def mean_absolute_percentage_error(y_true, y_pred): \n",
        "    y_true, y_pred = np.array(y_true), np.array(y_pred)\n",
        "    return np.mean(np.abs((y_true - y_pred) / y_true)) * 100"
      ],
      "execution_count": null,
      "outputs": []
    },
    {
      "cell_type": "code",
      "metadata": {
        "colab": {
          "base_uri": "https://localhost:8080/"
        },
        "id": "SQWz7sIpW44V",
        "outputId": "d398a92e-bb84-4cc4-c42f-38858ab23555"
      },
      "source": [
        "from lightgbm import LGBMRegressor \n",
        "\n",
        "\n",
        "## Light GBM \n",
        "\n",
        "LGB_model = LGBMRegressor(boosting_type= 'dart', \n",
        "                          num_leaves = 2**5 - 1,\n",
        "                          objective = 'regression_l2',\n",
        "                          max_depth = 8,\n",
        "                          min_data_in_leaf = 50,\n",
        "                          learning_rate = 0.01,\n",
        "                          metric = 'l2')\n",
        "\n",
        "\n",
        "LGB_model.fit(X_train, y_train_log,eval_set = (X_test,y_test_log),early_stopping_rounds = 50,categorical_feature = cat_cols,verbose = 0)"
      ],
      "execution_count": null,
      "outputs": [
        {
          "output_type": "execute_result",
          "data": {
            "text/plain": [
              "LGBMRegressor(boosting_type='dart', class_weight=None, colsample_bytree=1.0,\n",
              "              importance_type='split', learning_rate=0.01, max_depth=8,\n",
              "              metric='l2', min_child_samples=20, min_child_weight=0.001,\n",
              "              min_data_in_leaf=50, min_split_gain=0.0, n_estimators=100,\n",
              "              n_jobs=-1, num_leaves=31, objective='regression_l2',\n",
              "              random_state=None, reg_alpha=0.0, reg_lambda=0.0, silent=True,\n",
              "              subsample=1.0, subsample_for_bin=200000, subsample_freq=0)"
            ]
          },
          "metadata": {
            "tags": []
          },
          "execution_count": 16
        }
      ]
    },
    {
      "cell_type": "code",
      "metadata": {
        "colab": {
          "base_uri": "https://localhost:8080/"
        },
        "id": "gMTqIZabXETS",
        "outputId": "3a5a575e-9231-44be-bf7f-186b7064970a"
      },
      "source": [
        "LGB_Model_Y_train_pred = LGB_model.predict(X_train)\n",
        "LGB_Model_Y_test_pred = LGB_model.predict(X_test)\n",
        "\n",
        "\n",
        "LGB_Model_Y_train_pred =np.expm1(LGB_Model_Y_train_pred)\n",
        "LGB_Model_Y_test_pred =np.expm1(LGB_Model_Y_test_pred)\n",
        "\n",
        "Train_score_LGB= mean_absolute_percentage_error(y_train,LGB_Model_Y_train_pred)\n",
        "Test_score_LGB = mean_absolute_percentage_error(y_test,LGB_Model_Y_test_pred)\n",
        "\n",
        "print(Train_score_LGB)\n",
        "print(Test_score_LGB)"
      ],
      "execution_count": null,
      "outputs": [
        {
          "output_type": "stream",
          "text": [
            "58.521333997428634\n",
            "58.519358967701365\n"
          ],
          "name": "stdout"
        }
      ]
    }
  ]
}