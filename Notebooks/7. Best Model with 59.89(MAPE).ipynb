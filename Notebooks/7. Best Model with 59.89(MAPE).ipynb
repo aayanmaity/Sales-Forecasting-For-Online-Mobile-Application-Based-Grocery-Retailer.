{
 "cells": [
  {
   "cell_type": "code",
   "execution_count": 1,
   "metadata": {
    "id": "Zip40aIWHuBN"
   },
   "outputs": [],
   "source": [
    "# Loading important libaries \n",
    "\n",
    "import numpy as np\n",
    "import pandas as pd\n",
    "\n",
    "import warnings\n",
    "warnings.filterwarnings(\"ignore\")"
   ]
  },
  {
   "cell_type": "code",
   "execution_count": 2,
   "metadata": {
    "id": "sQ2c_taJJ5Aq"
   },
   "outputs": [],
   "source": [
    "## Loading the data \n",
    "\n",
    "train_subset = pd.read_csv(\"train_subset.csv\",parse_dates = ['date']) \n",
    "\n",
    "test = pd.read_csv(\"test.csv\",parse_dates=['date'])\n",
    "\n",
    "item_details = pd.read_excel(\"item_details.xlsx\")"
   ]
  },
  {
   "cell_type": "code",
   "execution_count": 3,
   "metadata": {
    "colab": {
     "base_uri": "https://localhost:8080/",
     "height": 200
    },
    "id": "M1INhS36K1Pt",
    "outputId": "2b0b114d-4d4f-444c-c1cb-dac545fcdf53"
   },
   "outputs": [
    {
     "data": {
      "text/html": [
       "<div>\n",
       "<style scoped>\n",
       "    .dataframe tbody tr th:only-of-type {\n",
       "        vertical-align: middle;\n",
       "    }\n",
       "\n",
       "    .dataframe tbody tr th {\n",
       "        vertical-align: top;\n",
       "    }\n",
       "\n",
       "    .dataframe thead th {\n",
       "        text-align: right;\n",
       "    }\n",
       "</style>\n",
       "<table border=\"1\" class=\"dataframe\">\n",
       "  <thead>\n",
       "    <tr style=\"text-align: right;\">\n",
       "      <th></th>\n",
       "      <th>locationId</th>\n",
       "      <th>item_id</th>\n",
       "      <th>unit_sales</th>\n",
       "      <th>onpromotion</th>\n",
       "      <th>category_of_item</th>\n",
       "      <th>class</th>\n",
       "      <th>Month</th>\n",
       "      <th>Day</th>\n",
       "      <th>Week</th>\n",
       "    </tr>\n",
       "  </thead>\n",
       "  <tbody>\n",
       "    <tr>\n",
       "      <th>0</th>\n",
       "      <td>location_25</td>\n",
       "      <td>item_105574</td>\n",
       "      <td>12.0</td>\n",
       "      <td>False</td>\n",
       "      <td>grocery_items</td>\n",
       "      <td>class_1045</td>\n",
       "      <td>1</td>\n",
       "      <td>1</td>\n",
       "      <td>0</td>\n",
       "    </tr>\n",
       "    <tr>\n",
       "      <th>1</th>\n",
       "      <td>location_25</td>\n",
       "      <td>item_105575</td>\n",
       "      <td>9.0</td>\n",
       "      <td>False</td>\n",
       "      <td>grocery_items</td>\n",
       "      <td>class_1045</td>\n",
       "      <td>1</td>\n",
       "      <td>1</td>\n",
       "      <td>0</td>\n",
       "    </tr>\n",
       "    <tr>\n",
       "      <th>2</th>\n",
       "      <td>location_25</td>\n",
       "      <td>item_105857</td>\n",
       "      <td>3.0</td>\n",
       "      <td>False</td>\n",
       "      <td>grocery_items</td>\n",
       "      <td>class_1092</td>\n",
       "      <td>1</td>\n",
       "      <td>1</td>\n",
       "      <td>0</td>\n",
       "    </tr>\n",
       "    <tr>\n",
       "      <th>3</th>\n",
       "      <td>location_25</td>\n",
       "      <td>item_108634</td>\n",
       "      <td>3.0</td>\n",
       "      <td>False</td>\n",
       "      <td>grocery_items</td>\n",
       "      <td>class_1075</td>\n",
       "      <td>1</td>\n",
       "      <td>1</td>\n",
       "      <td>0</td>\n",
       "    </tr>\n",
       "    <tr>\n",
       "      <th>4</th>\n",
       "      <td>location_25</td>\n",
       "      <td>item_108701</td>\n",
       "      <td>2.0</td>\n",
       "      <td>True</td>\n",
       "      <td>deli_items</td>\n",
       "      <td>class_2644</td>\n",
       "      <td>1</td>\n",
       "      <td>1</td>\n",
       "      <td>0</td>\n",
       "    </tr>\n",
       "  </tbody>\n",
       "</table>\n",
       "</div>"
      ],
      "text/plain": [
       "    locationId      item_id  unit_sales  onpromotion category_of_item  \\\n",
       "0  location_25  item_105574        12.0        False    grocery_items   \n",
       "1  location_25  item_105575         9.0        False    grocery_items   \n",
       "2  location_25  item_105857         3.0        False    grocery_items   \n",
       "3  location_25  item_108634         3.0        False    grocery_items   \n",
       "4  location_25  item_108701         2.0         True       deli_items   \n",
       "\n",
       "        class  Month  Day  Week  \n",
       "0  class_1045      1    1     0  \n",
       "1  class_1045      1    1     0  \n",
       "2  class_1092      1    1     0  \n",
       "3  class_1075      1    1     0  \n",
       "4  class_2644      1    1     0  "
      ]
     },
     "execution_count": 3,
     "metadata": {},
     "output_type": "execute_result"
    }
   ],
   "source": [
    "## Merging train data with item and extracting time features \n",
    "\n",
    "train_subset = pd.merge(train_subset,item_details,how = 'left', on = 'item_id')\n",
    "\n",
    "train_subset['Month'] =pd.DatetimeIndex(train_subset['date']).month.astype('int8')\n",
    "train_subset['Day'] =pd.DatetimeIndex(train_subset['date']).day.astype('int8')\n",
    "train_subset['Week'] =pd.DatetimeIndex(train_subset['date']).weekday.astype('int8')\n",
    "\n",
    "train_subset = train_subset.drop(['Unnamed: 0','date','perishable'],axis = 1)\n",
    "\n",
    "\n",
    "train_subset.head()"
   ]
  },
  {
   "cell_type": "code",
   "execution_count": 4,
   "metadata": {
    "id": "UAAWKCG1LP5s"
   },
   "outputs": [],
   "source": [
    "### Removing negative values in train data \n",
    "\n",
    "train_subset = train_subset[(train_subset['unit_sales']>0)]"
   ]
  },
  {
   "cell_type": "code",
   "execution_count": 5,
   "metadata": {
    "colab": {
     "base_uri": "https://localhost:8080/"
    },
    "id": "nEkTOdCULS7R",
    "outputId": "e09cd72c-43b2-422d-b379-0a65ed3da580"
   },
   "outputs": [
    {
     "name": "stdout",
     "output_type": "stream",
     "text": [
      "2.0 8.0\n",
      "6.0\n",
      "-7.0 17.0\n"
     ]
    }
   ],
   "source": [
    "### Removing outliers \n",
    "\n",
    "Q1 = train_subset.unit_sales.quantile(0.25)\n",
    "Q3 = train_subset.unit_sales.quantile(0.75)\n",
    "print(Q1,Q3)\n",
    "\n",
    "\n",
    "IQR = Q3 - Q1\n",
    "print(IQR)\n",
    "\n",
    "lower_limit = Q1 - 1.5*IQR\n",
    "upper_limit = Q3 + 1.5*IQR\n",
    "print( lower_limit,upper_limit)\n",
    "\n",
    "\n",
    "train_subset = train_subset[(train_subset.unit_sales < upper_limit)]"
   ]
  },
  {
   "cell_type": "code",
   "execution_count": 6,
   "metadata": {
    "colab": {
     "base_uri": "https://localhost:8080/"
    },
    "id": "DTmwhxXKM9AI",
    "outputId": "e2733371-59ff-472d-9c66-0c7c827e8040"
   },
   "outputs": [
    {
     "name": "stdout",
     "output_type": "stream",
     "text": [
      "locationId\n",
      "item_id\n",
      "onpromotion\n",
      "category_of_item\n",
      "class\n",
      "Month\n",
      "Day\n",
      "Week\n"
     ]
    }
   ],
   "source": [
    "### Converting to category \n",
    "\n",
    "\n",
    "def cat_converter(df):\n",
    "    for i in df.columns:\n",
    "        if df[i].dtype == 'float64':\n",
    "            df[i] = df[i]\n",
    "        else:            \n",
    "            df[i] = df[i].astype('category')\n",
    "            print(i)\n",
    "    return df\n",
    "\n",
    "\n",
    "train_subset = cat_converter(train_subset)"
   ]
  },
  {
   "cell_type": "code",
   "execution_count": 7,
   "metadata": {
    "id": "DcL2WqszN1gD"
   },
   "outputs": [],
   "source": [
    "# Categorical Columns \n",
    "\n",
    "cat_cols = ['locationId','item_id','onpromotion','category_of_item','class','Month','Day','Week']"
   ]
  },
  {
   "cell_type": "code",
   "execution_count": 8,
   "metadata": {
    "id": "KdrkZBMCOLv6"
   },
   "outputs": [],
   "source": [
    "# Separating target variable \n",
    "\n",
    "X_train = train_subset.drop(['unit_sales'], axis = 1)\n",
    "\n",
    "y_train = train_subset['unit_sales']"
   ]
  },
  {
   "cell_type": "code",
   "execution_count": 9,
   "metadata": {
    "id": "Mt14ZuHWN6ao"
   },
   "outputs": [],
   "source": [
    "# Log transforming the target variable \n",
    "\n",
    "y_train_log = np.log1p(y_train)"
   ]
  },
  {
   "cell_type": "code",
   "execution_count": 10,
   "metadata": {
    "id": "_XnPh6R6OSvf"
   },
   "outputs": [],
   "source": [
    "# Custom fuction for MAPE (Error Metric)\n",
    "\n",
    "def mean_absolute_percentage_error(y_true, y_pred): \n",
    "    y_true, y_pred = np.array(y_true), np.array(y_pred)\n",
    "    return np.mean(np.abs((y_true - y_pred) / y_true)) * 100"
   ]
  },
  {
   "cell_type": "code",
   "execution_count": 11,
   "metadata": {
    "colab": {
     "base_uri": "https://localhost:8080/"
    },
    "id": "JtsskXwZOVwS",
    "outputId": "ac2bd931-b037-4066-b042-9f90a430f16c"
   },
   "outputs": [
    {
     "name": "stdout",
     "output_type": "stream",
     "text": [
      "[LightGBM] [Warning] min_data_in_leaf is set=50, min_child_samples=20 will be ignored. Current value: min_data_in_leaf=50\n"
     ]
    },
    {
     "data": {
      "text/plain": [
       "LGBMRegressor(boosting_type='dart', learning_rate=0.01, max_depth=8,\n",
       "              metric='l1', min_data_in_leaf=50, objective='regression_l1')"
      ]
     },
     "execution_count": 11,
     "metadata": {},
     "output_type": "execute_result"
    }
   ],
   "source": [
    "from lightgbm import LGBMRegressor \n",
    "\n",
    "\n",
    "## Light GBM \n",
    "\n",
    "LGB_model = LGBMRegressor(boosting_type= 'dart', \n",
    "                          num_leaves = 31,\n",
    "                          objective = 'regression_l1',\n",
    "                          max_depth = 8,\n",
    "                          min_data_in_leaf = 50,\n",
    "                          learning_rate = 0.01,\n",
    "                          metric = 'l1')\n",
    "\n",
    "LGB_model.fit(X_train, y_train_log,categorical_feature = cat_cols,verbose = 0)"
   ]
  },
  {
   "cell_type": "code",
   "execution_count": 13,
   "metadata": {
    "colab": {
     "base_uri": "https://localhost:8080/"
    },
    "id": "JWe3cLaxOYtP",
    "outputId": "3262a980-4210-4ffe-8a73-178084fe26c1"
   },
   "outputs": [
    {
     "name": "stdout",
     "output_type": "stream",
     "text": [
      "56.368464434015884\n"
     ]
    }
   ],
   "source": [
    "# Predicting on the train set \n",
    "\n",
    "LGB_Model_Y_train_pred = LGB_model.predict(X_train)\n",
    "\n",
    "LGB_Model_Y_train_pred =np.expm1(LGB_Model_Y_train_pred)\n",
    "\n",
    "Train_score_LGB= mean_absolute_percentage_error(y_train,LGB_Model_Y_train_pred)\n",
    "\n",
    "print(Train_score_LGB)"
   ]
  },
  {
   "cell_type": "markdown",
   "metadata": {
    "id": "EdZHh1FSXK-T"
   },
   "source": [
    "## Predicting on the test data. "
   ]
  },
  {
   "cell_type": "code",
   "execution_count": 14,
   "metadata": {
    "colab": {
     "base_uri": "https://localhost:8080/"
    },
    "id": "-pKhL98UXODv",
    "outputId": "420aef5e-fca1-4500-b7a3-d98aac32d4e1"
   },
   "outputs": [
    {
     "name": "stdout",
     "output_type": "stream",
     "text": [
      "<class 'pandas.core.frame.DataFrame'>\n",
      "RangeIndex: 23517680 entries, 0 to 23517679\n",
      "Data columns (total 5 columns):\n",
      " #   Column       Dtype         \n",
      "---  ------       -----         \n",
      " 0   id           int64         \n",
      " 1   date         datetime64[ns]\n",
      " 2   locationId   object        \n",
      " 3   item_id      object        \n",
      " 4   onpromotion  bool          \n",
      "dtypes: bool(1), datetime64[ns](1), int64(1), object(2)\n",
      "memory usage: 740.1+ MB\n"
     ]
    }
   ],
   "source": [
    "test.info()"
   ]
  },
  {
   "cell_type": "code",
   "execution_count": 15,
   "metadata": {
    "id": "kdcsmFRZ1CCm"
   },
   "outputs": [
    {
     "data": {
      "text/html": [
       "<div>\n",
       "<style scoped>\n",
       "    .dataframe tbody tr th:only-of-type {\n",
       "        vertical-align: middle;\n",
       "    }\n",
       "\n",
       "    .dataframe tbody tr th {\n",
       "        vertical-align: top;\n",
       "    }\n",
       "\n",
       "    .dataframe thead th {\n",
       "        text-align: right;\n",
       "    }\n",
       "</style>\n",
       "<table border=\"1\" class=\"dataframe\">\n",
       "  <thead>\n",
       "    <tr style=\"text-align: right;\">\n",
       "      <th></th>\n",
       "      <th>id</th>\n",
       "      <th>date</th>\n",
       "      <th>locationId</th>\n",
       "      <th>item_id</th>\n",
       "      <th>onpromotion</th>\n",
       "    </tr>\n",
       "  </thead>\n",
       "  <tbody>\n",
       "    <tr>\n",
       "      <th>0</th>\n",
       "      <td>0</td>\n",
       "      <td>2019-01-01</td>\n",
       "      <td>location_25</td>\n",
       "      <td>item_99197</td>\n",
       "      <td>False</td>\n",
       "    </tr>\n",
       "    <tr>\n",
       "      <th>1</th>\n",
       "      <td>1</td>\n",
       "      <td>2019-01-01</td>\n",
       "      <td>location_25</td>\n",
       "      <td>item_103665</td>\n",
       "      <td>False</td>\n",
       "    </tr>\n",
       "    <tr>\n",
       "      <th>2</th>\n",
       "      <td>2</td>\n",
       "      <td>2019-01-01</td>\n",
       "      <td>location_25</td>\n",
       "      <td>item_105574</td>\n",
       "      <td>False</td>\n",
       "    </tr>\n",
       "    <tr>\n",
       "      <th>3</th>\n",
       "      <td>3</td>\n",
       "      <td>2019-01-01</td>\n",
       "      <td>location_25</td>\n",
       "      <td>item_105857</td>\n",
       "      <td>False</td>\n",
       "    </tr>\n",
       "    <tr>\n",
       "      <th>4</th>\n",
       "      <td>4</td>\n",
       "      <td>2019-01-01</td>\n",
       "      <td>location_25</td>\n",
       "      <td>item_106716</td>\n",
       "      <td>False</td>\n",
       "    </tr>\n",
       "  </tbody>\n",
       "</table>\n",
       "</div>"
      ],
      "text/plain": [
       "   id       date   locationId      item_id  onpromotion\n",
       "0   0 2019-01-01  location_25   item_99197        False\n",
       "1   1 2019-01-01  location_25  item_103665        False\n",
       "2   2 2019-01-01  location_25  item_105574        False\n",
       "3   3 2019-01-01  location_25  item_105857        False\n",
       "4   4 2019-01-01  location_25  item_106716        False"
      ]
     },
     "execution_count": 15,
     "metadata": {},
     "output_type": "execute_result"
    }
   ],
   "source": [
    "test.head()"
   ]
  },
  {
   "cell_type": "code",
   "execution_count": 16,
   "metadata": {},
   "outputs": [
    {
     "data": {
      "text/plain": [
       "(23517680, 5)"
      ]
     },
     "execution_count": 16,
     "metadata": {},
     "output_type": "execute_result"
    }
   ],
   "source": [
    "test.shape"
   ]
  },
  {
   "cell_type": "code",
   "execution_count": 17,
   "metadata": {
    "id": "2DHaUy4fZ9A0"
   },
   "outputs": [],
   "source": [
    "ID = test['id']"
   ]
  },
  {
   "cell_type": "code",
   "execution_count": 18,
   "metadata": {
    "colab": {
     "base_uri": "https://localhost:8080/",
     "height": 200
    },
    "id": "pQIcWl3fXPdf",
    "outputId": "b48f4ade-4104-4231-c3d8-134bdd2f03e7"
   },
   "outputs": [
    {
     "data": {
      "text/html": [
       "<div>\n",
       "<style scoped>\n",
       "    .dataframe tbody tr th:only-of-type {\n",
       "        vertical-align: middle;\n",
       "    }\n",
       "\n",
       "    .dataframe tbody tr th {\n",
       "        vertical-align: top;\n",
       "    }\n",
       "\n",
       "    .dataframe thead th {\n",
       "        text-align: right;\n",
       "    }\n",
       "</style>\n",
       "<table border=\"1\" class=\"dataframe\">\n",
       "  <thead>\n",
       "    <tr style=\"text-align: right;\">\n",
       "      <th></th>\n",
       "      <th>locationId</th>\n",
       "      <th>item_id</th>\n",
       "      <th>onpromotion</th>\n",
       "      <th>category_of_item</th>\n",
       "      <th>class</th>\n",
       "      <th>Month</th>\n",
       "      <th>Day</th>\n",
       "      <th>Week</th>\n",
       "    </tr>\n",
       "  </thead>\n",
       "  <tbody>\n",
       "    <tr>\n",
       "      <th>0</th>\n",
       "      <td>location_25</td>\n",
       "      <td>item_99197</td>\n",
       "      <td>False</td>\n",
       "      <td>grocery_items</td>\n",
       "      <td>class_1067</td>\n",
       "      <td>1</td>\n",
       "      <td>1</td>\n",
       "      <td>1</td>\n",
       "    </tr>\n",
       "    <tr>\n",
       "      <th>1</th>\n",
       "      <td>location_25</td>\n",
       "      <td>item_103665</td>\n",
       "      <td>False</td>\n",
       "      <td>baked_items / bread_based</td>\n",
       "      <td>class_2712</td>\n",
       "      <td>1</td>\n",
       "      <td>1</td>\n",
       "      <td>1</td>\n",
       "    </tr>\n",
       "    <tr>\n",
       "      <th>2</th>\n",
       "      <td>location_25</td>\n",
       "      <td>item_105574</td>\n",
       "      <td>False</td>\n",
       "      <td>grocery_items</td>\n",
       "      <td>class_1045</td>\n",
       "      <td>1</td>\n",
       "      <td>1</td>\n",
       "      <td>1</td>\n",
       "    </tr>\n",
       "    <tr>\n",
       "      <th>3</th>\n",
       "      <td>location_25</td>\n",
       "      <td>item_105857</td>\n",
       "      <td>False</td>\n",
       "      <td>grocery_items</td>\n",
       "      <td>class_1092</td>\n",
       "      <td>1</td>\n",
       "      <td>1</td>\n",
       "      <td>1</td>\n",
       "    </tr>\n",
       "    <tr>\n",
       "      <th>4</th>\n",
       "      <td>location_25</td>\n",
       "      <td>item_106716</td>\n",
       "      <td>False</td>\n",
       "      <td>grocery_items</td>\n",
       "      <td>class_1032</td>\n",
       "      <td>1</td>\n",
       "      <td>1</td>\n",
       "      <td>1</td>\n",
       "    </tr>\n",
       "  </tbody>\n",
       "</table>\n",
       "</div>"
      ],
      "text/plain": [
       "    locationId      item_id  onpromotion           category_of_item  \\\n",
       "0  location_25   item_99197        False              grocery_items   \n",
       "1  location_25  item_103665        False  baked_items / bread_based   \n",
       "2  location_25  item_105574        False              grocery_items   \n",
       "3  location_25  item_105857        False              grocery_items   \n",
       "4  location_25  item_106716        False              grocery_items   \n",
       "\n",
       "        class  Month  Day  Week  \n",
       "0  class_1067      1    1     1  \n",
       "1  class_2712      1    1     1  \n",
       "2  class_1045      1    1     1  \n",
       "3  class_1092      1    1     1  \n",
       "4  class_1032      1    1     1  "
      ]
     },
     "execution_count": 18,
     "metadata": {},
     "output_type": "execute_result"
    }
   ],
   "source": [
    "test = pd.merge(test,item_details,how = 'left', on = 'item_id')\n",
    "\n",
    "test['Month'] =pd.DatetimeIndex(test['date']).month.astype('int8')\n",
    "test['Day'] =pd.DatetimeIndex(test['date']).day.astype('int8')\n",
    "test['Week'] =pd.DatetimeIndex(test['date']).weekday.astype('int8')\n",
    "\n",
    "test = test.drop(['id','date','perishable'],axis = 1)\n",
    "\n",
    "\n",
    "test.head()"
   ]
  },
  {
   "cell_type": "code",
   "execution_count": 19,
   "metadata": {
    "colab": {
     "base_uri": "https://localhost:8080/"
    },
    "id": "glwomW8UYlVO",
    "outputId": "e64aa49e-eaf6-4c5a-d4d7-6791f3d91c30"
   },
   "outputs": [
    {
     "name": "stdout",
     "output_type": "stream",
     "text": [
      "locationId\n",
      "item_id\n",
      "onpromotion\n",
      "category_of_item\n",
      "class\n",
      "Month\n",
      "Day\n",
      "Week\n"
     ]
    }
   ],
   "source": [
    "### Converting to category \n",
    "\n",
    "\n",
    "def cat_converter(df):\n",
    "    for i in df.columns:\n",
    "        if df[i].dtype == 'float64':\n",
    "            df[i] = df[i]\n",
    "        else:            \n",
    "            df[i] = df[i].astype('category')\n",
    "            print(i)\n",
    "    return df\n",
    "\n",
    "\n",
    "test = cat_converter(test)"
   ]
  },
  {
   "cell_type": "code",
   "execution_count": 20,
   "metadata": {
    "id": "14iVlthVYwsU"
   },
   "outputs": [],
   "source": [
    "Test_pred = LGB_model.predict(test)"
   ]
  },
  {
   "cell_type": "code",
   "execution_count": 21,
   "metadata": {
    "id": "rF6XEtLRZn3O"
   },
   "outputs": [],
   "source": [
    "Test_Pred_best = np.expm1(Test_pred)"
   ]
  },
  {
   "cell_type": "code",
   "execution_count": 22,
   "metadata": {},
   "outputs": [
    {
     "data": {
      "text/plain": [
       "array([1.19800902, 1.21733827, 1.42688314, ..., 1.48623582, 1.33112006,\n",
       "       1.319369  ])"
      ]
     },
     "execution_count": 22,
     "metadata": {},
     "output_type": "execute_result"
    }
   ],
   "source": [
    "Test_Pred_best"
   ]
  },
  {
   "cell_type": "code",
   "execution_count": 23,
   "metadata": {
    "id": "6I70USMiaKPC"
   },
   "outputs": [],
   "source": [
    "res = pd.DataFrame(Test_Pred_best)\n",
    "ID = pd.DataFrame(ID)\n",
    "\n",
    "res = res.rename(columns={res.columns[0]: 'unit_sales'})\n",
    "\n",
    "gb = pd.concat([ID,res], axis = 1)\n",
    "\n",
    "gb['unit_sales'] = gb['unit_sales'].round(2)"
   ]
  },
  {
   "cell_type": "code",
   "execution_count": 24,
   "metadata": {
    "id": "9llLoSGgaean"
   },
   "outputs": [],
   "source": [
    "del test\n",
    "del train_subset"
   ]
  },
  {
   "cell_type": "code",
   "execution_count": 25,
   "metadata": {
    "id": "QM_gFg4paWCN"
   },
   "outputs": [],
   "source": [
    "gb.to_csv(\"Final_Submission.csv\",index= False)"
   ]
  },
  {
   "cell_type": "code",
   "execution_count": null,
   "metadata": {},
   "outputs": [],
   "source": []
  }
 ],
 "metadata": {
  "colab": {
   "collapsed_sections": [],
   "name": "Model with test data 69 mape .ipynb",
   "provenance": []
  },
  "kernelspec": {
   "display_name": "Python 3",
   "language": "python",
   "name": "python3"
  },
  "language_info": {
   "codemirror_mode": {
    "name": "ipython",
    "version": 3
   },
   "file_extension": ".py",
   "mimetype": "text/x-python",
   "name": "python",
   "nbconvert_exporter": "python",
   "pygments_lexer": "ipython3",
   "version": "3.8.5"
  }
 },
 "nbformat": 4,
 "nbformat_minor": 1
}
