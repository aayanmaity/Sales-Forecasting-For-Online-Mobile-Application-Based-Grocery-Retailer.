{
 "cells": [
  {
   "cell_type": "code",
   "execution_count": null,
   "metadata": {
    "id": "6hK5dKU711iW"
   },
   "outputs": [],
   "source": [
    "# Loading important libraries \n",
    "\n",
    "import numpy as np\n",
    "import pandas as pd\n",
    "\n",
    "import warnings\n",
    "warnings.filterwarnings(\"ignore\")"
   ]
  },
  {
   "cell_type": "code",
   "execution_count": null,
   "metadata": {
    "id": "oqaV9YvpOU3g"
   },
   "outputs": [],
   "source": [
    "## Loading the data \n",
    "\n",
    "train_subset = pd.read_csv(\"/content/drive/MyDrive/FinalHack Datasets/train_subset.csv\")\n",
    "\n",
    "test = pd.read_csv(\"/content/drive/MyDrive/FinalHack Datasets/test.csv\")\n",
    "\n",
    "location_details = pd.read_excel(\"/content/drive/MyDrive/FinalHack Datasets/location_details.xlsx\")\n",
    "\n",
    "item_details = pd.read_excel(\"/content/drive/MyDrive/FinalHack Datasets/item_details.xlsx\")"
   ]
  },
  {
   "cell_type": "code",
   "execution_count": null,
   "metadata": {
    "colab": {
     "base_uri": "https://localhost:8080/"
    },
    "id": "6CmQO6zGR3B5",
    "outputId": "e05f7314-e72c-48bb-a244-f51c1355d813"
   },
   "outputs": [
    {
     "name": "stdout",
     "output_type": "stream",
     "text": [
      "<class 'pandas.core.frame.DataFrame'>\n",
      "RangeIndex: 21679751 entries, 0 to 21679750\n",
      "Data columns (total 6 columns):\n",
      " #   Column       Dtype  \n",
      "---  ------       -----  \n",
      " 0   Unnamed: 0   int64  \n",
      " 1   date         object \n",
      " 2   locationId   object \n",
      " 3   item_id      object \n",
      " 4   unit_sales   float64\n",
      " 5   onpromotion  bool   \n",
      "dtypes: bool(1), float64(1), int64(1), object(3)\n",
      "memory usage: 847.7+ MB\n"
     ]
    }
   ],
   "source": [
    "train_subset.info()"
   ]
  },
  {
   "cell_type": "code",
   "execution_count": null,
   "metadata": {
    "id": "cWkNaRT0R62J"
   },
   "outputs": [],
   "source": [
    "train_subset['date'] = pd.to_datetime(train_subset['date'])"
   ]
  },
  {
   "cell_type": "code",
   "execution_count": null,
   "metadata": {
    "id": "2aG1DvS5SRHW"
   },
   "outputs": [],
   "source": [
    "train_subset = pd.merge(train_subset,item_details,how = 'left', on = 'item_id')\n",
    "\n",
    "train_subset = train_subset.rename(columns = {'locationId':'location_id'})\n",
    "\n",
    "train_subset = pd.merge(train_subset,location_details,how = 'left', on = 'location_id')"
   ]
  },
  {
   "cell_type": "code",
   "execution_count": null,
   "metadata": {
    "id": "DOsg79cxSl87"
   },
   "outputs": [],
   "source": [
    "train_subset['Month'] =pd.DatetimeIndex(train_subset['date']).month.astype('int8')\n",
    "train_subset['Day'] =pd.DatetimeIndex(train_subset['date']).day.astype('int8')\n",
    "train_subset['Week'] =pd.DatetimeIndex(train_subset['date']).weekday.astype('int8')"
   ]
  },
  {
   "cell_type": "code",
   "execution_count": null,
   "metadata": {
    "colab": {
     "base_uri": "https://localhost:8080/",
     "height": 322
    },
    "id": "_gjMxEX5SrWI",
    "outputId": "7510f2f9-f3b2-47e2-ddab-811e6720fad3"
   },
   "outputs": [
    {
     "data": {
      "text/html": [
       "<div>\n",
       "<style scoped>\n",
       "    .dataframe tbody tr th:only-of-type {\n",
       "        vertical-align: middle;\n",
       "    }\n",
       "\n",
       "    .dataframe tbody tr th {\n",
       "        vertical-align: top;\n",
       "    }\n",
       "\n",
       "    .dataframe thead th {\n",
       "        text-align: right;\n",
       "    }\n",
       "</style>\n",
       "<table border=\"1\" class=\"dataframe\">\n",
       "  <thead>\n",
       "    <tr style=\"text-align: right;\">\n",
       "      <th></th>\n",
       "      <th>Unnamed: 0</th>\n",
       "      <th>date</th>\n",
       "      <th>location_id</th>\n",
       "      <th>item_id</th>\n",
       "      <th>unit_sales</th>\n",
       "      <th>onpromotion</th>\n",
       "      <th>category_of_item</th>\n",
       "      <th>class</th>\n",
       "      <th>perishable</th>\n",
       "      <th>city</th>\n",
       "      <th>state</th>\n",
       "      <th>type</th>\n",
       "      <th>cluster</th>\n",
       "      <th>Month</th>\n",
       "      <th>Day</th>\n",
       "      <th>Week</th>\n",
       "    </tr>\n",
       "  </thead>\n",
       "  <tbody>\n",
       "    <tr>\n",
       "      <th>0</th>\n",
       "      <td>0</td>\n",
       "      <td>2018-01-01</td>\n",
       "      <td>location_25</td>\n",
       "      <td>item_105574</td>\n",
       "      <td>12.0</td>\n",
       "      <td>False</td>\n",
       "      <td>grocery_items</td>\n",
       "      <td>class_1045</td>\n",
       "      <td>0</td>\n",
       "      <td>Kanpur</td>\n",
       "      <td>Uttar Pradesh</td>\n",
       "      <td>D</td>\n",
       "      <td>1</td>\n",
       "      <td>1</td>\n",
       "      <td>1</td>\n",
       "      <td>0</td>\n",
       "    </tr>\n",
       "    <tr>\n",
       "      <th>1</th>\n",
       "      <td>1</td>\n",
       "      <td>2018-01-01</td>\n",
       "      <td>location_25</td>\n",
       "      <td>item_105575</td>\n",
       "      <td>9.0</td>\n",
       "      <td>False</td>\n",
       "      <td>grocery_items</td>\n",
       "      <td>class_1045</td>\n",
       "      <td>0</td>\n",
       "      <td>Kanpur</td>\n",
       "      <td>Uttar Pradesh</td>\n",
       "      <td>D</td>\n",
       "      <td>1</td>\n",
       "      <td>1</td>\n",
       "      <td>1</td>\n",
       "      <td>0</td>\n",
       "    </tr>\n",
       "    <tr>\n",
       "      <th>2</th>\n",
       "      <td>2</td>\n",
       "      <td>2018-01-01</td>\n",
       "      <td>location_25</td>\n",
       "      <td>item_105857</td>\n",
       "      <td>3.0</td>\n",
       "      <td>False</td>\n",
       "      <td>grocery_items</td>\n",
       "      <td>class_1092</td>\n",
       "      <td>0</td>\n",
       "      <td>Kanpur</td>\n",
       "      <td>Uttar Pradesh</td>\n",
       "      <td>D</td>\n",
       "      <td>1</td>\n",
       "      <td>1</td>\n",
       "      <td>1</td>\n",
       "      <td>0</td>\n",
       "    </tr>\n",
       "    <tr>\n",
       "      <th>3</th>\n",
       "      <td>3</td>\n",
       "      <td>2018-01-01</td>\n",
       "      <td>location_25</td>\n",
       "      <td>item_108634</td>\n",
       "      <td>3.0</td>\n",
       "      <td>False</td>\n",
       "      <td>grocery_items</td>\n",
       "      <td>class_1075</td>\n",
       "      <td>0</td>\n",
       "      <td>Kanpur</td>\n",
       "      <td>Uttar Pradesh</td>\n",
       "      <td>D</td>\n",
       "      <td>1</td>\n",
       "      <td>1</td>\n",
       "      <td>1</td>\n",
       "      <td>0</td>\n",
       "    </tr>\n",
       "    <tr>\n",
       "      <th>4</th>\n",
       "      <td>4</td>\n",
       "      <td>2018-01-01</td>\n",
       "      <td>location_25</td>\n",
       "      <td>item_108701</td>\n",
       "      <td>2.0</td>\n",
       "      <td>True</td>\n",
       "      <td>deli_items</td>\n",
       "      <td>class_2644</td>\n",
       "      <td>1</td>\n",
       "      <td>Kanpur</td>\n",
       "      <td>Uttar Pradesh</td>\n",
       "      <td>D</td>\n",
       "      <td>1</td>\n",
       "      <td>1</td>\n",
       "      <td>1</td>\n",
       "      <td>0</td>\n",
       "    </tr>\n",
       "  </tbody>\n",
       "</table>\n",
       "</div>"
      ],
      "text/plain": [
       "   Unnamed: 0       date  location_id      item_id  ...  cluster  Month Day Week\n",
       "0           0 2018-01-01  location_25  item_105574  ...        1      1   1    0\n",
       "1           1 2018-01-01  location_25  item_105575  ...        1      1   1    0\n",
       "2           2 2018-01-01  location_25  item_105857  ...        1      1   1    0\n",
       "3           3 2018-01-01  location_25  item_108634  ...        1      1   1    0\n",
       "4           4 2018-01-01  location_25  item_108701  ...        1      1   1    0\n",
       "\n",
       "[5 rows x 16 columns]"
      ]
     },
     "execution_count": 7,
     "metadata": {
      "tags": []
     },
     "output_type": "execute_result"
    }
   ],
   "source": [
    "train_subset.head()"
   ]
  },
  {
   "cell_type": "code",
   "execution_count": null,
   "metadata": {
    "id": "jtmwF0eCSued"
   },
   "outputs": [],
   "source": [
    "train_subset = train_subset.drop(['Unnamed: 0','date','item_id','class','state'],axis = 1)"
   ]
  },
  {
   "cell_type": "code",
   "execution_count": null,
   "metadata": {
    "id": "pIPiLBpsFCdx"
   },
   "outputs": [],
   "source": [
    "### Removing negative values in train data \n",
    "\n",
    "train_subset = train_subset[(train_subset['unit_sales']>0)]"
   ]
  },
  {
   "cell_type": "code",
   "execution_count": null,
   "metadata": {
    "colab": {
     "base_uri": "https://localhost:8080/"
    },
    "id": "Ww7xA-LuTDv6",
    "outputId": "42d5e7e2-dad1-4b4f-eda8-42bed86c2b82"
   },
   "outputs": [
    {
     "name": "stdout",
     "output_type": "stream",
     "text": [
      "location_id\n",
      "category_of_item\n",
      "city\n",
      "type\n"
     ]
    }
   ],
   "source": [
    "## Label Encoding \n",
    "\n",
    "\n",
    "from sklearn import preprocessing\n",
    "def df_lbl_enc(df):\n",
    "    for c in df.columns:\n",
    "        if df[c].dtype == 'object':\n",
    "            lbl = preprocessing.LabelEncoder()\n",
    "            df[c] = lbl.fit_transform(df[c])\n",
    "            print(c)\n",
    "    return df\n",
    "\n",
    "\n",
    "train_subset = df_lbl_enc(train_subset)"
   ]
  },
  {
   "cell_type": "code",
   "execution_count": null,
   "metadata": {
    "colab": {
     "base_uri": "https://localhost:8080/"
    },
    "id": "tr0O8VDZTccB",
    "outputId": "770fc48b-840c-45c3-a64b-8fb313106535"
   },
   "outputs": [
    {
     "name": "stdout",
     "output_type": "stream",
     "text": [
      "<class 'pandas.core.frame.DataFrame'>\n",
      "Int64Index: 21678360 entries, 0 to 21679750\n",
      "Data columns (total 11 columns):\n",
      " #   Column            Dtype  \n",
      "---  ------            -----  \n",
      " 0   location_id       int64  \n",
      " 1   unit_sales        float64\n",
      " 2   onpromotion       bool   \n",
      " 3   category_of_item  int64  \n",
      " 4   perishable        int64  \n",
      " 5   city              int64  \n",
      " 6   type              int64  \n",
      " 7   cluster           int64  \n",
      " 8   Month             int64  \n",
      " 9   Day               int64  \n",
      " 10  Week              int64  \n",
      "dtypes: bool(1), float64(1), int64(9)\n",
      "memory usage: 1.8 GB\n"
     ]
    }
   ],
   "source": [
    "train_subset.info()"
   ]
  },
  {
   "cell_type": "code",
   "execution_count": null,
   "metadata": {
    "id": "J49Jq6a1gUK2"
   },
   "outputs": [],
   "source": [
    " from sklearn.preprocessing import LabelEncoder\n",
    "\n",
    " lb = LabelEncoder()\n",
    "\n",
    " train_subset['onpromotion']= lb.fit_transform(train_subset['onpromotion'])"
   ]
  },
  {
   "cell_type": "code",
   "execution_count": null,
   "metadata": {
    "colab": {
     "base_uri": "https://localhost:8080/"
    },
    "id": "FAxZQ6WuTeMa",
    "outputId": "64dcc934-25f9-4138-fd32-6aeba51ac8af"
   },
   "outputs": [
    {
     "name": "stdout",
     "output_type": "stream",
     "text": [
      "location_id\n",
      "onpromotion\n",
      "category_of_item\n",
      "perishable\n",
      "city\n",
      "type\n",
      "cluster\n",
      "Month\n",
      "Day\n",
      "Week\n"
     ]
    }
   ],
   "source": [
    "### Converting to category \n",
    "\n",
    "\n",
    "def cat_converter(df):\n",
    "    for i in df.columns:\n",
    "        if df[i].dtype == 'float64':\n",
    "            df[i] = df[i]\n",
    "        else:            \n",
    "            df[i] = df[i].astype('category')\n",
    "            print(i)\n",
    "    return df\n",
    "\n",
    "\n",
    "train_subset = cat_converter(train_subset)"
   ]
  },
  {
   "cell_type": "code",
   "execution_count": null,
   "metadata": {
    "colab": {
     "base_uri": "https://localhost:8080/"
    },
    "id": "_Tk2oaY9k_FT",
    "outputId": "325d2505-c8cd-4584-c6ea-437df2489bb2"
   },
   "outputs": [
    {
     "name": "stdout",
     "output_type": "stream",
     "text": [
      "<class 'pandas.core.frame.DataFrame'>\n",
      "Int64Index: 21678360 entries, 0 to 21679750\n",
      "Data columns (total 11 columns):\n",
      " #   Column            Dtype   \n",
      "---  ------            -----   \n",
      " 0   location_id       category\n",
      " 1   unit_sales        float64 \n",
      " 2   onpromotion       category\n",
      " 3   category_of_item  category\n",
      " 4   perishable        category\n",
      " 5   city              category\n",
      " 6   type              category\n",
      " 7   cluster           category\n",
      " 8   Month             category\n",
      " 9   Day               category\n",
      " 10  Week              category\n",
      "dtypes: category(10), float64(1)\n",
      "memory usage: 537.5 MB\n"
     ]
    }
   ],
   "source": [
    "train_subset.info()"
   ]
  },
  {
   "cell_type": "code",
   "execution_count": null,
   "metadata": {
    "colab": {
     "base_uri": "https://localhost:8080/",
     "height": 200
    },
    "id": "U9mZg74mmKCN",
    "outputId": "06cee332-5b26-4ac8-c9a2-0b66e4b607fb"
   },
   "outputs": [
    {
     "data": {
      "text/html": [
       "<div>\n",
       "<style scoped>\n",
       "    .dataframe tbody tr th:only-of-type {\n",
       "        vertical-align: middle;\n",
       "    }\n",
       "\n",
       "    .dataframe tbody tr th {\n",
       "        vertical-align: top;\n",
       "    }\n",
       "\n",
       "    .dataframe thead th {\n",
       "        text-align: right;\n",
       "    }\n",
       "</style>\n",
       "<table border=\"1\" class=\"dataframe\">\n",
       "  <thead>\n",
       "    <tr style=\"text-align: right;\">\n",
       "      <th></th>\n",
       "      <th>location_id</th>\n",
       "      <th>unit_sales</th>\n",
       "      <th>onpromotion</th>\n",
       "      <th>category_of_item</th>\n",
       "      <th>perishable</th>\n",
       "      <th>city</th>\n",
       "      <th>type</th>\n",
       "      <th>cluster</th>\n",
       "      <th>Month</th>\n",
       "      <th>Day</th>\n",
       "      <th>Week</th>\n",
       "    </tr>\n",
       "  </thead>\n",
       "  <tbody>\n",
       "    <tr>\n",
       "      <th>0</th>\n",
       "      <td>17</td>\n",
       "      <td>12.0</td>\n",
       "      <td>0</td>\n",
       "      <td>8</td>\n",
       "      <td>0</td>\n",
       "      <td>10</td>\n",
       "      <td>3</td>\n",
       "      <td>1</td>\n",
       "      <td>1</td>\n",
       "      <td>1</td>\n",
       "      <td>0</td>\n",
       "    </tr>\n",
       "    <tr>\n",
       "      <th>1</th>\n",
       "      <td>17</td>\n",
       "      <td>9.0</td>\n",
       "      <td>0</td>\n",
       "      <td>8</td>\n",
       "      <td>0</td>\n",
       "      <td>10</td>\n",
       "      <td>3</td>\n",
       "      <td>1</td>\n",
       "      <td>1</td>\n",
       "      <td>1</td>\n",
       "      <td>0</td>\n",
       "    </tr>\n",
       "    <tr>\n",
       "      <th>2</th>\n",
       "      <td>17</td>\n",
       "      <td>3.0</td>\n",
       "      <td>0</td>\n",
       "      <td>8</td>\n",
       "      <td>0</td>\n",
       "      <td>10</td>\n",
       "      <td>3</td>\n",
       "      <td>1</td>\n",
       "      <td>1</td>\n",
       "      <td>1</td>\n",
       "      <td>0</td>\n",
       "    </tr>\n",
       "    <tr>\n",
       "      <th>3</th>\n",
       "      <td>17</td>\n",
       "      <td>3.0</td>\n",
       "      <td>0</td>\n",
       "      <td>8</td>\n",
       "      <td>0</td>\n",
       "      <td>10</td>\n",
       "      <td>3</td>\n",
       "      <td>1</td>\n",
       "      <td>1</td>\n",
       "      <td>1</td>\n",
       "      <td>0</td>\n",
       "    </tr>\n",
       "    <tr>\n",
       "      <th>4</th>\n",
       "      <td>17</td>\n",
       "      <td>2.0</td>\n",
       "      <td>1</td>\n",
       "      <td>5</td>\n",
       "      <td>1</td>\n",
       "      <td>10</td>\n",
       "      <td>3</td>\n",
       "      <td>1</td>\n",
       "      <td>1</td>\n",
       "      <td>1</td>\n",
       "      <td>0</td>\n",
       "    </tr>\n",
       "  </tbody>\n",
       "</table>\n",
       "</div>"
      ],
      "text/plain": [
       "  location_id  unit_sales onpromotion category_of_item  ... cluster Month Day Week\n",
       "0          17        12.0           0                8  ...       1     1   1    0\n",
       "1          17         9.0           0                8  ...       1     1   1    0\n",
       "2          17         3.0           0                8  ...       1     1   1    0\n",
       "3          17         3.0           0                8  ...       1     1   1    0\n",
       "4          17         2.0           1                5  ...       1     1   1    0\n",
       "\n",
       "[5 rows x 11 columns]"
      ]
     },
     "execution_count": 15,
     "metadata": {
      "tags": []
     },
     "output_type": "execute_result"
    }
   ],
   "source": [
    "train_subset.head()"
   ]
  },
  {
   "cell_type": "code",
   "execution_count": null,
   "metadata": {
    "id": "oGRWZLlrpyOe"
   },
   "outputs": [],
   "source": [
    "#train_subset = train_subset.sample(frac = .1)"
   ]
  },
  {
   "cell_type": "code",
   "execution_count": null,
   "metadata": {
    "colab": {
     "base_uri": "https://localhost:8080/"
    },
    "id": "a-H_wXmVmMCS",
    "outputId": "59d59d23-986b-4736-df7f-5cf8d8f356d3"
   },
   "outputs": [
    {
     "name": "stdout",
     "output_type": "stream",
     "text": [
      "<class 'pandas.core.frame.DataFrame'>\n",
      "Int64Index: 21678360 entries, 0 to 21679750\n",
      "Data columns (total 11 columns):\n",
      " #   Column            Dtype   \n",
      "---  ------            -----   \n",
      " 0   location_id       category\n",
      " 1   unit_sales        float64 \n",
      " 2   onpromotion       category\n",
      " 3   category_of_item  category\n",
      " 4   perishable        category\n",
      " 5   city              category\n",
      " 6   type              category\n",
      " 7   cluster           category\n",
      " 8   Month             category\n",
      " 9   Day               category\n",
      " 10  Week              category\n",
      "dtypes: category(10), float64(1)\n",
      "memory usage: 537.5 MB\n"
     ]
    }
   ],
   "source": [
    "train_subset.info()"
   ]
  },
  {
   "cell_type": "code",
   "execution_count": null,
   "metadata": {
    "id": "KZwgDkPv7QfF"
   },
   "outputs": [],
   "source": [
    "#cols_to_transform = train_subset.select_dtypes(include=['category']).columns\n",
    "\n",
    "#train_subset = pd.get_dummies(columns=cols_to_transform, data=train_subset, prefix=cols_to_transform, prefix_sep=\"_\",drop_first=True)"
   ]
  },
  {
   "cell_type": "code",
   "execution_count": null,
   "metadata": {
    "colab": {
     "base_uri": "https://localhost:8080/"
    },
    "id": "XpZ4OdCE8-Eh",
    "outputId": "41c376ae-3c68-4f4f-e2c1-50ab7c081e50"
   },
   "outputs": [
    {
     "name": "stdout",
     "output_type": "stream",
     "text": [
      "<class 'pandas.core.frame.DataFrame'>\n",
      "Int64Index: 2167836 entries, 15338292 to 13922048\n",
      "Columns: 167 entries, unit_sales to Week_6\n",
      "dtypes: float64(1), uint8(166)\n",
      "memory usage: 376.3 MB\n"
     ]
    }
   ],
   "source": [
    "#train_subset.info()"
   ]
  },
  {
   "cell_type": "code",
   "execution_count": null,
   "metadata": {
    "colab": {
     "base_uri": "https://localhost:8080/"
    },
    "id": "ePs2ueaF3uSL",
    "outputId": "479461d8-2d1f-4069-d2c3-290320f7c639"
   },
   "outputs": [
    {
     "data": {
      "text/plain": [
       "(21678360, 11)"
      ]
     },
     "execution_count": 17,
     "metadata": {
      "tags": []
     },
     "output_type": "execute_result"
    }
   ],
   "source": [
    "train_subset.shape"
   ]
  },
  {
   "cell_type": "code",
   "execution_count": null,
   "metadata": {
    "colab": {
     "base_uri": "https://localhost:8080/",
     "height": 200
    },
    "id": "15LDeDouET-6",
    "outputId": "f3f1a672-c79a-4f92-e2c6-e5b0f1c867d5"
   },
   "outputs": [
    {
     "data": {
      "text/html": [
       "<div>\n",
       "<style scoped>\n",
       "    .dataframe tbody tr th:only-of-type {\n",
       "        vertical-align: middle;\n",
       "    }\n",
       "\n",
       "    .dataframe tbody tr th {\n",
       "        vertical-align: top;\n",
       "    }\n",
       "\n",
       "    .dataframe thead th {\n",
       "        text-align: right;\n",
       "    }\n",
       "</style>\n",
       "<table border=\"1\" class=\"dataframe\">\n",
       "  <thead>\n",
       "    <tr style=\"text-align: right;\">\n",
       "      <th></th>\n",
       "      <th>location_id</th>\n",
       "      <th>unit_sales</th>\n",
       "      <th>onpromotion</th>\n",
       "      <th>category_of_item</th>\n",
       "      <th>perishable</th>\n",
       "      <th>city</th>\n",
       "      <th>type</th>\n",
       "      <th>cluster</th>\n",
       "      <th>Month</th>\n",
       "      <th>Day</th>\n",
       "      <th>Week</th>\n",
       "    </tr>\n",
       "  </thead>\n",
       "  <tbody>\n",
       "    <tr>\n",
       "      <th>0</th>\n",
       "      <td>17</td>\n",
       "      <td>12.0</td>\n",
       "      <td>0</td>\n",
       "      <td>8</td>\n",
       "      <td>0</td>\n",
       "      <td>10</td>\n",
       "      <td>3</td>\n",
       "      <td>1</td>\n",
       "      <td>1</td>\n",
       "      <td>1</td>\n",
       "      <td>0</td>\n",
       "    </tr>\n",
       "    <tr>\n",
       "      <th>1</th>\n",
       "      <td>17</td>\n",
       "      <td>9.0</td>\n",
       "      <td>0</td>\n",
       "      <td>8</td>\n",
       "      <td>0</td>\n",
       "      <td>10</td>\n",
       "      <td>3</td>\n",
       "      <td>1</td>\n",
       "      <td>1</td>\n",
       "      <td>1</td>\n",
       "      <td>0</td>\n",
       "    </tr>\n",
       "    <tr>\n",
       "      <th>2</th>\n",
       "      <td>17</td>\n",
       "      <td>3.0</td>\n",
       "      <td>0</td>\n",
       "      <td>8</td>\n",
       "      <td>0</td>\n",
       "      <td>10</td>\n",
       "      <td>3</td>\n",
       "      <td>1</td>\n",
       "      <td>1</td>\n",
       "      <td>1</td>\n",
       "      <td>0</td>\n",
       "    </tr>\n",
       "    <tr>\n",
       "      <th>3</th>\n",
       "      <td>17</td>\n",
       "      <td>3.0</td>\n",
       "      <td>0</td>\n",
       "      <td>8</td>\n",
       "      <td>0</td>\n",
       "      <td>10</td>\n",
       "      <td>3</td>\n",
       "      <td>1</td>\n",
       "      <td>1</td>\n",
       "      <td>1</td>\n",
       "      <td>0</td>\n",
       "    </tr>\n",
       "    <tr>\n",
       "      <th>4</th>\n",
       "      <td>17</td>\n",
       "      <td>2.0</td>\n",
       "      <td>1</td>\n",
       "      <td>5</td>\n",
       "      <td>1</td>\n",
       "      <td>10</td>\n",
       "      <td>3</td>\n",
       "      <td>1</td>\n",
       "      <td>1</td>\n",
       "      <td>1</td>\n",
       "      <td>0</td>\n",
       "    </tr>\n",
       "  </tbody>\n",
       "</table>\n",
       "</div>"
      ],
      "text/plain": [
       "  location_id  unit_sales onpromotion category_of_item  ... cluster Month Day Week\n",
       "0          17        12.0           0                8  ...       1     1   1    0\n",
       "1          17         9.0           0                8  ...       1     1   1    0\n",
       "2          17         3.0           0                8  ...       1     1   1    0\n",
       "3          17         3.0           0                8  ...       1     1   1    0\n",
       "4          17         2.0           1                5  ...       1     1   1    0\n",
       "\n",
       "[5 rows x 11 columns]"
      ]
     },
     "execution_count": 18,
     "metadata": {
      "tags": []
     },
     "output_type": "execute_result"
    }
   ],
   "source": [
    "train_subset.head()"
   ]
  },
  {
   "cell_type": "code",
   "execution_count": null,
   "metadata": {
    "id": "oulkhYbbT4Sz"
   },
   "outputs": [],
   "source": [
    "X = train_subset.drop(['unit_sales'], axis = 1)\n",
    "\n",
    "y = train_subset['unit_sales']\n",
    "\n",
    "#X = train_subset.loc[:,train_subset.columns!='unit_sales'].values\n",
    "#y = train_subset.loc[:,'unit_sales'].values"
   ]
  },
  {
   "cell_type": "code",
   "execution_count": null,
   "metadata": {
    "colab": {
     "base_uri": "https://localhost:8080/"
    },
    "id": "C08i_Wjyquwa",
    "outputId": "97ea8c3d-2b9c-43cd-aba0-1845870884b4"
   },
   "outputs": [
    {
     "name": "stdout",
     "output_type": "stream",
     "text": [
      "<class 'pandas.core.frame.DataFrame'>\n",
      "Int64Index: 21678360 entries, 0 to 21679750\n",
      "Data columns (total 11 columns):\n",
      " #   Column            Dtype   \n",
      "---  ------            -----   \n",
      " 0   location_id       category\n",
      " 1   unit_sales        float64 \n",
      " 2   onpromotion       category\n",
      " 3   category_of_item  category\n",
      " 4   perishable        category\n",
      " 5   city              category\n",
      " 6   type              category\n",
      " 7   cluster           category\n",
      " 8   Month             category\n",
      " 9   Day               category\n",
      " 10  Week              category\n",
      "dtypes: category(10), float64(1)\n",
      "memory usage: 537.5 MB\n"
     ]
    }
   ],
   "source": [
    "train_subset.info()"
   ]
  },
  {
   "cell_type": "code",
   "execution_count": null,
   "metadata": {
    "id": "CBGAbax6UNbb"
   },
   "outputs": [],
   "source": [
    "from sklearn.model_selection import train_test_split\n",
    "\n",
    "\n",
    "X_train, X_test, y_train, y_test = train_test_split(X, y, test_size=0.30, random_state=42)"
   ]
  },
  {
   "cell_type": "code",
   "execution_count": null,
   "metadata": {
    "colab": {
     "base_uri": "https://localhost:8080/"
    },
    "id": "WbyXWFNO25u-",
    "outputId": "30ea33c1-28dd-4983-c2d5-98555c250d4f"
   },
   "outputs": [
    {
     "data": {
      "text/plain": [
       "(15174852, 10)"
      ]
     },
     "execution_count": 22,
     "metadata": {
      "tags": []
     },
     "output_type": "execute_result"
    }
   ],
   "source": [
    "X_train.shape\n",
    "#X_test.shape"
   ]
  },
  {
   "cell_type": "code",
   "execution_count": null,
   "metadata": {
    "id": "rwP9W6rEUSxV"
   },
   "outputs": [],
   "source": [
    "def mean_absolute_percentage_error(y_true, y_pred): \n",
    "    y_true, y_pred = np.array(y_true), np.array(y_pred)\n",
    "    return np.mean(np.abs((y_true - y_pred) / y_true)) * 100"
   ]
  },
  {
   "cell_type": "code",
   "execution_count": null,
   "metadata": {
    "id": "MyTbzRW9vHYU"
   },
   "outputs": [],
   "source": [
    "y_train = np.log1p(y_train)\n",
    "y_test = np.log1p(y_test)"
   ]
  },
  {
   "cell_type": "code",
   "execution_count": null,
   "metadata": {
    "colab": {
     "base_uri": "https://localhost:8080/"
    },
    "id": "iFW0gEcaUVpQ",
    "outputId": "832b7522-c4fe-4f7e-e851-ee7c1a7eed45"
   },
   "outputs": [
    {
     "name": "stdout",
     "output_type": "stream",
     "text": [
      "50.19303853646678\n",
      "50.498835021395706\n"
     ]
    }
   ],
   "source": [
    "from sklearn.ensemble import RandomForestRegressor\n",
    "\n",
    "## RandomForestRegressor\n",
    "\n",
    "RF_model = RandomForestRegressor(max_depth = 5 , n_jobs = -1)\n",
    "RF_model.fit(X_train, y_train)\n",
    "\n",
    "\n",
    "RF_Model_Y_train_pred = RF_model.predict(X_train)\n",
    "RF_Model_Y_test_pred = RF_model.predict(X_test)\n",
    "\n",
    "Train_score_RF= mean_absolute_percentage_error(y_train,RF_Model_Y_train_pred)\n",
    "Test_score_RF = mean_absolute_percentage_error(y_test,RF_Model_Y_test_pred)\n",
    "\n",
    "print(Train_score_RF)\n",
    "print(Test_score_RF)"
   ]
  },
  {
   "cell_type": "code",
   "execution_count": null,
   "metadata": {
    "colab": {
     "base_uri": "https://localhost:8080/"
    },
    "id": "Q9gbHhaQg9Gt",
    "outputId": "d387c910-0552-4f6e-b62a-afbfea237e07"
   },
   "outputs": [
    {
     "name": "stdout",
     "output_type": "stream",
     "text": [
      "114.17869842229744\n",
      "115.07275852812944\n"
     ]
    }
   ],
   "source": [
    "## Converting Log Columns \n",
    "\n",
    "y_train =np.expm1(y_train)\n",
    "y_test =np.expm1(y_test)\n",
    "\n",
    "\n",
    "RF_Model_Y_train_pred =np.expm1(RF_Model_Y_train_pred)\n",
    "RF_Model_Y_test_pred =np.expm1(RF_Model_Y_test_pred)\n",
    "\n",
    "Train_score_RF= mean_absolute_percentage_error(y_train,RF_Model_Y_train_pred)\n",
    "Test_score_RF = mean_absolute_percentage_error(y_test,RF_Model_Y_test_pred)\n",
    "\n",
    "print(Train_score_RF)\n",
    "print(Test_score_RF)\n",
    "\n"
   ]
  },
  {
   "cell_type": "code",
   "execution_count": null,
   "metadata": {
    "colab": {
     "base_uri": "https://localhost:8080/"
    },
    "id": "5DPg2ktcq2qi",
    "outputId": "c84d792d-6677-409e-a551-718c7e2c6c95"
   },
   "outputs": [
    {
     "data": {
      "text/plain": [
       "GradientBoostingRegressor(alpha=0.9, ccp_alpha=0.0, criterion='friedman_mse',\n",
       "                          init=None, learning_rate=0.1, loss='ls', max_depth=4,\n",
       "                          max_features=None, max_leaf_nodes=None,\n",
       "                          min_impurity_decrease=0.0, min_impurity_split=None,\n",
       "                          min_samples_leaf=1, min_samples_split=2,\n",
       "                          min_weight_fraction_leaf=0.0, n_estimators=100,\n",
       "                          n_iter_no_change=None, presort='deprecated',\n",
       "                          random_state=None, subsample=1.0, tol=0.0001,\n",
       "                          validation_fraction=0.1, verbose=0, warm_start=False)"
      ]
     },
     "execution_count": 25,
     "metadata": {
      "tags": []
     },
     "output_type": "execute_result"
    }
   ],
   "source": [
    "from sklearn.ensemble import GradientBoostingRegressor\n",
    "\n",
    "## Gradient Boosting Regressor \n",
    "\n",
    "GB_model = GradientBoostingRegressor(max_depth=4)\n",
    "\n",
    "\n",
    "GB_model.fit(X_train, y_train)\n",
    "\n"
   ]
  },
  {
   "cell_type": "code",
   "execution_count": null,
   "metadata": {
    "colab": {
     "base_uri": "https://localhost:8080/"
    },
    "id": "ozoJyujNvBPB",
    "outputId": "5c33a536-79a9-4e25-d382-01a85f738edb"
   },
   "outputs": [
    {
     "name": "stdout",
     "output_type": "stream",
     "text": [
      "109.82070212252152\n",
      "109.97420120515697\n"
     ]
    }
   ],
   "source": [
    "GB_Model_Y_train_pred = GB_model.predict(X_train)\n",
    "GB_Model_Y_test_pred = GB_model.predict(X_test)\n",
    "\n",
    "\n",
    "y_train =np.expm1(y_train)\n",
    "y_test =np.expm1(y_test)\n",
    "\n",
    "\n",
    "GB_Model_Y_train_pred =np.expm1(GB_Model_Y_train_pred)\n",
    "GB_Model_Y_test_pred =np.expm1(GB_Model_Y_test_pred)\n",
    "\n",
    "Train_score_GB= mean_absolute_percentage_error(y_train,GB_Model_Y_train_pred)\n",
    "Test_score_GB = mean_absolute_percentage_error(y_test,GB_Model_Y_test_pred)\n",
    "\n",
    "print(Train_score_GB)\n",
    "print(Test_score_GB)\n"
   ]
  },
  {
   "cell_type": "code",
   "execution_count": null,
   "metadata": {
    "colab": {
     "base_uri": "https://localhost:8080/"
    },
    "id": "0MgUVpBabCjc",
    "outputId": "b4471185-fd09-4d7c-9176-d967d06b16bf"
   },
   "outputs": [
    {
     "data": {
      "text/plain": [
       "array([10.25432841,  5.04002609,  4.5013596 , ...,  3.83433133,\n",
       "        5.79949672,  6.17529146])"
      ]
     },
     "execution_count": 28,
     "metadata": {
      "tags": []
     },
     "output_type": "execute_result"
    }
   ],
   "source": [
    "GB_Model_Y_test_pred"
   ]
  },
  {
   "cell_type": "code",
   "execution_count": null,
   "metadata": {
    "colab": {
     "base_uri": "https://localhost:8080/",
     "height": 411
    },
    "id": "_nzVYwhIbYA7",
    "outputId": "188a39b6-c56a-4f3d-8304-9ae114485684"
   },
   "outputs": [
    {
     "data": {
      "text/html": [
       "<div>\n",
       "<style scoped>\n",
       "    .dataframe tbody tr th:only-of-type {\n",
       "        vertical-align: middle;\n",
       "    }\n",
       "\n",
       "    .dataframe tbody tr th {\n",
       "        vertical-align: top;\n",
       "    }\n",
       "\n",
       "    .dataframe thead th {\n",
       "        text-align: right;\n",
       "    }\n",
       "</style>\n",
       "<table border=\"1\" class=\"dataframe\">\n",
       "  <thead>\n",
       "    <tr style=\"text-align: right;\">\n",
       "      <th></th>\n",
       "      <th>location_id</th>\n",
       "      <th>onpromotion</th>\n",
       "      <th>category_of_item</th>\n",
       "      <th>perishable</th>\n",
       "      <th>city</th>\n",
       "      <th>type</th>\n",
       "      <th>cluster</th>\n",
       "      <th>Month</th>\n",
       "      <th>Day</th>\n",
       "      <th>Week</th>\n",
       "    </tr>\n",
       "  </thead>\n",
       "  <tbody>\n",
       "    <tr>\n",
       "      <th>15860229</th>\n",
       "      <td>38</td>\n",
       "      <td>0</td>\n",
       "      <td>19</td>\n",
       "      <td>1</td>\n",
       "      <td>1</td>\n",
       "      <td>0</td>\n",
       "      <td>5</td>\n",
       "      <td>6</td>\n",
       "      <td>16</td>\n",
       "      <td>5</td>\n",
       "    </tr>\n",
       "    <tr>\n",
       "      <th>15429515</th>\n",
       "      <td>50</td>\n",
       "      <td>0</td>\n",
       "      <td>8</td>\n",
       "      <td>0</td>\n",
       "      <td>1</td>\n",
       "      <td>3</td>\n",
       "      <td>8</td>\n",
       "      <td>6</td>\n",
       "      <td>12</td>\n",
       "      <td>1</td>\n",
       "    </tr>\n",
       "    <tr>\n",
       "      <th>11806693</th>\n",
       "      <td>52</td>\n",
       "      <td>0</td>\n",
       "      <td>8</td>\n",
       "      <td>0</td>\n",
       "      <td>1</td>\n",
       "      <td>1</td>\n",
       "      <td>6</td>\n",
       "      <td>5</td>\n",
       "      <td>5</td>\n",
       "      <td>5</td>\n",
       "    </tr>\n",
       "    <tr>\n",
       "      <th>2428709</th>\n",
       "      <td>41</td>\n",
       "      <td>0</td>\n",
       "      <td>4</td>\n",
       "      <td>1</td>\n",
       "      <td>1</td>\n",
       "      <td>0</td>\n",
       "      <td>14</td>\n",
       "      <td>1</td>\n",
       "      <td>27</td>\n",
       "      <td>5</td>\n",
       "    </tr>\n",
       "    <tr>\n",
       "      <th>5777689</th>\n",
       "      <td>3</td>\n",
       "      <td>0</td>\n",
       "      <td>10</td>\n",
       "      <td>0</td>\n",
       "      <td>16</td>\n",
       "      <td>2</td>\n",
       "      <td>15</td>\n",
       "      <td>3</td>\n",
       "      <td>3</td>\n",
       "      <td>5</td>\n",
       "    </tr>\n",
       "    <tr>\n",
       "      <th>...</th>\n",
       "      <td>...</td>\n",
       "      <td>...</td>\n",
       "      <td>...</td>\n",
       "      <td>...</td>\n",
       "      <td>...</td>\n",
       "      <td>...</td>\n",
       "      <td>...</td>\n",
       "      <td>...</td>\n",
       "      <td>...</td>\n",
       "      <td>...</td>\n",
       "    </tr>\n",
       "    <tr>\n",
       "      <th>6398373</th>\n",
       "      <td>32</td>\n",
       "      <td>0</td>\n",
       "      <td>2</td>\n",
       "      <td>0</td>\n",
       "      <td>8</td>\n",
       "      <td>1</td>\n",
       "      <td>6</td>\n",
       "      <td>3</td>\n",
       "      <td>9</td>\n",
       "      <td>4</td>\n",
       "    </tr>\n",
       "    <tr>\n",
       "      <th>17045641</th>\n",
       "      <td>8</td>\n",
       "      <td>0</td>\n",
       "      <td>3</td>\n",
       "      <td>0</td>\n",
       "      <td>1</td>\n",
       "      <td>2</td>\n",
       "      <td>12</td>\n",
       "      <td>6</td>\n",
       "      <td>29</td>\n",
       "      <td>4</td>\n",
       "    </tr>\n",
       "    <tr>\n",
       "      <th>19273308</th>\n",
       "      <td>12</td>\n",
       "      <td>0</td>\n",
       "      <td>4</td>\n",
       "      <td>1</td>\n",
       "      <td>1</td>\n",
       "      <td>1</td>\n",
       "      <td>6</td>\n",
       "      <td>7</td>\n",
       "      <td>22</td>\n",
       "      <td>6</td>\n",
       "    </tr>\n",
       "    <tr>\n",
       "      <th>9083879</th>\n",
       "      <td>39</td>\n",
       "      <td>0</td>\n",
       "      <td>3</td>\n",
       "      <td>0</td>\n",
       "      <td>1</td>\n",
       "      <td>0</td>\n",
       "      <td>11</td>\n",
       "      <td>4</td>\n",
       "      <td>6</td>\n",
       "      <td>4</td>\n",
       "    </tr>\n",
       "    <tr>\n",
       "      <th>11291568</th>\n",
       "      <td>11</td>\n",
       "      <td>1</td>\n",
       "      <td>8</td>\n",
       "      <td>0</td>\n",
       "      <td>1</td>\n",
       "      <td>3</td>\n",
       "      <td>13</td>\n",
       "      <td>4</td>\n",
       "      <td>30</td>\n",
       "      <td>0</td>\n",
       "    </tr>\n",
       "  </tbody>\n",
       "</table>\n",
       "<p>6503508 rows × 10 columns</p>\n",
       "</div>"
      ],
      "text/plain": [
       "         location_id onpromotion category_of_item  ... Month Day Week\n",
       "15860229          38           0               19  ...     6  16    5\n",
       "15429515          50           0                8  ...     6  12    1\n",
       "11806693          52           0                8  ...     5   5    5\n",
       "2428709           41           0                4  ...     1  27    5\n",
       "5777689            3           0               10  ...     3   3    5\n",
       "...              ...         ...              ...  ...   ...  ..  ...\n",
       "6398373           32           0                2  ...     3   9    4\n",
       "17045641           8           0                3  ...     6  29    4\n",
       "19273308          12           0                4  ...     7  22    6\n",
       "9083879           39           0                3  ...     4   6    4\n",
       "11291568          11           1                8  ...     4  30    0\n",
       "\n",
       "[6503508 rows x 10 columns]"
      ]
     },
     "execution_count": 29,
     "metadata": {
      "tags": []
     },
     "output_type": "execute_result"
    }
   ],
   "source": [
    "X_test"
   ]
  },
  {
   "cell_type": "markdown",
   "metadata": {
    "id": "9-F7aIRsuY0n"
   },
   "source": [
    "### Test Data Prep"
   ]
  },
  {
   "cell_type": "code",
   "execution_count": null,
   "metadata": {
    "colab": {
     "base_uri": "https://localhost:8080/"
    },
    "id": "EKrr7bNWuckE",
    "outputId": "1728b8a9-1eeb-4751-80c1-3a7fc0e7576c"
   },
   "outputs": [
    {
     "name": "stdout",
     "output_type": "stream",
     "text": [
      "<class 'pandas.core.frame.DataFrame'>\n",
      "RangeIndex: 23517680 entries, 0 to 23517679\n",
      "Data columns (total 5 columns):\n",
      " #   Column       Dtype \n",
      "---  ------       ----- \n",
      " 0   id           int64 \n",
      " 1   date         object\n",
      " 2   locationId   object\n",
      " 3   item_id      object\n",
      " 4   onpromotion  bool  \n",
      "dtypes: bool(1), int64(1), object(3)\n",
      "memory usage: 740.1+ MB\n"
     ]
    }
   ],
   "source": [
    "test.info()"
   ]
  },
  {
   "cell_type": "code",
   "execution_count": null,
   "metadata": {
    "id": "POG9B8dOU7WM"
   },
   "outputs": [],
   "source": [
    "test['date'] = pd.to_datetime(test['date'])"
   ]
  },
  {
   "cell_type": "code",
   "execution_count": null,
   "metadata": {
    "id": "P67lKqu6bh9o"
   },
   "outputs": [],
   "source": [
    "test = pd.merge(test,item_details,how = 'left', on = 'item_id')\n",
    "\n",
    "test = test.rename(columns = {'locationId':'location_id'})\n",
    "\n",
    "test = pd.merge(test,location_details,how = 'left', on = 'location_id')"
   ]
  },
  {
   "cell_type": "code",
   "execution_count": null,
   "metadata": {
    "id": "_w8xiF9tVIih"
   },
   "outputs": [],
   "source": [
    "test['Month'] =pd.DatetimeIndex(test['date']).month.astype('int8')\n",
    "test['Day'] =pd.DatetimeIndex(test['date']).day.astype('int8')\n",
    "test['Week'] =pd.DatetimeIndex(test['date']).weekday.astype('int8')"
   ]
  },
  {
   "cell_type": "code",
   "execution_count": null,
   "metadata": {
    "colab": {
     "base_uri": "https://localhost:8080/",
     "height": 305
    },
    "id": "FBbX8trQVSnb",
    "outputId": "f497766a-1887-4565-fc16-d58dd87b3aa9"
   },
   "outputs": [
    {
     "data": {
      "text/html": [
       "<div>\n",
       "<style scoped>\n",
       "    .dataframe tbody tr th:only-of-type {\n",
       "        vertical-align: middle;\n",
       "    }\n",
       "\n",
       "    .dataframe tbody tr th {\n",
       "        vertical-align: top;\n",
       "    }\n",
       "\n",
       "    .dataframe thead th {\n",
       "        text-align: right;\n",
       "    }\n",
       "</style>\n",
       "<table border=\"1\" class=\"dataframe\">\n",
       "  <thead>\n",
       "    <tr style=\"text-align: right;\">\n",
       "      <th></th>\n",
       "      <th>id</th>\n",
       "      <th>date</th>\n",
       "      <th>location_id</th>\n",
       "      <th>item_id</th>\n",
       "      <th>onpromotion</th>\n",
       "      <th>category_of_item</th>\n",
       "      <th>class</th>\n",
       "      <th>perishable</th>\n",
       "      <th>city</th>\n",
       "      <th>state</th>\n",
       "      <th>type</th>\n",
       "      <th>cluster</th>\n",
       "      <th>Month</th>\n",
       "      <th>Day</th>\n",
       "      <th>Week</th>\n",
       "    </tr>\n",
       "  </thead>\n",
       "  <tbody>\n",
       "    <tr>\n",
       "      <th>0</th>\n",
       "      <td>0</td>\n",
       "      <td>2019-01-01</td>\n",
       "      <td>location_25</td>\n",
       "      <td>item_99197</td>\n",
       "      <td>False</td>\n",
       "      <td>grocery_items</td>\n",
       "      <td>class_1067</td>\n",
       "      <td>0</td>\n",
       "      <td>Kanpur</td>\n",
       "      <td>Uttar Pradesh</td>\n",
       "      <td>D</td>\n",
       "      <td>1</td>\n",
       "      <td>1</td>\n",
       "      <td>1</td>\n",
       "      <td>1</td>\n",
       "    </tr>\n",
       "    <tr>\n",
       "      <th>1</th>\n",
       "      <td>1</td>\n",
       "      <td>2019-01-01</td>\n",
       "      <td>location_25</td>\n",
       "      <td>item_103665</td>\n",
       "      <td>False</td>\n",
       "      <td>baked_items / bread_based</td>\n",
       "      <td>class_2712</td>\n",
       "      <td>1</td>\n",
       "      <td>Kanpur</td>\n",
       "      <td>Uttar Pradesh</td>\n",
       "      <td>D</td>\n",
       "      <td>1</td>\n",
       "      <td>1</td>\n",
       "      <td>1</td>\n",
       "      <td>1</td>\n",
       "    </tr>\n",
       "    <tr>\n",
       "      <th>2</th>\n",
       "      <td>2</td>\n",
       "      <td>2019-01-01</td>\n",
       "      <td>location_25</td>\n",
       "      <td>item_105574</td>\n",
       "      <td>False</td>\n",
       "      <td>grocery_items</td>\n",
       "      <td>class_1045</td>\n",
       "      <td>0</td>\n",
       "      <td>Kanpur</td>\n",
       "      <td>Uttar Pradesh</td>\n",
       "      <td>D</td>\n",
       "      <td>1</td>\n",
       "      <td>1</td>\n",
       "      <td>1</td>\n",
       "      <td>1</td>\n",
       "    </tr>\n",
       "    <tr>\n",
       "      <th>3</th>\n",
       "      <td>3</td>\n",
       "      <td>2019-01-01</td>\n",
       "      <td>location_25</td>\n",
       "      <td>item_105857</td>\n",
       "      <td>False</td>\n",
       "      <td>grocery_items</td>\n",
       "      <td>class_1092</td>\n",
       "      <td>0</td>\n",
       "      <td>Kanpur</td>\n",
       "      <td>Uttar Pradesh</td>\n",
       "      <td>D</td>\n",
       "      <td>1</td>\n",
       "      <td>1</td>\n",
       "      <td>1</td>\n",
       "      <td>1</td>\n",
       "    </tr>\n",
       "    <tr>\n",
       "      <th>4</th>\n",
       "      <td>4</td>\n",
       "      <td>2019-01-01</td>\n",
       "      <td>location_25</td>\n",
       "      <td>item_106716</td>\n",
       "      <td>False</td>\n",
       "      <td>grocery_items</td>\n",
       "      <td>class_1032</td>\n",
       "      <td>0</td>\n",
       "      <td>Kanpur</td>\n",
       "      <td>Uttar Pradesh</td>\n",
       "      <td>D</td>\n",
       "      <td>1</td>\n",
       "      <td>1</td>\n",
       "      <td>1</td>\n",
       "      <td>1</td>\n",
       "    </tr>\n",
       "  </tbody>\n",
       "</table>\n",
       "</div>"
      ],
      "text/plain": [
       "   id       date  location_id      item_id  ...  cluster Month Day  Week\n",
       "0   0 2019-01-01  location_25   item_99197  ...        1     1   1     1\n",
       "1   1 2019-01-01  location_25  item_103665  ...        1     1   1     1\n",
       "2   2 2019-01-01  location_25  item_105574  ...        1     1   1     1\n",
       "3   3 2019-01-01  location_25  item_105857  ...        1     1   1     1\n",
       "4   4 2019-01-01  location_25  item_106716  ...        1     1   1     1\n",
       "\n",
       "[5 rows x 15 columns]"
      ]
     },
     "execution_count": 35,
     "metadata": {
      "tags": []
     },
     "output_type": "execute_result"
    }
   ],
   "source": [
    "test.head()"
   ]
  },
  {
   "cell_type": "code",
   "execution_count": null,
   "metadata": {
    "id": "Mf__UMN0VlSz"
   },
   "outputs": [],
   "source": [
    "ID = test['id']"
   ]
  },
  {
   "cell_type": "code",
   "execution_count": null,
   "metadata": {
    "id": "WtLdN-dgcDMx"
   },
   "outputs": [],
   "source": [
    "test = test.drop(['id','date','item_id','class','state'],axis = 1)"
   ]
  },
  {
   "cell_type": "code",
   "execution_count": null,
   "metadata": {
    "colab": {
     "base_uri": "https://localhost:8080/"
    },
    "id": "kdaqDIn7cWjO",
    "outputId": "3ee58f9b-90b3-4de9-dfe4-4dc5dbf26634"
   },
   "outputs": [
    {
     "name": "stdout",
     "output_type": "stream",
     "text": [
      "<class 'pandas.core.frame.DataFrame'>\n",
      "Int64Index: 23517680 entries, 0 to 23517679\n",
      "Data columns (total 10 columns):\n",
      " #   Column            Dtype \n",
      "---  ------            ----- \n",
      " 0   location_id       object\n",
      " 1   onpromotion       bool  \n",
      " 2   category_of_item  object\n",
      " 3   perishable        int64 \n",
      " 4   city              object\n",
      " 5   type              object\n",
      " 6   cluster           int64 \n",
      " 7   Month             int64 \n",
      " 8   Day               int64 \n",
      " 9   Week              int64 \n",
      "dtypes: bool(1), int64(5), object(4)\n",
      "memory usage: 1.8+ GB\n"
     ]
    }
   ],
   "source": [
    "test.info()"
   ]
  },
  {
   "cell_type": "code",
   "execution_count": null,
   "metadata": {
    "id": "HCOiBjbsVp8P"
   },
   "outputs": [],
   "source": [
    "#test = test[['locationId','Month','Day','Week','onpromotion']]"
   ]
  },
  {
   "cell_type": "code",
   "execution_count": null,
   "metadata": {
    "colab": {
     "base_uri": "https://localhost:8080/"
    },
    "id": "SX3yjpXnWZG5",
    "outputId": "9f7cdefc-365a-4956-9033-b0d26bf164d6"
   },
   "outputs": [
    {
     "name": "stdout",
     "output_type": "stream",
     "text": [
      "locationId\n"
     ]
    },
    {
     "name": "stderr",
     "output_type": "stream",
     "text": [
      "/usr/local/lib/python3.7/dist-packages/ipykernel_launcher.py:9: SettingWithCopyWarning: \n",
      "A value is trying to be set on a copy of a slice from a DataFrame.\n",
      "Try using .loc[row_indexer,col_indexer] = value instead\n",
      "\n",
      "See the caveats in the documentation: https://pandas.pydata.org/pandas-docs/stable/user_guide/indexing.html#returning-a-view-versus-a-copy\n",
      "  if __name__ == '__main__':\n"
     ]
    }
   ],
   "source": [
    "test = df_lbl_enc(test)"
   ]
  },
  {
   "cell_type": "code",
   "execution_count": null,
   "metadata": {
    "colab": {
     "base_uri": "https://localhost:8080/"
    },
    "id": "GboAWzwjWbYR",
    "outputId": "37fc2be6-0c0a-48ab-afce-4048fced746a"
   },
   "outputs": [
    {
     "name": "stdout",
     "output_type": "stream",
     "text": [
      "location_id\n",
      "onpromotion\n",
      "category_of_item\n",
      "perishable\n",
      "city\n",
      "type\n",
      "cluster\n",
      "Month\n",
      "Day\n",
      "Week\n"
     ]
    }
   ],
   "source": [
    "test = cat_converter(test)"
   ]
  },
  {
   "cell_type": "code",
   "execution_count": null,
   "metadata": {
    "colab": {
     "base_uri": "https://localhost:8080/"
    },
    "id": "DIndk-iUWpYE",
    "outputId": "5649dae4-572a-4d1f-b08f-4e3e2f3df48c"
   },
   "outputs": [
    {
     "name": "stdout",
     "output_type": "stream",
     "text": [
      "<class 'pandas.core.frame.DataFrame'>\n",
      "Int64Index: 23517680 entries, 0 to 23517679\n",
      "Data columns (total 10 columns):\n",
      " #   Column            Dtype   \n",
      "---  ------            -----   \n",
      " 0   location_id       category\n",
      " 1   onpromotion       category\n",
      " 2   category_of_item  category\n",
      " 3   perishable        category\n",
      " 4   city              category\n",
      " 5   type              category\n",
      " 6   cluster           category\n",
      " 7   Month             category\n",
      " 8   Day               category\n",
      " 9   Week              category\n",
      "dtypes: category(10)\n",
      "memory usage: 403.7 MB\n"
     ]
    }
   ],
   "source": [
    "test.info()"
   ]
  },
  {
   "cell_type": "code",
   "execution_count": null,
   "metadata": {
    "id": "rsTVdT7Xcnny"
   },
   "outputs": [],
   "source": [
    "test = df_lbl_enc(test)"
   ]
  },
  {
   "cell_type": "code",
   "execution_count": null,
   "metadata": {
    "colab": {
     "base_uri": "https://localhost:8080/",
     "height": 200
    },
    "id": "I1rN54OhWsH-",
    "outputId": "832e7ea8-aa3f-4277-f2e2-5ca9ccbeb26b"
   },
   "outputs": [
    {
     "data": {
      "text/html": [
       "<div>\n",
       "<style scoped>\n",
       "    .dataframe tbody tr th:only-of-type {\n",
       "        vertical-align: middle;\n",
       "    }\n",
       "\n",
       "    .dataframe tbody tr th {\n",
       "        vertical-align: top;\n",
       "    }\n",
       "\n",
       "    .dataframe thead th {\n",
       "        text-align: right;\n",
       "    }\n",
       "</style>\n",
       "<table border=\"1\" class=\"dataframe\">\n",
       "  <thead>\n",
       "    <tr style=\"text-align: right;\">\n",
       "      <th></th>\n",
       "      <th>location_id</th>\n",
       "      <th>onpromotion</th>\n",
       "      <th>category_of_item</th>\n",
       "      <th>perishable</th>\n",
       "      <th>city</th>\n",
       "      <th>type</th>\n",
       "      <th>cluster</th>\n",
       "      <th>Month</th>\n",
       "      <th>Day</th>\n",
       "      <th>Week</th>\n",
       "    </tr>\n",
       "  </thead>\n",
       "  <tbody>\n",
       "    <tr>\n",
       "      <th>0</th>\n",
       "      <td>location_25</td>\n",
       "      <td>False</td>\n",
       "      <td>grocery_items</td>\n",
       "      <td>0</td>\n",
       "      <td>Kanpur</td>\n",
       "      <td>D</td>\n",
       "      <td>1</td>\n",
       "      <td>1</td>\n",
       "      <td>1</td>\n",
       "      <td>1</td>\n",
       "    </tr>\n",
       "    <tr>\n",
       "      <th>1</th>\n",
       "      <td>location_25</td>\n",
       "      <td>False</td>\n",
       "      <td>baked_items / bread_based</td>\n",
       "      <td>1</td>\n",
       "      <td>Kanpur</td>\n",
       "      <td>D</td>\n",
       "      <td>1</td>\n",
       "      <td>1</td>\n",
       "      <td>1</td>\n",
       "      <td>1</td>\n",
       "    </tr>\n",
       "    <tr>\n",
       "      <th>2</th>\n",
       "      <td>location_25</td>\n",
       "      <td>False</td>\n",
       "      <td>grocery_items</td>\n",
       "      <td>0</td>\n",
       "      <td>Kanpur</td>\n",
       "      <td>D</td>\n",
       "      <td>1</td>\n",
       "      <td>1</td>\n",
       "      <td>1</td>\n",
       "      <td>1</td>\n",
       "    </tr>\n",
       "    <tr>\n",
       "      <th>3</th>\n",
       "      <td>location_25</td>\n",
       "      <td>False</td>\n",
       "      <td>grocery_items</td>\n",
       "      <td>0</td>\n",
       "      <td>Kanpur</td>\n",
       "      <td>D</td>\n",
       "      <td>1</td>\n",
       "      <td>1</td>\n",
       "      <td>1</td>\n",
       "      <td>1</td>\n",
       "    </tr>\n",
       "    <tr>\n",
       "      <th>4</th>\n",
       "      <td>location_25</td>\n",
       "      <td>False</td>\n",
       "      <td>grocery_items</td>\n",
       "      <td>0</td>\n",
       "      <td>Kanpur</td>\n",
       "      <td>D</td>\n",
       "      <td>1</td>\n",
       "      <td>1</td>\n",
       "      <td>1</td>\n",
       "      <td>1</td>\n",
       "    </tr>\n",
       "  </tbody>\n",
       "</table>\n",
       "</div>"
      ],
      "text/plain": [
       "   location_id onpromotion           category_of_item  ... Month Day Week\n",
       "0  location_25       False              grocery_items  ...     1   1    1\n",
       "1  location_25       False  baked_items / bread_based  ...     1   1    1\n",
       "2  location_25       False              grocery_items  ...     1   1    1\n",
       "3  location_25       False              grocery_items  ...     1   1    1\n",
       "4  location_25       False              grocery_items  ...     1   1    1\n",
       "\n",
       "[5 rows x 10 columns]"
      ]
     },
     "execution_count": 42,
     "metadata": {
      "tags": []
     },
     "output_type": "execute_result"
    }
   ],
   "source": [
    "test.head()"
   ]
  },
  {
   "cell_type": "code",
   "execution_count": null,
   "metadata": {
    "id": "M5b5wVbeWvCC"
   },
   "outputs": [],
   "source": [
    " from sklearn.preprocessing import LabelEncoder\n",
    "\n",
    " lb = LabelEncoder()\n",
    "\n",
    "test['location_id']= lb.fit_transform(test['location_id'])\n",
    "test['onpromotion']= lb.fit_transform(test['onpromotion'])\n",
    "test['category_of_item']= lb.fit_transform(test['category_of_item'])\n",
    "test['city']= lb.fit_transform(test['city'])\n",
    "test['type']= lb.fit_transform(test['type'])\n",
    "\n"
   ]
  },
  {
   "cell_type": "code",
   "execution_count": null,
   "metadata": {
    "colab": {
     "base_uri": "https://localhost:8080/",
     "height": 200
    },
    "id": "dXWIMJZZdmR2",
    "outputId": "4023ef1f-4092-4e8d-de76-7950e869e8c7"
   },
   "outputs": [
    {
     "data": {
      "text/html": [
       "<div>\n",
       "<style scoped>\n",
       "    .dataframe tbody tr th:only-of-type {\n",
       "        vertical-align: middle;\n",
       "    }\n",
       "\n",
       "    .dataframe tbody tr th {\n",
       "        vertical-align: top;\n",
       "    }\n",
       "\n",
       "    .dataframe thead th {\n",
       "        text-align: right;\n",
       "    }\n",
       "</style>\n",
       "<table border=\"1\" class=\"dataframe\">\n",
       "  <thead>\n",
       "    <tr style=\"text-align: right;\">\n",
       "      <th></th>\n",
       "      <th>location_id</th>\n",
       "      <th>onpromotion</th>\n",
       "      <th>category_of_item</th>\n",
       "      <th>perishable</th>\n",
       "      <th>city</th>\n",
       "      <th>type</th>\n",
       "      <th>cluster</th>\n",
       "      <th>Month</th>\n",
       "      <th>Day</th>\n",
       "      <th>Week</th>\n",
       "    </tr>\n",
       "  </thead>\n",
       "  <tbody>\n",
       "    <tr>\n",
       "      <th>0</th>\n",
       "      <td>17</td>\n",
       "      <td>0</td>\n",
       "      <td>8</td>\n",
       "      <td>0</td>\n",
       "      <td>10</td>\n",
       "      <td>3</td>\n",
       "      <td>1</td>\n",
       "      <td>1</td>\n",
       "      <td>1</td>\n",
       "      <td>1</td>\n",
       "    </tr>\n",
       "    <tr>\n",
       "      <th>1</th>\n",
       "      <td>17</td>\n",
       "      <td>0</td>\n",
       "      <td>0</td>\n",
       "      <td>1</td>\n",
       "      <td>10</td>\n",
       "      <td>3</td>\n",
       "      <td>1</td>\n",
       "      <td>1</td>\n",
       "      <td>1</td>\n",
       "      <td>1</td>\n",
       "    </tr>\n",
       "    <tr>\n",
       "      <th>2</th>\n",
       "      <td>17</td>\n",
       "      <td>0</td>\n",
       "      <td>8</td>\n",
       "      <td>0</td>\n",
       "      <td>10</td>\n",
       "      <td>3</td>\n",
       "      <td>1</td>\n",
       "      <td>1</td>\n",
       "      <td>1</td>\n",
       "      <td>1</td>\n",
       "    </tr>\n",
       "    <tr>\n",
       "      <th>3</th>\n",
       "      <td>17</td>\n",
       "      <td>0</td>\n",
       "      <td>8</td>\n",
       "      <td>0</td>\n",
       "      <td>10</td>\n",
       "      <td>3</td>\n",
       "      <td>1</td>\n",
       "      <td>1</td>\n",
       "      <td>1</td>\n",
       "      <td>1</td>\n",
       "    </tr>\n",
       "    <tr>\n",
       "      <th>4</th>\n",
       "      <td>17</td>\n",
       "      <td>0</td>\n",
       "      <td>8</td>\n",
       "      <td>0</td>\n",
       "      <td>10</td>\n",
       "      <td>3</td>\n",
       "      <td>1</td>\n",
       "      <td>1</td>\n",
       "      <td>1</td>\n",
       "      <td>1</td>\n",
       "    </tr>\n",
       "  </tbody>\n",
       "</table>\n",
       "</div>"
      ],
      "text/plain": [
       "   location_id  onpromotion  category_of_item perishable  ...  cluster  Month Day Week\n",
       "0           17            0                 8          0  ...        1      1   1    1\n",
       "1           17            0                 0          1  ...        1      1   1    1\n",
       "2           17            0                 8          0  ...        1      1   1    1\n",
       "3           17            0                 8          0  ...        1      1   1    1\n",
       "4           17            0                 8          0  ...        1      1   1    1\n",
       "\n",
       "[5 rows x 10 columns]"
      ]
     },
     "execution_count": 44,
     "metadata": {
      "tags": []
     },
     "output_type": "execute_result"
    }
   ],
   "source": [
    "test.head()"
   ]
  },
  {
   "cell_type": "code",
   "execution_count": null,
   "metadata": {
    "colab": {
     "base_uri": "https://localhost:8080/"
    },
    "id": "lgkBlfWldOvj",
    "outputId": "15e248ca-f775-4c86-cf53-f6416b3138a1"
   },
   "outputs": [
    {
     "name": "stdout",
     "output_type": "stream",
     "text": [
      "location_id\n",
      "onpromotion\n",
      "category_of_item\n",
      "perishable\n",
      "city\n",
      "type\n",
      "cluster\n",
      "Month\n",
      "Day\n",
      "Week\n"
     ]
    }
   ],
   "source": [
    "test = cat_converter(test)"
   ]
  },
  {
   "cell_type": "code",
   "execution_count": null,
   "metadata": {
    "colab": {
     "base_uri": "https://localhost:8080/",
     "height": 200
    },
    "id": "JYv2fDVeXJPU",
    "outputId": "4da21ed2-d1e8-4cfa-f313-b45b89ecc7bc"
   },
   "outputs": [
    {
     "data": {
      "text/html": [
       "<div>\n",
       "<style scoped>\n",
       "    .dataframe tbody tr th:only-of-type {\n",
       "        vertical-align: middle;\n",
       "    }\n",
       "\n",
       "    .dataframe tbody tr th {\n",
       "        vertical-align: top;\n",
       "    }\n",
       "\n",
       "    .dataframe thead th {\n",
       "        text-align: right;\n",
       "    }\n",
       "</style>\n",
       "<table border=\"1\" class=\"dataframe\">\n",
       "  <thead>\n",
       "    <tr style=\"text-align: right;\">\n",
       "      <th></th>\n",
       "      <th>location_id</th>\n",
       "      <th>onpromotion</th>\n",
       "      <th>category_of_item</th>\n",
       "      <th>perishable</th>\n",
       "      <th>city</th>\n",
       "      <th>type</th>\n",
       "      <th>cluster</th>\n",
       "      <th>Month</th>\n",
       "      <th>Day</th>\n",
       "      <th>Week</th>\n",
       "    </tr>\n",
       "  </thead>\n",
       "  <tbody>\n",
       "    <tr>\n",
       "      <th>0</th>\n",
       "      <td>17</td>\n",
       "      <td>0</td>\n",
       "      <td>8</td>\n",
       "      <td>0</td>\n",
       "      <td>10</td>\n",
       "      <td>3</td>\n",
       "      <td>1</td>\n",
       "      <td>1</td>\n",
       "      <td>1</td>\n",
       "      <td>1</td>\n",
       "    </tr>\n",
       "    <tr>\n",
       "      <th>1</th>\n",
       "      <td>17</td>\n",
       "      <td>0</td>\n",
       "      <td>0</td>\n",
       "      <td>1</td>\n",
       "      <td>10</td>\n",
       "      <td>3</td>\n",
       "      <td>1</td>\n",
       "      <td>1</td>\n",
       "      <td>1</td>\n",
       "      <td>1</td>\n",
       "    </tr>\n",
       "    <tr>\n",
       "      <th>2</th>\n",
       "      <td>17</td>\n",
       "      <td>0</td>\n",
       "      <td>8</td>\n",
       "      <td>0</td>\n",
       "      <td>10</td>\n",
       "      <td>3</td>\n",
       "      <td>1</td>\n",
       "      <td>1</td>\n",
       "      <td>1</td>\n",
       "      <td>1</td>\n",
       "    </tr>\n",
       "    <tr>\n",
       "      <th>3</th>\n",
       "      <td>17</td>\n",
       "      <td>0</td>\n",
       "      <td>8</td>\n",
       "      <td>0</td>\n",
       "      <td>10</td>\n",
       "      <td>3</td>\n",
       "      <td>1</td>\n",
       "      <td>1</td>\n",
       "      <td>1</td>\n",
       "      <td>1</td>\n",
       "    </tr>\n",
       "    <tr>\n",
       "      <th>4</th>\n",
       "      <td>17</td>\n",
       "      <td>0</td>\n",
       "      <td>8</td>\n",
       "      <td>0</td>\n",
       "      <td>10</td>\n",
       "      <td>3</td>\n",
       "      <td>1</td>\n",
       "      <td>1</td>\n",
       "      <td>1</td>\n",
       "      <td>1</td>\n",
       "    </tr>\n",
       "  </tbody>\n",
       "</table>\n",
       "</div>"
      ],
      "text/plain": [
       "  location_id onpromotion category_of_item perishable  ... cluster Month Day Week\n",
       "0          17           0                8          0  ...       1     1   1    1\n",
       "1          17           0                0          1  ...       1     1   1    1\n",
       "2          17           0                8          0  ...       1     1   1    1\n",
       "3          17           0                8          0  ...       1     1   1    1\n",
       "4          17           0                8          0  ...       1     1   1    1\n",
       "\n",
       "[5 rows x 10 columns]"
      ]
     },
     "execution_count": 46,
     "metadata": {
      "tags": []
     },
     "output_type": "execute_result"
    }
   ],
   "source": [
    "test.head()"
   ]
  },
  {
   "cell_type": "code",
   "execution_count": null,
   "metadata": {
    "id": "q-3p8AKRXcvs"
   },
   "outputs": [],
   "source": [
    "\n",
    "Test_pred = GB_model.predict(test)\n"
   ]
  },
  {
   "cell_type": "code",
   "execution_count": null,
   "metadata": {
    "colab": {
     "base_uri": "https://localhost:8080/"
    },
    "id": "NOtea5VPXpwY",
    "outputId": "50b7d74c-2b5b-4ed8-f52d-8d18066c2268"
   },
   "outputs": [
    {
     "data": {
      "text/plain": [
       "array([1.59261889, 1.77981131, 1.59261889, ..., 1.62330482, 1.57581602,\n",
       "       1.42304917])"
      ]
     },
     "execution_count": 48,
     "metadata": {
      "tags": []
     },
     "output_type": "execute_result"
    }
   ],
   "source": [
    "Test_pred"
   ]
  },
  {
   "cell_type": "code",
   "execution_count": null,
   "metadata": {
    "id": "kpRf4mKwX0Zp"
   },
   "outputs": [],
   "source": [
    "Test_Pred_best = np.expm1(Test_pred)"
   ]
  },
  {
   "cell_type": "code",
   "execution_count": null,
   "metadata": {
    "colab": {
     "base_uri": "https://localhost:8080/"
    },
    "id": "NYzFFp32YC_T",
    "outputId": "57ce8e6e-fbde-485f-f6c0-b08abbe73da5"
   },
   "outputs": [
    {
     "data": {
      "text/plain": [
       "array([4.25016171, 4.25016171, 4.25016171, ..., 3.65010852, 5.15008418,\n",
       "       3.65010852])"
      ]
     },
     "execution_count": 52,
     "metadata": {
      "tags": []
     },
     "output_type": "execute_result"
    }
   ],
   "source": [
    "Test_Pred_best"
   ]
  },
  {
   "cell_type": "code",
   "execution_count": null,
   "metadata": {
    "id": "eJh3JgkfYFIi"
   },
   "outputs": [],
   "source": [
    "res = pd.DataFrame(Test_Pred_best)\n",
    "ID = pd.DataFrame(ID)"
   ]
  },
  {
   "cell_type": "code",
   "execution_count": null,
   "metadata": {
    "colab": {
     "base_uri": "https://localhost:8080/"
    },
    "id": "yFpDdwzxYeVU",
    "outputId": "700b9ec9-4026-42dd-faa1-7db2b0ac35ad"
   },
   "outputs": [
    {
     "data": {
      "text/plain": [
       "0                  0\n",
       "1                  1\n",
       "2                  2\n",
       "3                  3\n",
       "4                  4\n",
       "              ...   \n",
       "23517675    23808256\n",
       "23517676    23808257\n",
       "23517677    23808258\n",
       "23517678    23808259\n",
       "23517679    23808260\n",
       "Name: id, Length: 23517680, dtype: int64"
      ]
     },
     "execution_count": 55,
     "metadata": {
      "tags": []
     },
     "output_type": "execute_result"
    }
   ],
   "source": [
    "ID"
   ]
  },
  {
   "cell_type": "code",
   "execution_count": null,
   "metadata": {
    "id": "lNlB8ZNvYggk"
   },
   "outputs": [],
   "source": [
    "res = res.rename(columns={res.columns[0]: 'unit_sales'})"
   ]
  },
  {
   "cell_type": "code",
   "execution_count": null,
   "metadata": {
    "id": "JkUuDO6UYo10"
   },
   "outputs": [],
   "source": [
    "gb = pd.concat([ID,res], axis = 1)"
   ]
  },
  {
   "cell_type": "code",
   "execution_count": null,
   "metadata": {
    "colab": {
     "base_uri": "https://localhost:8080/",
     "height": 411
    },
    "id": "px_9pIRIY6dp",
    "outputId": "c037ca5e-89c2-4cdc-839d-c60a6b337d99"
   },
   "outputs": [
    {
     "data": {
      "text/html": [
       "<div>\n",
       "<style scoped>\n",
       "    .dataframe tbody tr th:only-of-type {\n",
       "        vertical-align: middle;\n",
       "    }\n",
       "\n",
       "    .dataframe tbody tr th {\n",
       "        vertical-align: top;\n",
       "    }\n",
       "\n",
       "    .dataframe thead th {\n",
       "        text-align: right;\n",
       "    }\n",
       "</style>\n",
       "<table border=\"1\" class=\"dataframe\">\n",
       "  <thead>\n",
       "    <tr style=\"text-align: right;\">\n",
       "      <th></th>\n",
       "      <th>id</th>\n",
       "      <th>unit_sales</th>\n",
       "    </tr>\n",
       "  </thead>\n",
       "  <tbody>\n",
       "    <tr>\n",
       "      <th>0</th>\n",
       "      <td>0</td>\n",
       "      <td>3.916608</td>\n",
       "    </tr>\n",
       "    <tr>\n",
       "      <th>1</th>\n",
       "      <td>1</td>\n",
       "      <td>4.928738</td>\n",
       "    </tr>\n",
       "    <tr>\n",
       "      <th>2</th>\n",
       "      <td>2</td>\n",
       "      <td>3.916608</td>\n",
       "    </tr>\n",
       "    <tr>\n",
       "      <th>3</th>\n",
       "      <td>3</td>\n",
       "      <td>3.916608</td>\n",
       "    </tr>\n",
       "    <tr>\n",
       "      <th>4</th>\n",
       "      <td>4</td>\n",
       "      <td>3.916608</td>\n",
       "    </tr>\n",
       "    <tr>\n",
       "      <th>...</th>\n",
       "      <td>...</td>\n",
       "      <td>...</td>\n",
       "    </tr>\n",
       "    <tr>\n",
       "      <th>23517675</th>\n",
       "      <td>23808256</td>\n",
       "      <td>3.149754</td>\n",
       "    </tr>\n",
       "    <tr>\n",
       "      <th>23517676</th>\n",
       "      <td>23808257</td>\n",
       "      <td>6.601021</td>\n",
       "    </tr>\n",
       "    <tr>\n",
       "      <th>23517677</th>\n",
       "      <td>23808258</td>\n",
       "      <td>4.069817</td>\n",
       "    </tr>\n",
       "    <tr>\n",
       "      <th>23517678</th>\n",
       "      <td>23808259</td>\n",
       "      <td>3.834685</td>\n",
       "    </tr>\n",
       "    <tr>\n",
       "      <th>23517679</th>\n",
       "      <td>23808260</td>\n",
       "      <td>3.149754</td>\n",
       "    </tr>\n",
       "  </tbody>\n",
       "</table>\n",
       "<p>23517680 rows × 2 columns</p>\n",
       "</div>"
      ],
      "text/plain": [
       "                id  unit_sales\n",
       "0                0    3.916608\n",
       "1                1    4.928738\n",
       "2                2    3.916608\n",
       "3                3    3.916608\n",
       "4                4    3.916608\n",
       "...            ...         ...\n",
       "23517675  23808256    3.149754\n",
       "23517676  23808257    6.601021\n",
       "23517677  23808258    4.069817\n",
       "23517678  23808259    3.834685\n",
       "23517679  23808260    3.149754\n",
       "\n",
       "[23517680 rows x 2 columns]"
      ]
     },
     "execution_count": 53,
     "metadata": {
      "tags": []
     },
     "output_type": "execute_result"
    }
   ],
   "source": [
    "gb"
   ]
  },
  {
   "cell_type": "code",
   "execution_count": null,
   "metadata": {
    "colab": {
     "base_uri": "https://localhost:8080/"
    },
    "id": "KH59hImsce3A",
    "outputId": "d7554451-6a6a-4a9d-9242-69869a458a7a"
   },
   "outputs": [
    {
     "name": "stdout",
     "output_type": "stream",
     "text": [
      "<class 'pandas.core.frame.DataFrame'>\n",
      "RangeIndex: 23517680 entries, 0 to 23517679\n",
      "Data columns (total 2 columns):\n",
      " #   Column      Dtype  \n",
      "---  ------      -----  \n",
      " 0   id          int64  \n",
      " 1   unit_sales  float64\n",
      "dtypes: float64(1), int64(1)\n",
      "memory usage: 358.9 MB\n"
     ]
    }
   ],
   "source": [
    "gb.info()"
   ]
  },
  {
   "cell_type": "code",
   "execution_count": null,
   "metadata": {
    "id": "rpjJz2KtkOkn"
   },
   "outputs": [],
   "source": [
    "gb['unit_sales'] = gb['unit_sales'].round(2)"
   ]
  },
  {
   "cell_type": "code",
   "execution_count": null,
   "metadata": {
    "id": "l-LD7Zw2ZYvy"
   },
   "outputs": [],
   "source": [
    "gb.to_csv(\"submission_3.csv\",index= False)"
   ]
  }
 ],
 "metadata": {
  "colab": {
   "collapsed_sections": [],
   "name": "Copy of Model Building with Test Data 1 (score = 113).ipynb",
   "provenance": []
  },
  "kernelspec": {
   "display_name": "Python 3",
   "language": "python",
   "name": "python3"
  },
  "language_info": {
   "codemirror_mode": {
    "name": "ipython",
    "version": 3
   },
   "file_extension": ".py",
   "mimetype": "text/x-python",
   "name": "python",
   "nbconvert_exporter": "python",
   "pygments_lexer": "ipython3",
   "version": "3.8.5"
  }
 },
 "nbformat": 4,
 "nbformat_minor": 1
}
