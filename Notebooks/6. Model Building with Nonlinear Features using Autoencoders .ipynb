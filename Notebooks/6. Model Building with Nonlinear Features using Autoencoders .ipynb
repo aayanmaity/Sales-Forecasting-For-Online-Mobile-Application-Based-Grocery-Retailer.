{
 "cells": [
  {
   "cell_type": "markdown",
   "metadata": {},
   "source": [
    "# Loading important libraries"
   ]
  },
  {
   "cell_type": "code",
   "execution_count": 1,
   "metadata": {
    "id": "e_p5aAHhoj52"
   },
   "outputs": [],
   "source": [
    "import numpy as np\n",
    "import pandas as pd\n",
    "\n",
    "import warnings\n",
    "warnings.filterwarnings(\"ignore\")\n",
    "\n",
    "\n",
    "import tensorflow as tf\n",
    "import tensorflow.keras.backend as K\n",
    "\n",
    "from tensorflow.keras.models import Sequential, Model\n",
    "from tensorflow.keras.layers import Dense, Dropout, Activation, Input, Embedding, concatenate, Flatten\n",
    "from tensorflow.keras.optimizers import Adam\n"
   ]
  },
  {
   "cell_type": "markdown",
   "metadata": {},
   "source": [
    "## Loading the data"
   ]
  },
  {
   "cell_type": "code",
   "execution_count": 2,
   "metadata": {
    "id": "Zquhw7OppvXR"
   },
   "outputs": [],
   "source": [
    "# Loading the train data \n",
    "\n",
    "train_subset = pd.read_csv(\"train_subset.csv\",parse_dates = ['date'])\n",
    "\n",
    "#Loading the item data \n",
    "\n",
    "item_details = pd.read_excel(\"item_details.xlsx\")"
   ]
  },
  {
   "cell_type": "code",
   "execution_count": 3,
   "metadata": {
    "colab": {
     "base_uri": "https://localhost:8080/",
     "height": 200
    },
    "id": "_W3jZgXrqLlK",
    "outputId": "83f5bf45-f30a-48be-bfa0-aa009c7d0670"
   },
   "outputs": [
    {
     "data": {
      "text/html": [
       "<div>\n",
       "<style scoped>\n",
       "    .dataframe tbody tr th:only-of-type {\n",
       "        vertical-align: middle;\n",
       "    }\n",
       "\n",
       "    .dataframe tbody tr th {\n",
       "        vertical-align: top;\n",
       "    }\n",
       "\n",
       "    .dataframe thead th {\n",
       "        text-align: right;\n",
       "    }\n",
       "</style>\n",
       "<table border=\"1\" class=\"dataframe\">\n",
       "  <thead>\n",
       "    <tr style=\"text-align: right;\">\n",
       "      <th></th>\n",
       "      <th>locationId</th>\n",
       "      <th>item_id</th>\n",
       "      <th>unit_sales</th>\n",
       "      <th>onpromotion</th>\n",
       "      <th>category_of_item</th>\n",
       "      <th>class</th>\n",
       "      <th>Month</th>\n",
       "      <th>Day</th>\n",
       "      <th>Week</th>\n",
       "    </tr>\n",
       "  </thead>\n",
       "  <tbody>\n",
       "    <tr>\n",
       "      <th>0</th>\n",
       "      <td>location_25</td>\n",
       "      <td>item_105574</td>\n",
       "      <td>12.0</td>\n",
       "      <td>False</td>\n",
       "      <td>grocery_items</td>\n",
       "      <td>class_1045</td>\n",
       "      <td>1</td>\n",
       "      <td>1</td>\n",
       "      <td>0</td>\n",
       "    </tr>\n",
       "    <tr>\n",
       "      <th>1</th>\n",
       "      <td>location_25</td>\n",
       "      <td>item_105575</td>\n",
       "      <td>9.0</td>\n",
       "      <td>False</td>\n",
       "      <td>grocery_items</td>\n",
       "      <td>class_1045</td>\n",
       "      <td>1</td>\n",
       "      <td>1</td>\n",
       "      <td>0</td>\n",
       "    </tr>\n",
       "    <tr>\n",
       "      <th>2</th>\n",
       "      <td>location_25</td>\n",
       "      <td>item_105857</td>\n",
       "      <td>3.0</td>\n",
       "      <td>False</td>\n",
       "      <td>grocery_items</td>\n",
       "      <td>class_1092</td>\n",
       "      <td>1</td>\n",
       "      <td>1</td>\n",
       "      <td>0</td>\n",
       "    </tr>\n",
       "    <tr>\n",
       "      <th>3</th>\n",
       "      <td>location_25</td>\n",
       "      <td>item_108634</td>\n",
       "      <td>3.0</td>\n",
       "      <td>False</td>\n",
       "      <td>grocery_items</td>\n",
       "      <td>class_1075</td>\n",
       "      <td>1</td>\n",
       "      <td>1</td>\n",
       "      <td>0</td>\n",
       "    </tr>\n",
       "    <tr>\n",
       "      <th>4</th>\n",
       "      <td>location_25</td>\n",
       "      <td>item_108701</td>\n",
       "      <td>2.0</td>\n",
       "      <td>True</td>\n",
       "      <td>deli_items</td>\n",
       "      <td>class_2644</td>\n",
       "      <td>1</td>\n",
       "      <td>1</td>\n",
       "      <td>0</td>\n",
       "    </tr>\n",
       "  </tbody>\n",
       "</table>\n",
       "</div>"
      ],
      "text/plain": [
       "    locationId      item_id  unit_sales  onpromotion category_of_item  \\\n",
       "0  location_25  item_105574        12.0        False    grocery_items   \n",
       "1  location_25  item_105575         9.0        False    grocery_items   \n",
       "2  location_25  item_105857         3.0        False    grocery_items   \n",
       "3  location_25  item_108634         3.0        False    grocery_items   \n",
       "4  location_25  item_108701         2.0         True       deli_items   \n",
       "\n",
       "        class  Month  Day  Week  \n",
       "0  class_1045      1    1     0  \n",
       "1  class_1045      1    1     0  \n",
       "2  class_1092      1    1     0  \n",
       "3  class_1075      1    1     0  \n",
       "4  class_2644      1    1     0  "
      ]
     },
     "execution_count": 3,
     "metadata": {},
     "output_type": "execute_result"
    }
   ],
   "source": [
    "## Merging items with train data and extracting out the time features. \n",
    "\n",
    "train_subset = pd.merge(train_subset,item_details,how = 'left', on = 'item_id')\n",
    "\n",
    "train_subset['Month'] =pd.DatetimeIndex(train_subset['date']).month.astype('int8')\n",
    "train_subset['Day'] =pd.DatetimeIndex(train_subset['date']).day.astype('int8')\n",
    "train_subset['Week'] =pd.DatetimeIndex(train_subset['date']).weekday.astype('int8')\n",
    "\n",
    "train_subset = train_subset.drop(['Unnamed: 0','date','perishable'],axis = 1)\n",
    "\n",
    "\n",
    "train_subset.head()"
   ]
  },
  {
   "cell_type": "code",
   "execution_count": 4,
   "metadata": {
    "id": "f7oayDeTqaa7"
   },
   "outputs": [],
   "source": [
    "### Removing negative values in train data \n",
    "\n",
    "train_subset = train_subset[(train_subset['unit_sales']>0)]"
   ]
  },
  {
   "cell_type": "code",
   "execution_count": 5,
   "metadata": {
    "colab": {
     "base_uri": "https://localhost:8080/"
    },
    "id": "XjHbdsvUqbki",
    "outputId": "4899b86f-8e6e-4cfd-96d9-bc722930e995"
   },
   "outputs": [
    {
     "name": "stdout",
     "output_type": "stream",
     "text": [
      "2.0 8.0\n",
      "6.0\n",
      "-7.0 17.0\n"
     ]
    }
   ],
   "source": [
    "### Removing outliers \n",
    "\n",
    "Q1 = train_subset.unit_sales.quantile(0.25)\n",
    "Q3 = train_subset.unit_sales.quantile(0.75)\n",
    "print(Q1,Q3)\n",
    "\n",
    "\n",
    "IQR = Q3 - Q1\n",
    "print(IQR)\n",
    "\n",
    "lower_limit = Q1 - 1.5*IQR\n",
    "upper_limit = Q3 + 1.5*IQR\n",
    "print( lower_limit,upper_limit)\n",
    "\n",
    "\n",
    "train_subset = train_subset[(train_subset.unit_sales < upper_limit)]"
   ]
  },
  {
   "cell_type": "code",
   "execution_count": 6,
   "metadata": {
    "colab": {
     "base_uri": "https://localhost:8080/"
    },
    "id": "TLc-u_KHqcAr",
    "outputId": "a6b0f862-688c-41ad-a0f2-6bf85f8f411d"
   },
   "outputs": [
    {
     "name": "stdout",
     "output_type": "stream",
     "text": [
      "locationId\n",
      "item_id\n",
      "category_of_item\n",
      "class\n"
     ]
    }
   ],
   "source": [
    "## Label Encoding \n",
    "\n",
    "\n",
    "from sklearn import preprocessing\n",
    "def df_lbl_enc(df):\n",
    "    for c in df.columns:\n",
    "        if df[c].dtype == 'object':\n",
    "            lbl = preprocessing.LabelEncoder()\n",
    "            df[c] = lbl.fit_transform(df[c])\n",
    "            print(c)\n",
    "    return df\n",
    "\n",
    "\n",
    "train_subset = df_lbl_enc(train_subset)"
   ]
  },
  {
   "cell_type": "code",
   "execution_count": 7,
   "metadata": {
    "id": "IPPgIi6Pqu4E"
   },
   "outputs": [],
   "source": [
    " from sklearn.preprocessing import LabelEncoder\n",
    " \n",
    " lb = LabelEncoder()\n",
    "\n",
    "train_subset['onpromotion']= lb.fit_transform(train_subset['onpromotion'])"
   ]
  },
  {
   "cell_type": "code",
   "execution_count": 8,
   "metadata": {
    "id": "sccuu6j7qvrU"
   },
   "outputs": [],
   "source": [
    "X_train = train_subset.drop(['unit_sales'], axis = 1)\n",
    "\n",
    "Y_train = train_subset['unit_sales']"
   ]
  },
  {
   "cell_type": "code",
   "execution_count": 9,
   "metadata": {
    "id": "q0K0bCFpq6CM"
   },
   "outputs": [],
   "source": [
    "Y_train = np.log1p(Y_train)"
   ]
  },
  {
   "cell_type": "code",
   "execution_count": 10,
   "metadata": {
    "colab": {
     "base_uri": "https://localhost:8080/",
     "height": 411
    },
    "id": "wP_wFv9ymb70",
    "outputId": "3ef9a0d4-3f23-4ed3-a615-57cfbe739575"
   },
   "outputs": [
    {
     "data": {
      "text/html": [
       "<div>\n",
       "<style scoped>\n",
       "    .dataframe tbody tr th:only-of-type {\n",
       "        vertical-align: middle;\n",
       "    }\n",
       "\n",
       "    .dataframe tbody tr th {\n",
       "        vertical-align: top;\n",
       "    }\n",
       "\n",
       "    .dataframe thead th {\n",
       "        text-align: right;\n",
       "    }\n",
       "</style>\n",
       "<table border=\"1\" class=\"dataframe\">\n",
       "  <thead>\n",
       "    <tr style=\"text-align: right;\">\n",
       "      <th></th>\n",
       "      <th>locationId</th>\n",
       "      <th>item_id</th>\n",
       "      <th>onpromotion</th>\n",
       "      <th>category_of_item</th>\n",
       "      <th>class</th>\n",
       "      <th>Month</th>\n",
       "      <th>Day</th>\n",
       "      <th>Week</th>\n",
       "    </tr>\n",
       "  </thead>\n",
       "  <tbody>\n",
       "    <tr>\n",
       "      <th>0</th>\n",
       "      <td>17</td>\n",
       "      <td>120</td>\n",
       "      <td>0</td>\n",
       "      <td>8</td>\n",
       "      <td>29</td>\n",
       "      <td>1</td>\n",
       "      <td>1</td>\n",
       "      <td>0</td>\n",
       "    </tr>\n",
       "    <tr>\n",
       "      <th>1</th>\n",
       "      <td>17</td>\n",
       "      <td>121</td>\n",
       "      <td>0</td>\n",
       "      <td>8</td>\n",
       "      <td>29</td>\n",
       "      <td>1</td>\n",
       "      <td>1</td>\n",
       "      <td>0</td>\n",
       "    </tr>\n",
       "    <tr>\n",
       "      <th>2</th>\n",
       "      <td>17</td>\n",
       "      <td>133</td>\n",
       "      <td>0</td>\n",
       "      <td>8</td>\n",
       "      <td>58</td>\n",
       "      <td>1</td>\n",
       "      <td>1</td>\n",
       "      <td>0</td>\n",
       "    </tr>\n",
       "    <tr>\n",
       "      <th>3</th>\n",
       "      <td>17</td>\n",
       "      <td>194</td>\n",
       "      <td>0</td>\n",
       "      <td>8</td>\n",
       "      <td>46</td>\n",
       "      <td>1</td>\n",
       "      <td>1</td>\n",
       "      <td>0</td>\n",
       "    </tr>\n",
       "    <tr>\n",
       "      <th>4</th>\n",
       "      <td>17</td>\n",
       "      <td>197</td>\n",
       "      <td>1</td>\n",
       "      <td>5</td>\n",
       "      <td>165</td>\n",
       "      <td>1</td>\n",
       "      <td>1</td>\n",
       "      <td>0</td>\n",
       "    </tr>\n",
       "    <tr>\n",
       "      <th>...</th>\n",
       "      <td>...</td>\n",
       "      <td>...</td>\n",
       "      <td>...</td>\n",
       "      <td>...</td>\n",
       "      <td>...</td>\n",
       "      <td>...</td>\n",
       "      <td>...</td>\n",
       "      <td>...</td>\n",
       "    </tr>\n",
       "    <tr>\n",
       "      <th>21679746</th>\n",
       "      <td>48</td>\n",
       "      <td>2399</td>\n",
       "      <td>0</td>\n",
       "      <td>8</td>\n",
       "      <td>21</td>\n",
       "      <td>8</td>\n",
       "      <td>15</td>\n",
       "      <td>2</td>\n",
       "    </tr>\n",
       "    <tr>\n",
       "      <th>21679747</th>\n",
       "      <td>48</td>\n",
       "      <td>2400</td>\n",
       "      <td>0</td>\n",
       "      <td>8</td>\n",
       "      <td>21</td>\n",
       "      <td>8</td>\n",
       "      <td>15</td>\n",
       "      <td>2</td>\n",
       "    </tr>\n",
       "    <tr>\n",
       "      <th>21679748</th>\n",
       "      <td>48</td>\n",
       "      <td>2402</td>\n",
       "      <td>0</td>\n",
       "      <td>8</td>\n",
       "      <td>21</td>\n",
       "      <td>8</td>\n",
       "      <td>15</td>\n",
       "      <td>2</td>\n",
       "    </tr>\n",
       "    <tr>\n",
       "      <th>21679749</th>\n",
       "      <td>48</td>\n",
       "      <td>2403</td>\n",
       "      <td>0</td>\n",
       "      <td>8</td>\n",
       "      <td>37</td>\n",
       "      <td>8</td>\n",
       "      <td>15</td>\n",
       "      <td>2</td>\n",
       "    </tr>\n",
       "    <tr>\n",
       "      <th>21679750</th>\n",
       "      <td>48</td>\n",
       "      <td>2404</td>\n",
       "      <td>0</td>\n",
       "      <td>8</td>\n",
       "      <td>21</td>\n",
       "      <td>8</td>\n",
       "      <td>15</td>\n",
       "      <td>2</td>\n",
       "    </tr>\n",
       "  </tbody>\n",
       "</table>\n",
       "<p>19356963 rows × 8 columns</p>\n",
       "</div>"
      ],
      "text/plain": [
       "          locationId  item_id  onpromotion  category_of_item  class  Month  \\\n",
       "0                 17      120            0                 8     29      1   \n",
       "1                 17      121            0                 8     29      1   \n",
       "2                 17      133            0                 8     58      1   \n",
       "3                 17      194            0                 8     46      1   \n",
       "4                 17      197            1                 5    165      1   \n",
       "...              ...      ...          ...               ...    ...    ...   \n",
       "21679746          48     2399            0                 8     21      8   \n",
       "21679747          48     2400            0                 8     21      8   \n",
       "21679748          48     2402            0                 8     21      8   \n",
       "21679749          48     2403            0                 8     37      8   \n",
       "21679750          48     2404            0                 8     21      8   \n",
       "\n",
       "          Day  Week  \n",
       "0           1     0  \n",
       "1           1     0  \n",
       "2           1     0  \n",
       "3           1     0  \n",
       "4           1     0  \n",
       "...       ...   ...  \n",
       "21679746   15     2  \n",
       "21679747   15     2  \n",
       "21679748   15     2  \n",
       "21679749   15     2  \n",
       "21679750   15     2  \n",
       "\n",
       "[19356963 rows x 8 columns]"
      ]
     },
     "execution_count": 10,
     "metadata": {},
     "output_type": "execute_result"
    }
   ],
   "source": [
    "X_train"
   ]
  },
  {
   "cell_type": "markdown",
   "metadata": {
    "id": "RgF_CDhUrLH6"
   },
   "source": [
    "# Building autoencoders "
   ]
  },
  {
   "cell_type": "code",
   "execution_count": 11,
   "metadata": {
    "colab": {
     "base_uri": "https://localhost:8080/"
    },
    "id": "vQlTiPL8rNlT",
    "outputId": "80f2a7c7-e1e9-4ef6-e7b3-0500d2fd3f9e"
   },
   "outputs": [
    {
     "name": "stdout",
     "output_type": "stream",
     "text": [
      "Model: \"model\"\n",
      "_________________________________________________________________\n",
      "Layer (type)                 Output Shape              Param #   \n",
      "=================================================================\n",
      "input_1 (InputLayer)         [(None, 8)]               0         \n",
      "_________________________________________________________________\n",
      "dense (Dense)                (None, 4)                 36        \n",
      "_________________________________________________________________\n",
      "dense_1 (Dense)              (None, 8)                 40        \n",
      "=================================================================\n",
      "Total params: 76\n",
      "Trainable params: 76\n",
      "Non-trainable params: 0\n",
      "_________________________________________________________________\n"
     ]
    }
   ],
   "source": [
    "# The size of encoded and actual representations\n",
    "encoding_dim = 4  # Tried with 5,6\n",
    "actual_dim = X_train.shape[1]\n",
    "\n",
    "# Input placeholder\n",
    "input_attrs = Input(shape=(actual_dim,))\n",
    "\n",
    "# \"encoded\" is the encoded representation of the input\n",
    "encoded = Dense(encoding_dim, activation='relu')(input_attrs)\n",
    "\n",
    "# \"decoded\" is the lossy reconstruction of the input\n",
    "decoded = Dense(actual_dim, activation='relu')(encoded)\n",
    "\n",
    "\n",
    "# this model maps an input to its reconstruction\n",
    "autoencoder = Model(input_attrs, decoded)\n",
    "\n",
    "autoencoder.summary()"
   ]
  },
  {
   "cell_type": "code",
   "execution_count": 12,
   "metadata": {
    "id": "AxwMdgIbrmOu"
   },
   "outputs": [],
   "source": [
    "autoencoder.compile(optimizer='Adam', loss='mean_absolute_percentage_error')"
   ]
  },
  {
   "cell_type": "code",
   "execution_count": 13,
   "metadata": {
    "colab": {
     "base_uri": "https://localhost:8080/"
    },
    "id": "qSSfuLOtr3i2",
    "outputId": "a36aa0b1-b7aa-4e49-d7d9-c6efb642dab5"
   },
   "outputs": [
    {
     "name": "stdout",
     "output_type": "stream",
     "text": [
      "Epoch 1/20\n",
      "18904/18904 [==============================] - 22s 1ms/step - loss: 196869109.1565\n",
      "Epoch 2/20\n",
      "18904/18904 [==============================] - 18s 941us/step - loss: 151.4320\n",
      "Epoch 3/20\n",
      "18904/18904 [==============================] - 20s 1ms/step - loss: 136.2114\n",
      "Epoch 4/20\n",
      "18904/18904 [==============================] - 19s 1ms/step - loss: 75.2761\n",
      "Epoch 5/20\n",
      "18904/18904 [==============================] - 21s 1ms/step - loss: 2455.5492\n",
      "Epoch 6/20\n",
      "18904/18904 [==============================] - 22s 1ms/step - loss: 95.3152\n",
      "Epoch 7/20\n",
      "18904/18904 [==============================] - 20s 1ms/step - loss: 488.7679\n",
      "Epoch 8/20\n",
      "18904/18904 [==============================] - 19s 990us/step - loss: 72.0666\n",
      "Epoch 9/20\n",
      "18904/18904 [==============================] - 19s 989us/step - loss: 81.7621\n",
      "Epoch 10/20\n",
      "18904/18904 [==============================] - 19s 991us/step - loss: 507.3795\n",
      "Epoch 11/20\n",
      "18904/18904 [==============================] - 19s 990us/step - loss: 69.8906\n",
      "Epoch 12/20\n",
      "18904/18904 [==============================] - 19s 997us/step - loss: 70.0921\n",
      "Epoch 13/20\n",
      "18904/18904 [==============================] - 19s 995us/step - loss: 64.3149\n",
      "Epoch 14/20\n",
      "18904/18904 [==============================] - 19s 992us/step - loss: 65.9997\n",
      "Epoch 15/20\n",
      "18904/18904 [==============================] - 19s 1ms/step - loss: 60.9135\n",
      "Epoch 16/20\n",
      "18904/18904 [==============================] - 21s 1ms/step - loss: 58.9230\n",
      "Epoch 17/20\n",
      "18904/18904 [==============================] - 21s 1ms/step - loss: 61.0528\n",
      "Epoch 18/20\n",
      "18904/18904 [==============================] - 21s 1ms/step - loss: 3171.2631\n",
      "Epoch 19/20\n",
      "18904/18904 [==============================] - 18s 977us/step - loss: 64.5344\n",
      "Epoch 20/20\n",
      "18904/18904 [==============================] - 21s 1ms/step - loss: 81.3989\n"
     ]
    },
    {
     "data": {
      "text/plain": [
       "<tensorflow.python.keras.callbacks.History at 0x201b97113a0>"
      ]
     },
     "execution_count": 13,
     "metadata": {},
     "output_type": "execute_result"
    }
   ],
   "source": [
    "autoencoder.fit(X_train.values, X_train.values,batch_size = 1024, epochs=20)"
   ]
  },
  {
   "cell_type": "markdown",
   "metadata": {
    "id": "m2EfvR4GwDGl"
   },
   "source": [
    "## Extracting deep features "
   ]
  },
  {
   "cell_type": "code",
   "execution_count": 14,
   "metadata": {
    "colab": {
     "base_uri": "https://localhost:8080/"
    },
    "id": "3HTZNfxlwF0d",
    "outputId": "c60a077f-7116-4238-ef4e-260c6248a084"
   },
   "outputs": [
    {
     "name": "stdout",
     "output_type": "stream",
     "text": [
      "Model: \"model_1\"\n",
      "_________________________________________________________________\n",
      "Layer (type)                 Output Shape              Param #   \n",
      "=================================================================\n",
      "input_1 (InputLayer)         [(None, 8)]               0         \n",
      "_________________________________________________________________\n",
      "dense (Dense)                (None, 4)                 36        \n",
      "=================================================================\n",
      "Total params: 36\n",
      "Trainable params: 36\n",
      "Non-trainable params: 0\n",
      "_________________________________________________________________\n"
     ]
    }
   ],
   "source": [
    "encoder = Model(input_attrs, encoded)\n",
    "\n",
    "encoder.summary()"
   ]
  },
  {
   "cell_type": "code",
   "execution_count": 15,
   "metadata": {
    "id": "Oo2xQtWhwL4I"
   },
   "outputs": [],
   "source": [
    "X_train_nonLinear_features = encoder.predict(X_train)"
   ]
  },
  {
   "cell_type": "code",
   "execution_count": 16,
   "metadata": {
    "colab": {
     "base_uri": "https://localhost:8080/"
    },
    "id": "6MxMXYtiGw-R",
    "outputId": "6c2ad9d1-12af-4077-d65e-07d60f9c3fd8"
   },
   "outputs": [
    {
     "name": "stdout",
     "output_type": "stream",
     "text": [
      "(19356963, 4)\n"
     ]
    }
   ],
   "source": [
    "print(X_train_nonLinear_features.shape)"
   ]
  },
  {
   "cell_type": "code",
   "execution_count": 17,
   "metadata": {
    "id": "HLT6PWFfGzNl"
   },
   "outputs": [],
   "source": [
    "del encoder \n",
    "del autoencoder \n",
    "del train_subset"
   ]
  },
  {
   "cell_type": "code",
   "execution_count": 18,
   "metadata": {
    "colab": {
     "base_uri": "https://localhost:8080/",
     "height": 200
    },
    "id": "2t-ibD64HHQ-",
    "outputId": "b598fc9f-8790-4eb4-9b7d-6cb652df7341"
   },
   "outputs": [
    {
     "data": {
      "text/html": [
       "<div>\n",
       "<style scoped>\n",
       "    .dataframe tbody tr th:only-of-type {\n",
       "        vertical-align: middle;\n",
       "    }\n",
       "\n",
       "    .dataframe tbody tr th {\n",
       "        vertical-align: top;\n",
       "    }\n",
       "\n",
       "    .dataframe thead th {\n",
       "        text-align: right;\n",
       "    }\n",
       "</style>\n",
       "<table border=\"1\" class=\"dataframe\">\n",
       "  <thead>\n",
       "    <tr style=\"text-align: right;\">\n",
       "      <th></th>\n",
       "      <th>locationId</th>\n",
       "      <th>item_id</th>\n",
       "      <th>onpromotion</th>\n",
       "      <th>category_of_item</th>\n",
       "      <th>class</th>\n",
       "      <th>Month</th>\n",
       "      <th>Day</th>\n",
       "      <th>Week</th>\n",
       "    </tr>\n",
       "  </thead>\n",
       "  <tbody>\n",
       "    <tr>\n",
       "      <th>0</th>\n",
       "      <td>17</td>\n",
       "      <td>120</td>\n",
       "      <td>0</td>\n",
       "      <td>8</td>\n",
       "      <td>29</td>\n",
       "      <td>1</td>\n",
       "      <td>1</td>\n",
       "      <td>0</td>\n",
       "    </tr>\n",
       "    <tr>\n",
       "      <th>1</th>\n",
       "      <td>17</td>\n",
       "      <td>121</td>\n",
       "      <td>0</td>\n",
       "      <td>8</td>\n",
       "      <td>29</td>\n",
       "      <td>1</td>\n",
       "      <td>1</td>\n",
       "      <td>0</td>\n",
       "    </tr>\n",
       "    <tr>\n",
       "      <th>2</th>\n",
       "      <td>17</td>\n",
       "      <td>133</td>\n",
       "      <td>0</td>\n",
       "      <td>8</td>\n",
       "      <td>58</td>\n",
       "      <td>1</td>\n",
       "      <td>1</td>\n",
       "      <td>0</td>\n",
       "    </tr>\n",
       "    <tr>\n",
       "      <th>3</th>\n",
       "      <td>17</td>\n",
       "      <td>194</td>\n",
       "      <td>0</td>\n",
       "      <td>8</td>\n",
       "      <td>46</td>\n",
       "      <td>1</td>\n",
       "      <td>1</td>\n",
       "      <td>0</td>\n",
       "    </tr>\n",
       "    <tr>\n",
       "      <th>4</th>\n",
       "      <td>17</td>\n",
       "      <td>197</td>\n",
       "      <td>1</td>\n",
       "      <td>5</td>\n",
       "      <td>165</td>\n",
       "      <td>1</td>\n",
       "      <td>1</td>\n",
       "      <td>0</td>\n",
       "    </tr>\n",
       "  </tbody>\n",
       "</table>\n",
       "</div>"
      ],
      "text/plain": [
       "   locationId  item_id  onpromotion  category_of_item  class  Month  Day  Week\n",
       "0          17      120            0                 8     29      1    1     0\n",
       "1          17      121            0                 8     29      1    1     0\n",
       "2          17      133            0                 8     58      1    1     0\n",
       "3          17      194            0                 8     46      1    1     0\n",
       "4          17      197            1                 5    165      1    1     0"
      ]
     },
     "execution_count": 18,
     "metadata": {},
     "output_type": "execute_result"
    }
   ],
   "source": [
    "X_train.head()"
   ]
  },
  {
   "cell_type": "code",
   "execution_count": 19,
   "metadata": {
    "colab": {
     "base_uri": "https://localhost:8080/"
    },
    "id": "k4MY-C0_R9Ox",
    "outputId": "9473442f-23ee-4343-eef8-40f5103762fc"
   },
   "outputs": [
    {
     "data": {
      "text/plain": [
       "(19356963, 8)"
      ]
     },
     "execution_count": 19,
     "metadata": {},
     "output_type": "execute_result"
    }
   ],
   "source": [
    "X_train.shape"
   ]
  },
  {
   "cell_type": "code",
   "execution_count": 20,
   "metadata": {
    "id": "QCEWgFW3Hmjx"
   },
   "outputs": [],
   "source": [
    "X_train_nonLinear_features = pd.DataFrame(X_train_nonLinear_features)"
   ]
  },
  {
   "cell_type": "code",
   "execution_count": 21,
   "metadata": {
    "colab": {
     "base_uri": "https://localhost:8080/"
    },
    "id": "ZTmOCJHXwfY6",
    "outputId": "b811105d-926d-4eb0-e9c3-10870d1d94a7"
   },
   "outputs": [
    {
     "data": {
      "text/plain": [
       "(19356963, 4)"
      ]
     },
     "execution_count": 21,
     "metadata": {},
     "output_type": "execute_result"
    }
   ],
   "source": [
    "X_train_nonLinear_features.shape"
   ]
  },
  {
   "cell_type": "code",
   "execution_count": 22,
   "metadata": {
    "id": "AhMKI5zkIah6"
   },
   "outputs": [],
   "source": [
    "# Train Data With non linear features \n",
    "new_train_data = pd.concat([X_train.reset_index(drop=True),X_train_nonLinear_features], axis = 1)\n"
   ]
  },
  {
   "cell_type": "code",
   "execution_count": 23,
   "metadata": {
    "colab": {
     "base_uri": "https://localhost:8080/",
     "height": 200
    },
    "id": "DYOgaLg8JKOq",
    "outputId": "91479008-8c76-4cf6-85a2-89d7c654e415"
   },
   "outputs": [
    {
     "data": {
      "text/html": [
       "<div>\n",
       "<style scoped>\n",
       "    .dataframe tbody tr th:only-of-type {\n",
       "        vertical-align: middle;\n",
       "    }\n",
       "\n",
       "    .dataframe tbody tr th {\n",
       "        vertical-align: top;\n",
       "    }\n",
       "\n",
       "    .dataframe thead th {\n",
       "        text-align: right;\n",
       "    }\n",
       "</style>\n",
       "<table border=\"1\" class=\"dataframe\">\n",
       "  <thead>\n",
       "    <tr style=\"text-align: right;\">\n",
       "      <th></th>\n",
       "      <th>locationId</th>\n",
       "      <th>item_id</th>\n",
       "      <th>onpromotion</th>\n",
       "      <th>category_of_item</th>\n",
       "      <th>class</th>\n",
       "      <th>Month</th>\n",
       "      <th>Day</th>\n",
       "      <th>Week</th>\n",
       "      <th>0</th>\n",
       "      <th>1</th>\n",
       "      <th>2</th>\n",
       "      <th>3</th>\n",
       "    </tr>\n",
       "  </thead>\n",
       "  <tbody>\n",
       "    <tr>\n",
       "      <th>0</th>\n",
       "      <td>17</td>\n",
       "      <td>120</td>\n",
       "      <td>0</td>\n",
       "      <td>8</td>\n",
       "      <td>29</td>\n",
       "      <td>1</td>\n",
       "      <td>1</td>\n",
       "      <td>0</td>\n",
       "      <td>0.0</td>\n",
       "      <td>29.898108</td>\n",
       "      <td>91.181458</td>\n",
       "      <td>0.0</td>\n",
       "    </tr>\n",
       "    <tr>\n",
       "      <th>1</th>\n",
       "      <td>17</td>\n",
       "      <td>121</td>\n",
       "      <td>0</td>\n",
       "      <td>8</td>\n",
       "      <td>29</td>\n",
       "      <td>1</td>\n",
       "      <td>1</td>\n",
       "      <td>0</td>\n",
       "      <td>0.0</td>\n",
       "      <td>30.161291</td>\n",
       "      <td>92.001587</td>\n",
       "      <td>0.0</td>\n",
       "    </tr>\n",
       "    <tr>\n",
       "      <th>2</th>\n",
       "      <td>17</td>\n",
       "      <td>133</td>\n",
       "      <td>0</td>\n",
       "      <td>8</td>\n",
       "      <td>58</td>\n",
       "      <td>1</td>\n",
       "      <td>1</td>\n",
       "      <td>0</td>\n",
       "      <td>0.0</td>\n",
       "      <td>32.627441</td>\n",
       "      <td>99.693611</td>\n",
       "      <td>0.0</td>\n",
       "    </tr>\n",
       "    <tr>\n",
       "      <th>3</th>\n",
       "      <td>17</td>\n",
       "      <td>194</td>\n",
       "      <td>0</td>\n",
       "      <td>8</td>\n",
       "      <td>46</td>\n",
       "      <td>1</td>\n",
       "      <td>1</td>\n",
       "      <td>0</td>\n",
       "      <td>0.0</td>\n",
       "      <td>48.968056</td>\n",
       "      <td>150.610977</td>\n",
       "      <td>0.0</td>\n",
       "    </tr>\n",
       "    <tr>\n",
       "      <th>4</th>\n",
       "      <td>17</td>\n",
       "      <td>197</td>\n",
       "      <td>1</td>\n",
       "      <td>5</td>\n",
       "      <td>165</td>\n",
       "      <td>1</td>\n",
       "      <td>1</td>\n",
       "      <td>0</td>\n",
       "      <td>0.0</td>\n",
       "      <td>48.350201</td>\n",
       "      <td>148.679367</td>\n",
       "      <td>0.0</td>\n",
       "    </tr>\n",
       "  </tbody>\n",
       "</table>\n",
       "</div>"
      ],
      "text/plain": [
       "   locationId  item_id  onpromotion  category_of_item  class  Month  Day  \\\n",
       "0          17      120            0                 8     29      1    1   \n",
       "1          17      121            0                 8     29      1    1   \n",
       "2          17      133            0                 8     58      1    1   \n",
       "3          17      194            0                 8     46      1    1   \n",
       "4          17      197            1                 5    165      1    1   \n",
       "\n",
       "   Week    0          1           2    3  \n",
       "0     0  0.0  29.898108   91.181458  0.0  \n",
       "1     0  0.0  30.161291   92.001587  0.0  \n",
       "2     0  0.0  32.627441   99.693611  0.0  \n",
       "3     0  0.0  48.968056  150.610977  0.0  \n",
       "4     0  0.0  48.350201  148.679367  0.0  "
      ]
     },
     "execution_count": 23,
     "metadata": {},
     "output_type": "execute_result"
    }
   ],
   "source": [
    "new_train_data.head()"
   ]
  },
  {
   "cell_type": "code",
   "execution_count": 24,
   "metadata": {
    "colab": {
     "base_uri": "https://localhost:8080/"
    },
    "id": "1YYbUMErxFhA",
    "outputId": "27b96d34-6a31-42c8-c85d-2814ef4547a7"
   },
   "outputs": [
    {
     "data": {
      "text/plain": [
       "(19356963, 12)"
      ]
     },
     "execution_count": 24,
     "metadata": {},
     "output_type": "execute_result"
    }
   ],
   "source": [
    "new_train_data.shape"
   ]
  },
  {
   "cell_type": "code",
   "execution_count": 25,
   "metadata": {
    "id": "MhapbQcm5aF-"
   },
   "outputs": [],
   "source": [
    "del X_train_nonLinear_features"
   ]
  },
  {
   "cell_type": "code",
   "execution_count": 26,
   "metadata": {
    "id": "On1NVT8nJNrB"
   },
   "outputs": [],
   "source": [
    "## Splitting the data \n",
    "\n",
    "from sklearn.model_selection import train_test_split\n",
    "\n",
    "X = new_train_data\n",
    "\n",
    "y = Y_train\n",
    "\n",
    "X_train, X_test, y_train, y_test = train_test_split(X, y, test_size=0.30, random_state=42)"
   ]
  },
  {
   "cell_type": "code",
   "execution_count": 27,
   "metadata": {
    "id": "k6i-94ye4Pjp"
   },
   "outputs": [],
   "source": [
    "cat_cols = ['locationId','item_id','onpromotion','category_of_item','class','Month','Day','Week']"
   ]
  },
  {
   "cell_type": "code",
   "execution_count": 28,
   "metadata": {
    "id": "Lo9JPCSvJd4A"
   },
   "outputs": [
    {
     "name": "stdout",
     "output_type": "stream",
     "text": [
      "[LightGBM] [Warning] min_data_in_leaf is set=50, min_child_samples=20 will be ignored. Current value: min_data_in_leaf=50\n"
     ]
    },
    {
     "data": {
      "text/plain": [
       "LGBMRegressor(boosting_type='dart', learning_rate=0.01, max_depth=8,\n",
       "              metric='l1', min_data_in_leaf=50, objective='regression_l1')"
      ]
     },
     "execution_count": 28,
     "metadata": {},
     "output_type": "execute_result"
    }
   ],
   "source": [
    "from lightgbm import LGBMRegressor \n",
    "\n",
    "\n",
    "## Light GBM \n",
    "\n",
    "LGB_model = LGBMRegressor(boosting_type= 'dart', \n",
    "                          num_leaves = 31,\n",
    "                          objective = 'regression_l1',\n",
    "                          max_depth = 8,\n",
    "                          min_data_in_leaf = 50,\n",
    "                          learning_rate = 0.01,\n",
    "                          metric = 'l1')\n",
    "\n",
    "## Fitting the model \n",
    "\n",
    "LGB_model.fit(X_train, y_train,eval_set = (X_test,y_test),early_stopping_rounds = 50,categorical_feature = cat_cols,verbose = 0)"
   ]
  },
  {
   "cell_type": "code",
   "execution_count": 29,
   "metadata": {},
   "outputs": [],
   "source": [
    "# Custom fuction for MAPE( Error Metric )\n",
    "\n",
    "def mean_absolute_percentage_error(y_true, y_pred): \n",
    "    y_true, y_pred = np.array(y_true), np.array(y_pred)\n",
    "    return np.mean(np.abs((y_true - y_pred) / y_true)) * 100"
   ]
  },
  {
   "cell_type": "code",
   "execution_count": 30,
   "metadata": {
    "id": "ET8ZJMxY4Wv-"
   },
   "outputs": [
    {
     "name": "stdout",
     "output_type": "stream",
     "text": [
      "56.390422320564646\n",
      "56.461494761527156\n"
     ]
    }
   ],
   "source": [
    "# Predicting on the validation data\n",
    "\n",
    "LGB_Model_Y_train_pred = LGB_model.predict(X_train)\n",
    "LGB_Model_Y_test_pred = LGB_model.predict(X_test)\n",
    "\n",
    "\n",
    "LGB_Model_Y_train_pred =np.expm1(LGB_Model_Y_train_pred)\n",
    "LGB_Model_Y_test_pred =np.expm1(LGB_Model_Y_test_pred)\n",
    "\n",
    "y_train = np.expm1(y_train)\n",
    "y_test = np.expm1(y_test)\n",
    "\n",
    "Train_score_LGB= mean_absolute_percentage_error(y_train,LGB_Model_Y_train_pred)\n",
    "Test_score_LGB = mean_absolute_percentage_error(y_test,LGB_Model_Y_test_pred)\n",
    "\n",
    "print(Train_score_LGB)\n",
    "print(Test_score_LGB)"
   ]
  },
  {
   "cell_type": "code",
   "execution_count": null,
   "metadata": {},
   "outputs": [],
   "source": []
  }
 ],
 "metadata": {
  "accelerator": "GPU",
  "colab": {
   "collapsed_sections": [],
   "name": "Deep Learning Autoencoders for Feature Generation.ipynb",
   "provenance": []
  },
  "kernelspec": {
   "display_name": "Python 3",
   "language": "python",
   "name": "python3"
  },
  "language_info": {
   "codemirror_mode": {
    "name": "ipython",
    "version": 3
   },
   "file_extension": ".py",
   "mimetype": "text/x-python",
   "name": "python",
   "nbconvert_exporter": "python",
   "pygments_lexer": "ipython3",
   "version": "3.8.5"
  }
 },
 "nbformat": 4,
 "nbformat_minor": 1
}
