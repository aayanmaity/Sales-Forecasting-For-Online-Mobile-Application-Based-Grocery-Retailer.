{
 "cells": [
  {
   "cell_type": "code",
   "execution_count": 1,
   "metadata": {
    "id": "6hK5dKU711iW"
   },
   "outputs": [],
   "source": [
    "# Loading important libraries\n",
    "\n",
    "import numpy as np\n",
    "import pandas as pd\n",
    "\n",
    "import warnings\n",
    "warnings.filterwarnings(\"ignore\")"
   ]
  },
  {
   "cell_type": "code",
   "execution_count": 2,
   "metadata": {
    "id": "oqaV9YvpOU3g"
   },
   "outputs": [],
   "source": [
    "## Loading train data \n",
    "train_subset = pd.read_csv(\"train_subset.csv\")\n",
    "\n",
    "## Loading test data\n",
    "test = pd.read_csv(\"test.csv\")\n",
    "\n",
    "## Loading location data\n",
    "location_details = pd.read_excel(\"location_details.xlsx\")\n",
    "\n",
    "## Loading item data\n",
    "item_details = pd.read_excel(\"item_details.xlsx\")"
   ]
  },
  {
   "cell_type": "code",
   "execution_count": 3,
   "metadata": {
    "colab": {
     "base_uri": "https://localhost:8080/"
    },
    "id": "6CmQO6zGR3B5",
    "outputId": "fa6de999-8b1c-4f28-f377-a295f2a14c65"
   },
   "outputs": [
    {
     "name": "stdout",
     "output_type": "stream",
     "text": [
      "<class 'pandas.core.frame.DataFrame'>\n",
      "RangeIndex: 21679751 entries, 0 to 21679750\n",
      "Data columns (total 6 columns):\n",
      " #   Column       Dtype  \n",
      "---  ------       -----  \n",
      " 0   Unnamed: 0   int64  \n",
      " 1   date         object \n",
      " 2   locationId   object \n",
      " 3   item_id      object \n",
      " 4   unit_sales   float64\n",
      " 5   onpromotion  bool   \n",
      "dtypes: bool(1), float64(1), int64(1), object(3)\n",
      "memory usage: 847.7+ MB\n"
     ]
    }
   ],
   "source": [
    "train_subset.info()"
   ]
  },
  {
   "cell_type": "code",
   "execution_count": 4,
   "metadata": {
    "id": "cWkNaRT0R62J"
   },
   "outputs": [],
   "source": [
    "train_subset['date'] = pd.to_datetime(train_subset['date'])"
   ]
  },
  {
   "cell_type": "code",
   "execution_count": 5,
   "metadata": {
    "id": "2aG1DvS5SRHW"
   },
   "outputs": [],
   "source": [
    "# Merging train data with item and location data \n",
    "\n",
    "train_subset = pd.merge(train_subset,item_details,how = 'left', on = 'item_id')\n",
    "\n",
    "train_subset = train_subset.rename(columns = {'locationId':'location_id'})\n",
    "\n",
    "train_subset = pd.merge(train_subset,location_details,how = 'left', on = 'location_id')"
   ]
  },
  {
   "cell_type": "code",
   "execution_count": 6,
   "metadata": {
    "id": "DOsg79cxSl87"
   },
   "outputs": [],
   "source": [
    "#Extracting time features from train data \n",
    "\n",
    "train_subset['Month'] =pd.DatetimeIndex(train_subset['date']).month.astype('int8')\n",
    "train_subset['Day'] =pd.DatetimeIndex(train_subset['date']).day.astype('int8')\n",
    "train_subset['Week'] =pd.DatetimeIndex(train_subset['date']).weekday.astype('int8')"
   ]
  },
  {
   "cell_type": "code",
   "execution_count": 7,
   "metadata": {
    "colab": {
     "base_uri": "https://localhost:8080/",
     "height": 302
    },
    "id": "_gjMxEX5SrWI",
    "outputId": "fc24837a-05f4-4c44-b012-a3490c3ebc3e"
   },
   "outputs": [
    {
     "data": {
      "text/html": [
       "<div>\n",
       "<style scoped>\n",
       "    .dataframe tbody tr th:only-of-type {\n",
       "        vertical-align: middle;\n",
       "    }\n",
       "\n",
       "    .dataframe tbody tr th {\n",
       "        vertical-align: top;\n",
       "    }\n",
       "\n",
       "    .dataframe thead th {\n",
       "        text-align: right;\n",
       "    }\n",
       "</style>\n",
       "<table border=\"1\" class=\"dataframe\">\n",
       "  <thead>\n",
       "    <tr style=\"text-align: right;\">\n",
       "      <th></th>\n",
       "      <th>Unnamed: 0</th>\n",
       "      <th>date</th>\n",
       "      <th>location_id</th>\n",
       "      <th>item_id</th>\n",
       "      <th>unit_sales</th>\n",
       "      <th>onpromotion</th>\n",
       "      <th>category_of_item</th>\n",
       "      <th>class</th>\n",
       "      <th>perishable</th>\n",
       "      <th>city</th>\n",
       "      <th>state</th>\n",
       "      <th>type</th>\n",
       "      <th>cluster</th>\n",
       "      <th>Month</th>\n",
       "      <th>Day</th>\n",
       "      <th>Week</th>\n",
       "    </tr>\n",
       "  </thead>\n",
       "  <tbody>\n",
       "    <tr>\n",
       "      <th>0</th>\n",
       "      <td>0</td>\n",
       "      <td>2018-01-01</td>\n",
       "      <td>location_25</td>\n",
       "      <td>item_105574</td>\n",
       "      <td>12.0</td>\n",
       "      <td>False</td>\n",
       "      <td>grocery_items</td>\n",
       "      <td>class_1045</td>\n",
       "      <td>0</td>\n",
       "      <td>Kanpur</td>\n",
       "      <td>Uttar Pradesh</td>\n",
       "      <td>D</td>\n",
       "      <td>1</td>\n",
       "      <td>1</td>\n",
       "      <td>1</td>\n",
       "      <td>0</td>\n",
       "    </tr>\n",
       "    <tr>\n",
       "      <th>1</th>\n",
       "      <td>1</td>\n",
       "      <td>2018-01-01</td>\n",
       "      <td>location_25</td>\n",
       "      <td>item_105575</td>\n",
       "      <td>9.0</td>\n",
       "      <td>False</td>\n",
       "      <td>grocery_items</td>\n",
       "      <td>class_1045</td>\n",
       "      <td>0</td>\n",
       "      <td>Kanpur</td>\n",
       "      <td>Uttar Pradesh</td>\n",
       "      <td>D</td>\n",
       "      <td>1</td>\n",
       "      <td>1</td>\n",
       "      <td>1</td>\n",
       "      <td>0</td>\n",
       "    </tr>\n",
       "    <tr>\n",
       "      <th>2</th>\n",
       "      <td>2</td>\n",
       "      <td>2018-01-01</td>\n",
       "      <td>location_25</td>\n",
       "      <td>item_105857</td>\n",
       "      <td>3.0</td>\n",
       "      <td>False</td>\n",
       "      <td>grocery_items</td>\n",
       "      <td>class_1092</td>\n",
       "      <td>0</td>\n",
       "      <td>Kanpur</td>\n",
       "      <td>Uttar Pradesh</td>\n",
       "      <td>D</td>\n",
       "      <td>1</td>\n",
       "      <td>1</td>\n",
       "      <td>1</td>\n",
       "      <td>0</td>\n",
       "    </tr>\n",
       "    <tr>\n",
       "      <th>3</th>\n",
       "      <td>3</td>\n",
       "      <td>2018-01-01</td>\n",
       "      <td>location_25</td>\n",
       "      <td>item_108634</td>\n",
       "      <td>3.0</td>\n",
       "      <td>False</td>\n",
       "      <td>grocery_items</td>\n",
       "      <td>class_1075</td>\n",
       "      <td>0</td>\n",
       "      <td>Kanpur</td>\n",
       "      <td>Uttar Pradesh</td>\n",
       "      <td>D</td>\n",
       "      <td>1</td>\n",
       "      <td>1</td>\n",
       "      <td>1</td>\n",
       "      <td>0</td>\n",
       "    </tr>\n",
       "    <tr>\n",
       "      <th>4</th>\n",
       "      <td>4</td>\n",
       "      <td>2018-01-01</td>\n",
       "      <td>location_25</td>\n",
       "      <td>item_108701</td>\n",
       "      <td>2.0</td>\n",
       "      <td>True</td>\n",
       "      <td>deli_items</td>\n",
       "      <td>class_2644</td>\n",
       "      <td>1</td>\n",
       "      <td>Kanpur</td>\n",
       "      <td>Uttar Pradesh</td>\n",
       "      <td>D</td>\n",
       "      <td>1</td>\n",
       "      <td>1</td>\n",
       "      <td>1</td>\n",
       "      <td>0</td>\n",
       "    </tr>\n",
       "  </tbody>\n",
       "</table>\n",
       "</div>"
      ],
      "text/plain": [
       "   Unnamed: 0       date  location_id      item_id  unit_sales  onpromotion  \\\n",
       "0           0 2018-01-01  location_25  item_105574        12.0        False   \n",
       "1           1 2018-01-01  location_25  item_105575         9.0        False   \n",
       "2           2 2018-01-01  location_25  item_105857         3.0        False   \n",
       "3           3 2018-01-01  location_25  item_108634         3.0        False   \n",
       "4           4 2018-01-01  location_25  item_108701         2.0         True   \n",
       "\n",
       "  category_of_item       class  perishable    city          state type  \\\n",
       "0    grocery_items  class_1045           0  Kanpur  Uttar Pradesh    D   \n",
       "1    grocery_items  class_1045           0  Kanpur  Uttar Pradesh    D   \n",
       "2    grocery_items  class_1092           0  Kanpur  Uttar Pradesh    D   \n",
       "3    grocery_items  class_1075           0  Kanpur  Uttar Pradesh    D   \n",
       "4       deli_items  class_2644           1  Kanpur  Uttar Pradesh    D   \n",
       "\n",
       "   cluster  Month  Day  Week  \n",
       "0        1      1    1     0  \n",
       "1        1      1    1     0  \n",
       "2        1      1    1     0  \n",
       "3        1      1    1     0  \n",
       "4        1      1    1     0  "
      ]
     },
     "execution_count": 7,
     "metadata": {},
     "output_type": "execute_result"
    }
   ],
   "source": [
    "train_subset.head()"
   ]
  },
  {
   "cell_type": "code",
   "execution_count": 8,
   "metadata": {
    "id": "jtmwF0eCSued"
   },
   "outputs": [],
   "source": [
    "# Dropping irrelevant columns\n",
    "\n",
    "train_subset = train_subset.drop(['Unnamed: 0','date','item_id'],axis = 1)"
   ]
  },
  {
   "cell_type": "code",
   "execution_count": 9,
   "metadata": {
    "id": "pIPiLBpsFCdx"
   },
   "outputs": [],
   "source": [
    "### Removing negative values in train data \n",
    "\n",
    "train_subset = train_subset[(train_subset['unit_sales']>0)]"
   ]
  },
  {
   "cell_type": "code",
   "execution_count": 10,
   "metadata": {
    "colab": {
     "base_uri": "https://localhost:8080/"
    },
    "id": "ZnwaA06WmqBx",
    "outputId": "f48b9a2a-61af-46d5-de49-908210b2d624"
   },
   "outputs": [
    {
     "name": "stdout",
     "output_type": "stream",
     "text": [
      "2.0 8.0\n",
      "6.0\n",
      "-7.0 17.0\n"
     ]
    }
   ],
   "source": [
    "### Removing outliers \n",
    "\n",
    "Q1 = train_subset.unit_sales.quantile(0.25)\n",
    "Q3 = train_subset.unit_sales.quantile(0.75)\n",
    "print(Q1,Q3)\n",
    "\n",
    "\n",
    "IQR = Q3 - Q1\n",
    "print(IQR)\n",
    "\n",
    "lower_limit = Q1 - 1.5*IQR\n",
    "upper_limit = Q3 + 1.5*IQR\n",
    "print( lower_limit,upper_limit)\n",
    "\n",
    "\n",
    "train_subset = train_subset[(train_subset.unit_sales < upper_limit)]"
   ]
  },
  {
   "cell_type": "code",
   "execution_count": 11,
   "metadata": {
    "colab": {
     "base_uri": "https://localhost:8080/"
    },
    "id": "Ww7xA-LuTDv6",
    "outputId": "33594bed-d8cc-4fbc-b79c-d4d76c8426db"
   },
   "outputs": [
    {
     "name": "stdout",
     "output_type": "stream",
     "text": [
      "location_id\n",
      "category_of_item\n",
      "class\n",
      "city\n",
      "state\n",
      "type\n"
     ]
    }
   ],
   "source": [
    "## Label Encoding \n",
    "\n",
    "\n",
    "from sklearn import preprocessing\n",
    "def df_lbl_enc(df):\n",
    "    for c in df.columns:\n",
    "        if df[c].dtype == 'object':\n",
    "            lbl = preprocessing.LabelEncoder()\n",
    "            df[c] = lbl.fit_transform(df[c])\n",
    "            print(c)\n",
    "    return df\n",
    "\n",
    "\n",
    "train_subset = df_lbl_enc(train_subset)"
   ]
  },
  {
   "cell_type": "code",
   "execution_count": 12,
   "metadata": {
    "id": "J49Jq6a1gUK2"
   },
   "outputs": [],
   "source": [
    " from sklearn.preprocessing import LabelEncoder\n",
    "\n",
    " lb = LabelEncoder()\n",
    "\n",
    " train_subset['onpromotion']= lb.fit_transform(train_subset['onpromotion'])"
   ]
  },
  {
   "cell_type": "code",
   "execution_count": 13,
   "metadata": {
    "colab": {
     "base_uri": "https://localhost:8080/"
    },
    "id": "FAxZQ6WuTeMa",
    "outputId": "75a15611-e0b0-42df-9f62-f78eca899f31"
   },
   "outputs": [
    {
     "name": "stdout",
     "output_type": "stream",
     "text": [
      "location_id\n",
      "onpromotion\n",
      "category_of_item\n",
      "class\n",
      "perishable\n",
      "city\n",
      "state\n",
      "type\n",
      "cluster\n",
      "Month\n",
      "Day\n",
      "Week\n"
     ]
    }
   ],
   "source": [
    "### Converting to category \n",
    "\n",
    "\n",
    "def cat_converter(df):\n",
    "    for i in df.columns:\n",
    "        if df[i].dtype == 'float64':\n",
    "            df[i] = df[i]\n",
    "        else:            \n",
    "            df[i] = df[i].astype('category')\n",
    "            print(i)\n",
    "    return df\n",
    "\n",
    "\n",
    "train_subset = cat_converter(train_subset)"
   ]
  },
  {
   "cell_type": "code",
   "execution_count": null,
   "metadata": {
    "colab": {
     "base_uri": "https://localhost:8080/",
     "height": 200
    },
    "id": "U9mZg74mmKCN",
    "outputId": "5402de68-ca77-4484-8b33-f2382c19d753"
   },
   "outputs": [],
   "source": [
    "#train_subset.head()"
   ]
  },
  {
   "cell_type": "code",
   "execution_count": null,
   "metadata": {
    "id": "oGRWZLlrpyOe"
   },
   "outputs": [],
   "source": [
    "#train_subset = train_subset.sample(frac = .1)"
   ]
  },
  {
   "cell_type": "code",
   "execution_count": null,
   "metadata": {
    "colab": {
     "base_uri": "https://localhost:8080/"
    },
    "id": "a-H_wXmVmMCS",
    "outputId": "9261694d-b118-4fbc-dea4-b185811e87a4"
   },
   "outputs": [],
   "source": [
    "#train_subset.info()"
   ]
  },
  {
   "cell_type": "code",
   "execution_count": null,
   "metadata": {
    "id": "KZwgDkPv7QfF"
   },
   "outputs": [],
   "source": [
    "#cols_to_transform = train_subset.select_dtypes(include=['category']).columns\n",
    "\n",
    "#train_subset = pd.get_dummies(columns=cols_to_transform, data=train_subset, prefix=cols_to_transform, prefix_sep=\"_\",drop_first=True)"
   ]
  },
  {
   "cell_type": "code",
   "execution_count": 14,
   "metadata": {
    "colab": {
     "base_uri": "https://localhost:8080/"
    },
    "id": "ePs2ueaF3uSL",
    "outputId": "124fb2f1-74d1-4c1b-9611-86cefa72109f"
   },
   "outputs": [
    {
     "data": {
      "text/plain": [
       "(19356963, 13)"
      ]
     },
     "execution_count": 14,
     "metadata": {},
     "output_type": "execute_result"
    }
   ],
   "source": [
    "train_subset.shape"
   ]
  },
  {
   "cell_type": "code",
   "execution_count": 15,
   "metadata": {
    "colab": {
     "base_uri": "https://localhost:8080/",
     "height": 200
    },
    "id": "15LDeDouET-6",
    "outputId": "5fe7b0fe-83dd-406f-aff0-1977ae57c4dd"
   },
   "outputs": [
    {
     "data": {
      "text/html": [
       "<div>\n",
       "<style scoped>\n",
       "    .dataframe tbody tr th:only-of-type {\n",
       "        vertical-align: middle;\n",
       "    }\n",
       "\n",
       "    .dataframe tbody tr th {\n",
       "        vertical-align: top;\n",
       "    }\n",
       "\n",
       "    .dataframe thead th {\n",
       "        text-align: right;\n",
       "    }\n",
       "</style>\n",
       "<table border=\"1\" class=\"dataframe\">\n",
       "  <thead>\n",
       "    <tr style=\"text-align: right;\">\n",
       "      <th></th>\n",
       "      <th>location_id</th>\n",
       "      <th>unit_sales</th>\n",
       "      <th>onpromotion</th>\n",
       "      <th>category_of_item</th>\n",
       "      <th>class</th>\n",
       "      <th>perishable</th>\n",
       "      <th>city</th>\n",
       "      <th>state</th>\n",
       "      <th>type</th>\n",
       "      <th>cluster</th>\n",
       "      <th>Month</th>\n",
       "      <th>Day</th>\n",
       "      <th>Week</th>\n",
       "    </tr>\n",
       "  </thead>\n",
       "  <tbody>\n",
       "    <tr>\n",
       "      <th>0</th>\n",
       "      <td>17</td>\n",
       "      <td>12.0</td>\n",
       "      <td>0</td>\n",
       "      <td>8</td>\n",
       "      <td>29</td>\n",
       "      <td>0</td>\n",
       "      <td>10</td>\n",
       "      <td>11</td>\n",
       "      <td>3</td>\n",
       "      <td>1</td>\n",
       "      <td>1</td>\n",
       "      <td>1</td>\n",
       "      <td>0</td>\n",
       "    </tr>\n",
       "    <tr>\n",
       "      <th>1</th>\n",
       "      <td>17</td>\n",
       "      <td>9.0</td>\n",
       "      <td>0</td>\n",
       "      <td>8</td>\n",
       "      <td>29</td>\n",
       "      <td>0</td>\n",
       "      <td>10</td>\n",
       "      <td>11</td>\n",
       "      <td>3</td>\n",
       "      <td>1</td>\n",
       "      <td>1</td>\n",
       "      <td>1</td>\n",
       "      <td>0</td>\n",
       "    </tr>\n",
       "    <tr>\n",
       "      <th>2</th>\n",
       "      <td>17</td>\n",
       "      <td>3.0</td>\n",
       "      <td>0</td>\n",
       "      <td>8</td>\n",
       "      <td>58</td>\n",
       "      <td>0</td>\n",
       "      <td>10</td>\n",
       "      <td>11</td>\n",
       "      <td>3</td>\n",
       "      <td>1</td>\n",
       "      <td>1</td>\n",
       "      <td>1</td>\n",
       "      <td>0</td>\n",
       "    </tr>\n",
       "    <tr>\n",
       "      <th>3</th>\n",
       "      <td>17</td>\n",
       "      <td>3.0</td>\n",
       "      <td>0</td>\n",
       "      <td>8</td>\n",
       "      <td>46</td>\n",
       "      <td>0</td>\n",
       "      <td>10</td>\n",
       "      <td>11</td>\n",
       "      <td>3</td>\n",
       "      <td>1</td>\n",
       "      <td>1</td>\n",
       "      <td>1</td>\n",
       "      <td>0</td>\n",
       "    </tr>\n",
       "    <tr>\n",
       "      <th>4</th>\n",
       "      <td>17</td>\n",
       "      <td>2.0</td>\n",
       "      <td>1</td>\n",
       "      <td>5</td>\n",
       "      <td>165</td>\n",
       "      <td>1</td>\n",
       "      <td>10</td>\n",
       "      <td>11</td>\n",
       "      <td>3</td>\n",
       "      <td>1</td>\n",
       "      <td>1</td>\n",
       "      <td>1</td>\n",
       "      <td>0</td>\n",
       "    </tr>\n",
       "  </tbody>\n",
       "</table>\n",
       "</div>"
      ],
      "text/plain": [
       "  location_id  unit_sales onpromotion category_of_item class perishable city  \\\n",
       "0          17        12.0           0                8    29          0   10   \n",
       "1          17         9.0           0                8    29          0   10   \n",
       "2          17         3.0           0                8    58          0   10   \n",
       "3          17         3.0           0                8    46          0   10   \n",
       "4          17         2.0           1                5   165          1   10   \n",
       "\n",
       "  state type cluster Month Day Week  \n",
       "0    11    3       1     1   1    0  \n",
       "1    11    3       1     1   1    0  \n",
       "2    11    3       1     1   1    0  \n",
       "3    11    3       1     1   1    0  \n",
       "4    11    3       1     1   1    0  "
      ]
     },
     "execution_count": 15,
     "metadata": {},
     "output_type": "execute_result"
    }
   ],
   "source": [
    "train_subset.head()"
   ]
  },
  {
   "cell_type": "code",
   "execution_count": 16,
   "metadata": {
    "colab": {
     "base_uri": "https://localhost:8080/",
     "height": 294
    },
    "id": "0W8aK-qL8Ubs",
    "outputId": "9c809bb0-2221-4dfa-d837-064e3736a52f"
   },
   "outputs": [
    {
     "data": {
      "text/plain": [
       "<AxesSubplot:>"
      ]
     },
     "execution_count": 16,
     "metadata": {},
     "output_type": "execute_result"
    },
    {
     "data": {
      "image/png": "[encoded data removed]",
      "text/plain": [
       "<Figure size 432x288 with 1 Axes>"
      ]
     },
     "metadata": {
      "needs_background": "light"
     },
     "output_type": "display_data"
    }
   ],
   "source": [
    "train_subset.unit_sales.hist()"
   ]
  },
  {
   "cell_type": "code",
   "execution_count": 17,
   "metadata": {
    "id": "CBGAbax6UNbb"
   },
   "outputs": [],
   "source": [
    "# Splitting the data into train and validation. \n",
    "\n",
    "from sklearn.model_selection import train_test_split\n",
    "\n",
    "X = train_subset.drop(['unit_sales'], axis = 1)\n",
    "\n",
    "y = train_subset['unit_sales']\n",
    "\n",
    "X_train, X_test, y_train, y_test = train_test_split(X, y, test_size=0.30, random_state=42)"
   ]
  },
  {
   "cell_type": "code",
   "execution_count": 18,
   "metadata": {
    "id": "rwP9W6rEUSxV"
   },
   "outputs": [],
   "source": [
    "# Custom Function for MAPE(Error Metric)\n",
    "\n",
    "def mean_absolute_percentage_error(y_true, y_pred): \n",
    "    y_true, y_pred = np.array(y_true), np.array(y_pred)\n",
    "    return np.mean(np.abs((y_true - y_pred) / y_true)) * 100"
   ]
  },
  {
   "cell_type": "code",
   "execution_count": 19,
   "metadata": {
    "id": "MyTbzRW9vHYU"
   },
   "outputs": [],
   "source": [
    "# Log transforming the target variable \n",
    "\n",
    "y_train_log = np.log1p(y_train)\n",
    "y_test_log = np.log1p(y_test)"
   ]
  },
  {
   "cell_type": "code",
   "execution_count": 25,
   "metadata": {},
   "outputs": [],
   "source": [
    "# Categorical Columns \n",
    "\n",
    "cat_cols = ['location_id','onpromotion','category_of_item','class','perishable','city','state','type','cluster','Month','Day','Week']"
   ]
  },
  {
   "cell_type": "markdown",
   "metadata": {
    "id": "oPWl5c8t2-t4"
   },
   "source": [
    "## LGBM"
   ]
  },
  {
   "cell_type": "code",
   "execution_count": 26,
   "metadata": {
    "colab": {
     "base_uri": "https://localhost:8080/"
    },
    "id": "MBKhNfkH3zfR",
    "outputId": "4f7e05ec-06bf-4949-91fb-4c63fd4b8506"
   },
   "outputs": [
    {
     "name": "stdout",
     "output_type": "stream",
     "text": [
      "82.58407165058243\n",
      "82.83295288281495\n"
     ]
    }
   ],
   "source": [
    "from lightgbm import LGBMRegressor \n",
    "\n",
    "\n",
    "## Light GBM \n",
    "\n",
    "LGB_model = LGBMRegressor()\n",
    "\n",
    "LGB_model.fit(X_train, y_train_log,categorical_feature = cat_cols,verbose = 0)\n",
    "\n",
    "# Prediction \n",
    "\n",
    "LGB_Model_Y_train_pred = LGB_model.predict(X_train)\n",
    "LGB_Model_Y_test_pred = LGB_model.predict(X_test)\n",
    "\n",
    "\n",
    "LGB_Model_Y_train_pred =np.expm1(LGB_Model_Y_train_pred)\n",
    "LGB_Model_Y_test_pred =np.expm1(LGB_Model_Y_test_pred)\n",
    "\n",
    "Train_score_LGB= mean_absolute_percentage_error(y_train,LGB_Model_Y_train_pred)\n",
    "Test_score_LGB = mean_absolute_percentage_error(y_test,LGB_Model_Y_test_pred)\n",
    "\n",
    "print(Train_score_LGB)\n",
    "print(Test_score_LGB)"
   ]
  },
  {
   "cell_type": "code",
   "execution_count": 30,
   "metadata": {},
   "outputs": [
    {
     "data": {
      "text/plain": [
       "<AxesSubplot:title={'center':'Feature importance'}, xlabel='Feature importance', ylabel='Features'>"
      ]
     },
     "execution_count": 30,
     "metadata": {},
     "output_type": "execute_result"
    },
    {
     "data": {
      "image/png": "[encoded data removed]",
      "text/plain": [
       "<Figure size 432x288 with 1 Axes>"
      ]
     },
     "metadata": {
      "needs_background": "light"
     },
     "output_type": "display_data"
    }
   ],
   "source": [
    "## Feature importance \n",
    "\n",
    "import lightgbm\n",
    "\n",
    "lightgbm.plot_importance(LGB_model)"
   ]
  },
  {
   "cell_type": "markdown",
   "metadata": {
    "id": "9-F7aIRsuY0n"
   },
   "source": [
    "### Test Data Prep"
   ]
  },
  {
   "cell_type": "code",
   "execution_count": null,
   "metadata": {
    "colab": {
     "base_uri": "https://localhost:8080/"
    },
    "id": "EKrr7bNWuckE",
    "outputId": "c2d8f41f-3f50-403e-ea74-a6f9b5867280"
   },
   "outputs": [],
   "source": [
    "test.info()"
   ]
  },
  {
   "cell_type": "code",
   "execution_count": null,
   "metadata": {
    "id": "POG9B8dOU7WM"
   },
   "outputs": [],
   "source": [
    "test['date'] = pd.to_datetime(test['date'])"
   ]
  },
  {
   "cell_type": "code",
   "execution_count": null,
   "metadata": {
    "id": "P67lKqu6bh9o"
   },
   "outputs": [],
   "source": [
    "test = pd.merge(test,item_details,how = 'left', on = 'item_id')\n",
    "\n",
    "test = test.rename(columns = {'locationId':'location_id'})\n",
    "\n",
    "test = pd.merge(test,location_details,how = 'left', on = 'location_id')"
   ]
  },
  {
   "cell_type": "code",
   "execution_count": null,
   "metadata": {
    "id": "_w8xiF9tVIih"
   },
   "outputs": [],
   "source": [
    "test['Month'] =pd.DatetimeIndex(test['date']).month.astype('int8')\n",
    "test['Day'] =pd.DatetimeIndex(test['date']).day.astype('int8')\n",
    "test['Week'] =pd.DatetimeIndex(test['date']).weekday.astype('int8')"
   ]
  },
  {
   "cell_type": "code",
   "execution_count": null,
   "metadata": {
    "colab": {
     "base_uri": "https://localhost:8080/",
     "height": 200
    },
    "id": "FBbX8trQVSnb",
    "outputId": "05a594d2-be32-4338-e9db-88b3d77ad1c8"
   },
   "outputs": [],
   "source": [
    "test.head()"
   ]
  },
  {
   "cell_type": "code",
   "execution_count": null,
   "metadata": {
    "id": "Mf__UMN0VlSz"
   },
   "outputs": [],
   "source": [
    "ID = test['id']"
   ]
  },
  {
   "cell_type": "code",
   "execution_count": null,
   "metadata": {
    "id": "WtLdN-dgcDMx"
   },
   "outputs": [],
   "source": [
    "test = test.drop(['id','date','item_id','state'],axis = 1)"
   ]
  },
  {
   "cell_type": "code",
   "execution_count": null,
   "metadata": {
    "colab": {
     "base_uri": "https://localhost:8080/"
    },
    "id": "rsTVdT7Xcnny",
    "outputId": "44e31396-9700-4c84-d777-3cb643f853ed"
   },
   "outputs": [],
   "source": [
    "test = df_lbl_enc(test)"
   ]
  },
  {
   "cell_type": "code",
   "execution_count": null,
   "metadata": {
    "id": "I8p-H5rBa-Go"
   },
   "outputs": [],
   "source": [
    "test['onpromotion']= lb.fit_transform(test['onpromotion'])"
   ]
  },
  {
   "cell_type": "code",
   "execution_count": null,
   "metadata": {
    "colab": {
     "base_uri": "https://localhost:8080/"
    },
    "id": "GboAWzwjWbYR",
    "outputId": "3bbc850f-8c18-44a4-b637-be4d4385509b"
   },
   "outputs": [],
   "source": [
    "test = cat_converter(test)"
   ]
  },
  {
   "cell_type": "code",
   "execution_count": null,
   "metadata": {
    "colab": {
     "base_uri": "https://localhost:8080/"
    },
    "id": "DIndk-iUWpYE",
    "outputId": "667b59ed-1182-420c-adbd-a1a50387e1ee"
   },
   "outputs": [],
   "source": [
    "test.info()"
   ]
  },
  {
   "cell_type": "code",
   "execution_count": null,
   "metadata": {
    "colab": {
     "base_uri": "https://localhost:8080/",
     "height": 200
    },
    "id": "I1rN54OhWsH-",
    "outputId": "8b6c1a91-a042-402a-9457-5e75327357db"
   },
   "outputs": [],
   "source": [
    "test.head()"
   ]
  },
  {
   "cell_type": "code",
   "execution_count": null,
   "metadata": {
    "id": "q-3p8AKRXcvs"
   },
   "outputs": [],
   "source": [
    "Test_pred = RF_model.predict(test)"
   ]
  },
  {
   "cell_type": "code",
   "execution_count": null,
   "metadata": {
    "id": "NOtea5VPXpwY"
   },
   "outputs": [],
   "source": [
    "Test_pred"
   ]
  },
  {
   "cell_type": "code",
   "execution_count": null,
   "metadata": {
    "id": "kpRf4mKwX0Zp"
   },
   "outputs": [],
   "source": [
    "Test_Pred_best = np.expm1(Test_pred)"
   ]
  },
  {
   "cell_type": "code",
   "execution_count": null,
   "metadata": {
    "id": "NYzFFp32YC_T"
   },
   "outputs": [],
   "source": [
    "Test_Pred_best"
   ]
  },
  {
   "cell_type": "code",
   "execution_count": null,
   "metadata": {
    "id": "eJh3JgkfYFIi"
   },
   "outputs": [],
   "source": [
    "res = pd.DataFrame(Test_Pred_best)\n",
    "ID = pd.DataFrame(ID)"
   ]
  },
  {
   "cell_type": "code",
   "execution_count": null,
   "metadata": {
    "id": "lNlB8ZNvYggk"
   },
   "outputs": [],
   "source": [
    "res = res.rename(columns={res.columns[0]: 'unit_sales'})"
   ]
  },
  {
   "cell_type": "code",
   "execution_count": null,
   "metadata": {
    "id": "JkUuDO6UYo10"
   },
   "outputs": [],
   "source": [
    "gb = pd.concat([ID,res], axis = 1)"
   ]
  },
  {
   "cell_type": "code",
   "execution_count": null,
   "metadata": {
    "id": "px_9pIRIY6dp"
   },
   "outputs": [],
   "source": [
    "gb"
   ]
  },
  {
   "cell_type": "code",
   "execution_count": null,
   "metadata": {
    "id": "rpjJz2KtkOkn"
   },
   "outputs": [],
   "source": [
    "gb['unit_sales'] = gb['unit_sales'].round(2)"
   ]
  },
  {
   "cell_type": "code",
   "execution_count": null,
   "metadata": {
    "id": "l-LD7Zw2ZYvy"
   },
   "outputs": [],
   "source": [
    "gb.to_csv(\"submission_4.csv\",index= False)"
   ]
  },
  {
   "cell_type": "code",
   "execution_count": null,
   "metadata": {},
   "outputs": [],
   "source": []
  }
 ],
 "metadata": {
  "colab": {
   "collapsed_sections": [],
   "name": "Model Building with Test Data.ipynb",
   "provenance": []
  },
  "kernelspec": {
   "display_name": "Python 3",
   "language": "python",
   "name": "python3"
  },
  "language_info": {
   "codemirror_mode": {
    "name": "ipython",
    "version": 3
   },
   "file_extension": ".py",
   "mimetype": "text/x-python",
   "name": "python",
   "nbconvert_exporter": "python",
   "pygments_lexer": "ipython3",
   "version": "3.8.5"
  }
 },
 "nbformat": 4,
 "nbformat_minor": 1
}
